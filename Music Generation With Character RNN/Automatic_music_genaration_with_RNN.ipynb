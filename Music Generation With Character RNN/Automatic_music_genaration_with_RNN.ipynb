{
  "cells": [
    {
      "cell_type": "markdown",
      "metadata": {
        "id": "J4kPU-T4eV_h"
      },
      "source": [
        "**<center><h1>Automatic music genaration using RNN</center>**"
      ]
    },
    {
      "cell_type": "markdown",
      "metadata": {
        "id": "7Cf-sAGcwo1e"
      },
      "source": [
        "\n",
        "# **1. Problem Statement**\n",
        "\n",
        "- **ABC music prod. pvt.ltd** is a reknowned **audio-video production house** based out of **Mumbai, India**\n",
        "\n",
        "- As **COVID-19** cases are increasing day by day it is almost impossible for the musicians to cope up with real time studio work.\n",
        "\n",
        "- Hence, the company wants you to make an **AI based music genaration system.**\n",
        "\n",
        "- The goal of this project is to make an **AI based music genaration system.**\n",
        "\n",
        "- The key contraint to the problem is **accuracy.**\n",
        "\n",
        "\n",
        "<center><img src = \"https://cdn.dribbble.com/users/316072/screenshots/10724786/laptop_music_animation_01_1600x1200.gif\"></center>\n",
        "\n",
        "### **Scenario**\n",
        "\n",
        "- You have been hired as a **freelance data scientist** for **ABC music prod. pvt.ltd**\n",
        "\n",
        "- The model should read a text file in **abc format**.\n",
        "\n",
        "- The model should genarate the **corresponding music** framed out of that note sequence.\n"
      ]
    },
    {
      "cell_type": "markdown",
      "metadata": {
        "id": "GOztPJKBwqx1"
      },
      "source": [
        "# **2. Importing libraries**"
      ]
    },
    {
      "cell_type": "code",
      "execution_count": 1,
      "metadata": {
        "id": "K2SqGIKKAGOC"
      },
      "outputs": [],
      "source": [
        "import numpy as np                                     # Importing numpy\n",
        "from keras.models import Sequential, load_model        # Importing Sequential layers and load_model\n",
        "from keras.layers import LSTM, Dropout                 # Importing LSTM and Dropout layers\n",
        "from keras.layers import TimeDistributed               # Importing TimeDistributed layers\n",
        "from keras.layers import Dense, Activation, Embedding  # Importing Dense, Activation and Embedding layers\n",
        "import os                                              # Importing OS\n",
        "import json                                            # Importing JSON\n",
        "import argparse                                        # Importing Argsparse"
      ]
    },
    {
      "cell_type": "markdown",
      "metadata": {
        "id": "Gq7wXmHmsgZI"
      },
      "source": [
        "# **3. Data Reading**\n",
        "\n",
        "- In this step we will **read the data** from the **input text corpus**.\n",
        "- We will use **UTF-8** encoding for making the data"
      ]
    },
    {
      "cell_type": "code",
      "execution_count": 2,
      "metadata": {
        "id": "Zeu80T0YaPGT"
      },
      "outputs": [],
      "source": [
        "with open('/content/input.txt','rb') as f:\n",
        "      input_text = f.read()\n",
        "input_text=str(input_text,'utf-8')"
      ]
    },
    {
      "cell_type": "code",
      "execution_count": 3,
      "metadata": {
        "colab": {
          "base_uri": "https://localhost:8080/",
          "height": 140
        },
        "id": "J19jyVTutSnJ",
        "outputId": "f8ca1869-4ede-4112-db97-935bae8783b9"
      },
      "outputs": [
        {
          "data": {
            "application/vnd.google.colaboratory.intrinsic+json": {
              "type": "string"
            },
            "text/plain": [
              "'X: 1\\nT:A and D\\n% Nottingham Music Database\\nS:EF\\nY:AB\\nM:4/4\\nK:A\\nM:6/8\\nP:A\\nf|\"A\"ecc c2f|\"A\"ecc c2f|\"A\"ecc c2f|\"Bm\"BcB \"E7\"B2f|\\n\"A\"ecc c2f|\"A\"ecc c2c/2d/2|\"D\"efe \"E7\"dcB| [1\"A\"Ace a2:|\\n [2\"A\"Ace ag=g||\\nK:D\\nP:B\\n\"D\"f2f Fdd|\"D\"AFA f2e/2f/2|\"G\"g2g ecd|\"Em\"efd \"A7\"cBA|\\n\"D\"f^ef dcd|\"D\"AFA f=ef|\"G\"gfg \"A7\"ABc |[1\"D\"d3 d2e:|[2\"D\"d3 d2||\\n\\n\\nX: 2\\nT:Abacus\\n% Nottingham Music Database\\nS:By Hugh Barwell, via Phil Rowe\\nM:6/8\\nK:G\\n\"G\"g2g B^AB|d2d G3|\"Em\"GAB \"Am\"A2A|\"D7\"ABc \"G\"BAG|\\n\"G\"g2g B^AB|d2d G2G|\"Em\"GAB \"Am\"A2G|\"D7\"FGA \"G\"G3:||:\\n\"D7\"A^GA DFA|\"G\"B^AB G3|\"A7\"^c=c^c A^ce|\"D7\"fef def|\\n\"G\"g2g de=f|\"E7\"e2e Bcd|\"Am\"c2c \"D7\"Adc| [1\"G\"B2A G3:|\\n [2\"G\"B2A G2F||\"Em\"E2E G2G|B2B e2e|\"Am\"c2A \"B7\"FBA|\"Em\"G2F E3|\"Em\"EFG \"Am\"ABc|\\n\"B7\"B^c^d \"Em\"e2e|\"F#7\"f2f f2e|\"B7\"^def BAF|\"Em\"E2E G2G|B2B e2e|\\n\"Am\"c2A \"B7\"FBA|\"Em\"G2F E3|\"Em\"EFG \"Am\"ABc|\"B7\"B^c^d \"Em\"e2e|\\n\"F#7\"f2e \"B7\"^def |[1\"Em\"e3 \"D7\"d3:|[2\"Em\"e3 \"E7\"e3||\\n\\n\\nX: 3\\nT:The American Dwarf\\n% Nottingham Music Database\\nS:FTB, via EF\\nM:6/8\\nK:D\\nA|\"D\" def fed|\"G\" BdB AFD| \"D\"DFA \"G\"B2 A|\"Em\" cee \"A7\" e2 A|\\n\"D\" def fed|\"G\" BdB \"D\"AFD|\"D\" DFA \"G\"B2 A|\"A7\" Add \"D\" d2:|\\n\"B\"e|\"D\"fga agf|\"G\" gab \"A7\"bag|\"D\"fga \"D\"agf|\"Em\" gfg \"A7\"e2 g|\\n\"D\"fga agf|\"G\"gab \"A7\"bag|\"D\" fga \"A7\"efg|\"D\" fdd d2 :|\\n\\n\\nX: 4\\nT:Ap Shenkin\\n% Nottingham Music Database\\nY:AABABAC\\nS:FTB 1 p 46, via EF\\nM:4/4\\nK:G\\nM:6/8\\nP:A\\nd/2c/2|\"G\"B2B Bgf|\"C\"e2e efg|\"G\"ded \"Em\"dcB|\"Am\"cAA \"D7\"Adc|\\n\"G\"BcB Bgf|\"C\"efe efg|\"G\"ded \"D7\"cBA|\"G\"G2B G2|\\nP:B\\ng/2a/2|\"G\"b2g \"D\"a2f|\"G\"gfg \"G\"dcB|\"C\"cde \"G\"dgB|\"Am\"BAA \"D7\"A2g/2a/2|\\n\"G\"b2g \"D\"a2f|\"Em\"gfe \"D7\"agf|\"G\"bag \"A7\"fge|\"D7\"dgf ed\\\\\\nP:C\\nc|\\n\\n\\nX: 5\\nT:Armstrongs\\n% Nottingham Music Database\\nS:Kevin Briggs, via EF\\nY:AB\\nM:6/8\\nK:A\\nP:A\\ne|\"A\"eaf e2c|\"E7\"BAB \"A\"c3|\"A\"E2A \"E7/b\"BAB|\"A/c+\"cBc \"D\"dcd|\\n\"A\"eaf e2c|\"E7\"BAB \"A\"c3|\"E7\"E2E EFG|\"A\"A3 A2:|\\nP:B\\ne|\"A\"ecA Acd|\"A\"ecA \"E7\"B2A|\"A\"ecA cAc|\"Bm\"B2B \"E7\"dcd|\\n\"A\"ecA Acd|\"A\"ecA Acd|\"E7\"e2e efg|\"A\"aec A2:|\\n\\n\\nX: 6\\nT:Arthur Darley\\n% Nottingham Music Database\\nS:Formally, but with lift, via Phil Rowe\\nY:ABCB\\nM:6/8\\nK:D\\nP:A\\ndc/2B/2|A2D AGF|EDC D3|d2e fgf|edc d2A|d2e fgf|\\nM:9/8\\nedc d2A BAG|\\nM:6/8\\nFED EDC|DA,B, CDE|Ddd Aee|Aff Agg|fed edc|d3 dcB||\\nP:B\\nA2D AGF|EDC D3|d2e fgf|edc d2A|d2e fgf|\\nM:9/8\\nedc d2A BAG|\\nM:6/8\\nFED EDC|DA,B, CDE|Ddd Aee|Aff Agg|fed edc|d3 d=c_B\\nK:F\\n|:A2f fef|A2f fef|Aff Agg|Aaa Abb|A2f fef|A2f f2g|fed ed^c|[1d3 dcB:|[2d3 d2e||\\nK:D\\nfgf edc|d2A BAG|FED EDC|DA,B, CDE|Ddd Aee|Aff Agg|fed edc|\\nP:C\\nd3 dcB||\\n\\n\\nX: 7\\nT:As Luck Will Have It\\n% Nottingham Music Database\\nS:John Lagden, via EF\\nM:6/8\\nK:D\\nE|\"D\"F3 \"A7/c+\"A2G|\"Bm\"FGF \"A7\"E3|\"D\"F2A d2c|\"G\"BcB \"D\"A3|\"G\"G2B \"A7\"A2G|\\\\\\n\"D\"F2A d2f|\\n\"G\"efe \"E7\"dcB|\"A7\"ABA GFE|\"D\"F3 \"A7/c+\"A2G|\"Bm\"FGF \"A7\"E3|\"D\"F2A d2c|\\n\"G\"BcB \"D\"A3|\"G\"G2B \"A7\"A2G|\"D\"F2E \"Bm\"D2F|\"Em\"EFG \"A7\"F2E|\"D\"D3 -D2||\\nA|\"D\"d3 fed|\"A\"c2d e2A|\"Bm\"Bcd c2B|\"F#m\"A3 A2A|\"G\"B3 dcB|\\n\"D\"A2d f2a|\"G\"agf \"E7\"fed|\"A7\"e3 e2A|\"D\"d3 fed|\"A\"c2B A2A|\\n\"Bm\"B3 dcB|\"F#m\"A3 A2F|\"G\"G3 BAG|\"D\"F2A d2D|\"Em\"EFG \"A7\"F2E|\"D\"D3 -D2||\\n\\n\\nX: 8\\nT:Atholl Highlanders\\n% Nottingham Music Database\\nY:AABBCCDD\\nS:Kevin Briggs, via EF\\nM:6/8\\nK:A\\nP:A\\n|:c/2d/2|\"A\"e3 ecA|\"A\"ecA \"E7\"Bcd|\"A\"e3 ecA|\"D\"Bcd \"E7\"cBA|\\n\"A\"e3 ecA|\"A\"ecA \"E7\"Bcd|\"A\"e/2a3/2e \"D\"fed|\"E7\"cdB \"A\"A2:|\\nP:B\\n|:e|\"A\"Ace Ace|\"D\"Adf Adf|\"A\"Ace Ace|\"Bm\"Bcd \"E7\"c2B|\\n\"A\"Ace Ace|\"D\"Adf Adf|\"A\"e/2a3/2e \"D\"fed|\"E7\"cdB \"A\"A2:|\\nP:C\\n|:e|\"A\"aee edc|\"A\"aee edc|\"A\"aee edc|\"D\"Bcd \"E7\"cBA|\\n\"A\"aee edc|\"A\"aee edc|\"A\"aee fed|\"E7\"cdB \"A\"A2:|\\nP:D\\n|:A/2B/2|\"A\"cAc cAc|\"D\"dBd dBd|\"A\"cAc cAc|\"G\"B=GB BGB|\\n\"A\"cAc cAc|\"E7\"dBd dBd|\"A\"e/2a3/2e \"D\"fed|\"E7\"cdB \"A\"A2:|\\n\\n\\nX: 9\\nT:Aunt Mary\\'s Canadian Jig\\n% Nottingham Music Database\\nS:Ms L Dolman, via EF\\nM:6/8\\nK:D\\nA|\"D\"f2f fga|d2d dcB|\"D\"ABA \"B7\"AGF|\"Em\"E2E E2A|\\n\"A7\"e2e efg|e2d c2B|ABA ABA|\"D\"F3 F2:|\\nA|\"D\"ABA fgf|e2d d2z|\"D\"AFA \"B7\"BcB|\"Em\"A2G G2z|\\n\"A7\"GFG efe|d2c c2B|ABA ABc|\"D\"d3 d2:|\\n\\n\\nX: 10\\nT:Avon Jig\\n% Nottingham Music Database\\nS:Pauline Wilson, via Phil Rowe\\nM:6/8\\nK:Em\\nB|\"Em\"e2e B2B|GAB E3|\"D7\"FED AGF|FED AGF|\\n\"Em\"e2e B2B|\"Em\"GAB E3|\"D7\"FED A2A|\"Em\"GEE E2::\\nD|\"G\"G2G B2B|\"D7\"ABA D3|\"G\"G2G B2B|\"Am\"d2d \"D7\"cBA|\"G\"G2G B2B|\"D7\"ABA D3|\\\\\\n\"Em\"EFG \"A7\"FED|\"Em\"E3 -E2:|\\n\\n\\nX: 11\\nT:Backstairs Jig\\n% Nottingham Music Database\\nS:EF\\nY:AB\\nM:4/4\\nK:G\\nM:6/8\\nP:A\\nd|\"G\"d2b baf|\"G\"a2g g2g|\"D7\"f2f fef|\"G\"a2g \"D7\"gfe|\\n\"G\"d2b baf|\"G\"a2g g2g|\"D7\"f2f fef|\"G\"a2g fg:|\\nP:B\\nd|\"G\"gfg bge|\"D7\"d2d def|\"G\"gfg bge|\"A7\"e2d \"D7\"def|\\n\"G\"g2g \"G7\"gab|\"C\"e2e \"Am\"efg|\"D7\"ded cBF|\"G\"GBd g2:|\\n\\n\\nX: 12\\nT:The Leaking Bagpipe\\n% Nottingham Music Database\\nS:The Cantii Collection, via Phil Rowe\\nM:6/8\\nK:G\\nD3 |\"Em\"E3 B2A|B2G E2G|\"D\"F3 A2G|A2F DEF|\"Em\"E3 B2A|\"Em\"B2c d2e|\"G\"B2A \"C\"G2F|\\\\\\n\"Em\"E3 ::\\nG3 |\"Am\"A3 c2B|A2B c2A|\"Em\"E3 G2F|E2F G2E|\"Am\"A3 c2B|A2B c2d|\"Em\"e2f gfg|\\\\\\n\"Em\"e3 :|\\n\\n\\nX: 13\\nT:Ballybunion\\n% Nottingham Music Database\\nS:Folk Camps, via EF\\nY:AB\\nM:6/8\\nK:G\\nP:A\\nB/2A/2|\"G\"G3 \"C\"g2e|\"G/b\"dBG \"D7/a\"AFD|\"G\"G3 \"C\"g2e|\"G\"dBG \"D\"A2B|\\n\"G\"\"Em\"G3 g2e|\"G\"dBG GAB|\"C\"cde \"G/b\"dcB|\"D7/a\"cBA \"G\"G2:|\\nP:B\\n|:B|\"Em\"eBe gbg|\"Em\"eBe gbg|\"Em\"eBe g2a|\"Am\"bag \"B7\"agf|\\n\"Em\"eBe \"Em/d+\"gbg|\"Em/d\"eBe \"Em/c+\"g2a|\"Am/c\"bag \"B7\"agf|[1\"Em\"e3 e2:|[2\"Em\"e3 \"D7\"d2||\\n\\n\\nX: 14\\nT:Barbary Bell\\n% Nottingham Music Database\\nS:Kevin Briggs, via EF\\nY:AB\\nM:6/8\\nK:G\\nP:A\\nd|\"G\"GAG GBc|\"G\"ded dBG|\"C\"ABc \"G/b\"BAG|\"Am\"EGE \"D7\"E2D|\\n\"G\"GAG GBc|\"G\"ded dBG|\"C\"ABc \"G/b\"BAG|\"C\"E2F \"G\"G2:|\\nP:B\\nD|\"D7\"def \"G\"gag|\"D\"fed \"Em\"edB|\"Bm\"def \"Em\"gag|\"Bm\"fed \"Em\"e2d|\\n\"D7\"def \"G\"gdB|\"C\"cde \"G\"dBG|\"C\"ABc \"G/b\"BAG|\"C\"E2F \"G\"G2:|\\n\\n\\nX: 15\\nT:The Barley Mow\\n% Nottingham Music Database\\nS:Trad, arr Phil Rowe\\nM:6/8\\nK:G\\n\"G\"G2G \"D\"A2A|\"G\"B2c dBG|\"C\"E2E c2B|\"Am\"ABG \"D7\"FED|\"G\"G2G \"D\"A2A|\"G\"B2c dBG|\\\\\\n\"C\"EcB \"D7\"AGF|\"G\"G6:|\\n\"G\"d2d \"C\"e2e|\"G\"d2g dBG|\"G\"d2d \"C\"e2e|\"G\"dBG \"D\"A3|\"G\"d2d \"C\"e2e|\"G\"d2g g2f|\\\\\\n\"A7\"egf ed^c|\"D7\"d3 D3||\\n\"G\"G2G \"D\"A2A|\"G\"B2c dBG|\"C\"E2E c2B|\"Am\"ABG \"D7\"FED|\"G\"G2G \"D\"A2A|\"G\"B2c dBG|\\\\\\n\"C\"EcB \"D7\"AGF|\"G\"G6||\\n\\n\\nX: 16\\nT:Bean Setting (North Skelton)\\n% Nottingham Music Database\\nS:EF\\nM:6/8\\nK:G\\nG/2A/2|\"G\"BAG D2D|\"C\"EFG \"D7\"FED|\"G\"BAG D2D|\"C\"E2D \"D7\"G2A|\"G\"BAG D2D|\\n\"C\"EFG \"D7\"FED|\"G\"BAG D2D|\"C\"E2D \"D7\"G2A|\"G\"B2B \"D\"A2A|\"Em\"G2G \"Bm\"FED|\\n\"Em\"G2B \"D7\"A2F|\"G\"G2B \"G7\"d3|\"C\"e2e \"G\"d2B|\"D7\"c2c \"G\"BAG|\"G\"GAB \"C\"c2B|\\\\\\n\"D7\"AGF \"G\"G2||\\n\\n\\nX: 17\\nT:Belfast Almanac\\n% Nottingham Music Database\\nS:Trad, arr Phil Rowe\\nM:6/8\\nK:G\\nD|\"G\"G2G \"D7\"FED|\"C\"E2F G2A|\"G\"B2G \"D7\"c2A|\"G\"B2G \"D7\"c2A|\\n\"G\"B3/2c/2d \"Am\"E2E|\"A7\"ABG \"D7\"FED|\"C\"EFG \"D7\"AFD|\"G\"G3 -G2::\\nc|\"G\"Bcd def|g2g g3|\"G\"B2B Bcd|\"C\"e2e e3|\\n\"G\"dcB \"C\"cde|\"G\"dBd D2D|\"C\"EFG \"D7\"AFD|\"G\"G3 -G2::\\nA|\"G\"B2G \"D7\"c2A|\"G\"B2G \"D7\"c2A|\"G\"Bcd \"C\"E2E|\"A7\"ABG \"D7\"FED|\\n\"G\"B2G \"D7\"c2A|\"G\"B2G Bcd|\"C\"EFG \"D7\"AFD|\"G\"G3 -G2:|\\n\\n\\nX: 18\\nT:Bell\\'s Favourite\\n% Nottingham Music Database\\nS:Don Messer\\'s Way Down East Fiddlin\\' Tunes, via Phil Rowe\\nM:6/8\\nK:D\\nA|\"D\"FEF \"G\"GFG|\"D\"BAF A2d|\"A7\"cde ABc|\"D\"dcB \"A7\"A2G|\\n\"D\"FEF \"G\"GFG|\"D\"BAF A2d|\"A7\"cde ABc|\"D\"d3 d2::\\nf|\"D\"aba fef|\"Em\"gfg e2d|\"A7\"cde ABc|\"D\"dcB \"A7\"A2f|\\n\"D\"aba fef|\"Em\"gfg e2d|\"A7\"cde ABc|\"D\"d3 d2:|\\n\\n\\nX: 19\\nT:Squire of Bensham\\n% Nottingham Music Database\\nS:NPTB, via EF\\nY:AB\\nM:4/4\\nK:C\\nM:6/8\\nP:A\\nc/2d/2|\"C\"edc \"F\"A2F|\"C/e\"G2c \"G7/d\"E2c|\"C\"edc g2c|\"Dm\"Bdd \"G7\"d2c/2d/2|\\n\"C\"edc \"F\"A2c|\"C\"G2c \"Am\"E2c|\"Dm\"def \"G7\"e2d|\"C\"edc c2:|\\nP:B\\n|:c/2d/2|\"C\"ed\"C/e\"c g2c|\"F\"c\\'2a \"G7\"g2c|\"C\"edc g2c|\"Dm\"Adc \"G7\"BAG|\\n\"C\"ed\"C/c\"c g2c|\"F\"c\\'2a \"G\"ggf|\"Am\"abc\\' \"G7/b\"bd\\'b|[1\"C\"c\\'ge c2:|[2 \"C\" c\\'ge c3||\\n\\n\\nX: 20\\nT:The Bent Pin\\n% Nottingham Music Database\\nS:Trad, arr Phil Rowe\\nM:6/8\\nK:D\\n\"A7\"A|\"D\"D2F A2d| \"G7\"^A2B \"D\"=AFD|\\\\\\n\"G7\"^A2B \"D\"=AFD|\"E7\" =FDF \"A7\"EDB,|\\n\"D\"D2^F A2d|\\\\\\n\"G7\"^A2B \"D\"=AFD|\"E7\"=FDF \"A7\"EDB,|\"D\"D3 -D2::\\n\"D\"d|\"G7\"B2d e2=f| \"D\"^fdB A2d|\"G7\"B=Fd e2=f|\"D\"fdB A2d|\\n\"G7\"B=Fd e2=f\\\\\\n| \"D\"=fdB \"Bm\"ABA|\\\\\\n=FDF \"A7\"EDB,|\"D\"D3 -D2:|\\n\\n\\nX: 21\\nT:Biddy The Bowl Wife\\n% Nottingham Music Database\\nS:FTB 2 34, via EF\\nY:AB\\nM:6/8\\nK:A\\nP:A\\nc|\"A\"EAc e2f|\"A\"ecA a2f|\"A\"ecA EAc|\"D\"dcd \"E7\"B2c|\\n\"A\"EAc e2f|\"A\"ecA a2f|\"A\"ecA EAc|\"E7\"B3 \"A\"A2:|\\nP:B\\ne|\"A\"efe a2g|\"D\"bag fga|\"A\"ecA EAc|\"E7\"dcd B2e|\\n\"A\"efe a2g|\"D\"bag fga|\"A\"ecA EAc|\"E7\"B3 \"A\"A2:|\\n\\n\\nX: 22\\nT:Bill Charlton\\'s Fancy\\n% Nottingham Music Database\\nS:Billy Pigg, via EF\\nY:ABC\\nM:6/8\\nK:G\\nP:A\\n(3d/2e/2f/2|\"G\"g2G f2G|e2G d3|\"G\"DGB dBG|\"D\"DFA c3|\"D\"aAc g2A|\\n\"D\"f2A e3|\"D7\"d^cd e2=c|\"G\"Bdg B2d|\"G\"gGB f2G|e2G d3|\"G\"DGB dBG|\\n\"C\"ecA E3|\"C\"ecG EGc|\"G\"gdB GBd|\"D7\"fed ^cdF|\"G\"GBd g2:|\\nP:B\\n(3d/2e/2f/2|gGB fGB|eGB dGB|eGB dGB|cAF DFA|\\naAc gAc|fAc eAc|d^cd ^de=c|Bdg B2d|\\ngGB fGB|eGB dGB|eGB dGB|\"C\"ecA E3|\\n\"C\"ecG EGc|\"G\"gdB GBd|\"D7\"fed ^cdF|\"G\"GBd g2:|\\nP:C\\nd|bGB aBG|gGB fGB|eGB dGB|cAF DFA|\\naAc gAc|fAc eAc|d^cd ^de=c|Bdg B2d|\\nbGB aBG|gGB fGB|eGB dGB|\"C\"ecA E3|\\n\"C\"ecG EGc|\"G\"gdB GBd|\"D7\"fed ^cdF|\"G\"GBd g2:|\\n\\n\\nX: 23\\nT:Blackberry Quadrille\\n% Nottingham Music Database\\nS:Kevin Briggs, via EF\\nY:AB\\nM:6/8\\nK:D\\nP:A\\nf/2g/2|\"D\"a2a ba^g|\"D\"a2f d2f|\"A7\"e2c A2g|\"D\"fdB \"A7\"A2f/2g/2|\\n\"D\"a2a ba^g|\"D\"a2f d2f|\"A7\"e2c ABc|\"D\"d3 d2:|\\nP:B\\nc/2B/2|\"D\"A2B \"A7\"G2A|\"D\"F2A def|\"Em\"g2e \"A7\"cBc|\"D\"dfe \"G\"dcB|\\n\"D\"A2B \"A7\"G2A|\"D\"F2A def|\"G\"g2e \"A7\"cBc|\"D\"d3 d2:|\\n\\n\\nX: 24\\nT:Blackthorne Stick\\n% Nottingham Music Database\\nS:Kevin Briggs, via EF\\nY:AB\\nM:6/8\\nK:G\\nP:A\\nd|\"G\"gfg \"C\"ege|\"G\"dBG \"C\"AGE|\"G\"DGG \"D7\"FGA|\"G\"BAG \"D7\"A2d|\\n\"G\"gfg \"C\"age|\"G\"dBG \"C\"AGE|\"G\"DGG \"D7\"FGA|\"G\"BGG G2:|\\nP:B\\nd|\"G\"edd gdd|\"G\"edd gdd|\"G\"ede \"C\"gfe|\"Am\"dcB \"D7\"A2d|\\n\"G\"gfg \"C\"age|\"G\"dBG \"C\"AGE|\"G\"DGG \"D7\"FGA|\"G\"BGG G2:|\\n\\n\\nX: 25\\nT:Blarney Pilgrim\\n% Nottingham Music Database\\nY:AABBCC\\nS:Alistair Anderson, via EF\\nM:6/8\\nK:G\\nP:A\\n|:D|\"G\"DED DEG|\"C\"A2G ABc|\"G\"BAG \"C\"AGE|\"Am\"GEA \"D7\"GED|\\n\"G\"DED DEG|\"C\"A2G ABc|\"G\"BAG \"C\"AGE|\"D7\"GED D2:|\\nP:B\\n|:d|\"G\"ded dBG|\"Am\"AGA \"Em\"BGE|\"G\"ded dBG|\"C\"AGA \"D7\"GBd|\\n\"G\"g2e dBG|\"Am\"AGA \"Em\"BGE|\"Em\"B2G AGE|\"Em\"GAG G2:|\\nP:C\\n|:G|\"D\"A2D \"Em\"B2D|\"D\"A2D ABc|\"G\"BAG \"C\"AGE|\"Am\"GEA \"D7\"GED|\\n\"D\"A2D \"Em\"B2D|\"D\"A2D ABc|\"G\"BAG \"C\"AGE|\"D7\"GED D2:|\\n\\n\\nX: 26\\nT:Blaydon Races\\n% Nottingham Music Database\\nS:Kevin Briggs, via EF\\nM:6/8\\nK:D\\nA|\"D\"d2d d2d|\"D\"d2d d2d|\"A7\"e2e e2e|\"D\"f3 \"D7\"d3|\"G\"ggg g2g|\"D\"f2f f2f|\\n\"E7\"e2f e2d|\"A7\"c3 A3|\"D\"d2d d2d|\"D\"d2d d2d|\"A7\"e2e e2e|\"D\"f3 \"D7\"d3|\\\\\\n\"G\"ggg g2g|\\n\"D\"f2g a2a|\"A7\"a2g f2e|\"D\"d2e f2g|\"D\"a3 \"A7/e\"a2f|\"D/f+\"d3 \"G\"d2d|\\\\\\n\"E7/g+\"e2e \"A7\"e2e|\\n\"D\"f3 \"D7/c\"d3|\"G/b\"g2g \"A7/c+\"g2g|\"D\"f2f \"D/f+\"f2f|\"G\"e2f \"E7/g+\"e2d|\\\\\\n\"A\"c3 \"A7/g\"A3|\"D/f+\"d2d \"G\"d2d|\"D/f+\"d3 \"G\"d2d|\\n\"E7/g+\"e2e \"A7\"e2e|\"D\"f3 \"D7/c\"d3|\"G/b\"g2g \"A7/c+\"g2g|\"D\"f2g \"B7/f+\"a2a|\\\\\\n\"Em\"a2g \"A7\"f2e|\"D\"d3 d2||\\n\\n\\nX: 27\\nT:Bonnets So Blue\\n% Nottingham Music Database\\nY:AAB\\nS:Kevin Briggs, via EF\\nM:4/4\\nK:C\\nM:6/8\\nP:A\\n|:G|\"C\"cdc efg|\"G7\"GAG GAB|\"C\"ceg gec|\"G7\"d2e gfd|\\n\"C\"cdc efg|\"Dm\"GAG \"G7\"G2g|\"Am\"gfe \"G7\"dcB|\"C\"c3 c2:|\\nP:B\\n|:d/2c/2|\"G/b\"Bcd \"D7/a\"ded|\"G/b\"G3 \"D7/a\"G2c|\"G\"Bcd \"G7/f\"def|\"C/e\"g3 \"G7/d\"g2f|\\n\"C\"e2d c2B|\"Am\"A2 B c2 d|\"Am\" efe \"E7\" dcB|\"Am\" A3 \"G7\" G3|\\n\"C\"cdc efg|\"C\" cdc \"G7\" c2A|\"C\"ceg gec|\"Dm\" d3 \"G7\" e2d|\\n\"C\"cdc efg|\"G\"GAG G2 g| \"Am\" gfe \"G7\"dcB|\"C\" c3 c2:|\\n\\n\\nX: 28\\nT:Bonnets So Blue\\n% Nottingham Music Database\\nY:AAB\\nS:FTB 1 p 47, via EF\\nM:4/4\\nK:D\\nM:6/8\\nP:A\\n|:A|\"D\"ded def|\"A7\"ABA ABc|\"A7\"dfb afd|\"A7\"efe e2A|\\n\"D\"ded def|\"A7\"ABA A2b|\"Bm\"agf \"A7\"age|\"D\"d3 d2:|\\nP:B\\n|:e/2d/2|\"A\"cde \"E7\"efe|\"A\"A3 A2d|\"A\"cde \"A7\"efg|\"D\"a3 \"A7\"a2g|\"D\"f2e d2c|\\\\\\n\"Bm\"B2c d2e|\\n\"Bm\"fgf \"F#7\"edc|\"Bm\"B3 \"A7\"A3|\"D\"def def|\"D\"def d2A|\"D\"dfb agf|\\n\"Em\"egf \"A7\"e2A|\"D\"def def|\"Bm\"def d2b|\"Em\"agf \"A7\"age|\"D\"d3 d2:|\\n\\n\\nX: 29\\nT:Brian Borouhme\\n% Nottingham Music Database\\nS:Jimmy Galway, via EF\\nY:AB\\nM:6/8\\nK:Am\\nP:A\\ne|\"Am\"cBA Aed|\"Am\"cBA A2d|\"G\"BAG Gdc|\"G\"BAG G2e|\\n\"Am\"\"F\"cBA Aed|\"Am\"\"F\"cBA A2B|\"Dm\"\"E7\"cde \"E7\"e2d|\"Am\"cAA A2:|\\nP:B\\nB|\"C\"cde efe|\"C\"efe edc|\"G\"Bcd ded|\"G\"ded dcB|\\n\"C\"cde efe|\"C\"efe edc|\"E7\"e3 e2d|\"Am\"cAA A2:|\\n\\n\\nX: 30\\nT:Bridal Jig\\n% Nottingham Music Database\\nS:Trad, arr Phil Rowe\\nM:6/8\\nK:G\\nD|\"G\"G2G BGB|\"D\"def \"Em\"gfg|\"Am\"ecA \"G\"dBG|\"D7\"FAG FED|\\n\"G\"GFG BGB|\"D\"def \"Em\"gfg|\"Am\"ecA \"G\"dBG|\"D7\"FED G2::\\nA|\"Em\"Bee edB|\"D\"def \"Em\"g2a|\"G\"bag \"D\"agf|\"Em\"geg \"Bm\"fdB|\\n\"Em\"Bee edB|\"D\"def \"Em\"g2a|\"G\"bag \"D\"agf| [1\"Em\"gee e2:|\\\\\\n [2\"G\"g2g gdB||\\n\\n\\nX: 31\\nT:The Mug of Brown Ale\\n% Nottingham Music Database\\nS:Trad, arr Phil Rowe\\nM:6/8\\nK:G\\nG|\"Am\"EAA ABd|edB c2A|\"G\"BGG dGG|Bdc BAG|\\n\"Am\"EAA ABd|\"Am\"ede \"Em\"a2g|\"Am\"edc \"Em\"Bcd|\"Am\"ecA A2:|\\nf|\"Em\"gef g2a|\"Em\"gef \"D7\"gdc|\"G\"BGG dGG|Bdc BAG|\\n\"Em\"gef g2a|\"D7\"gef \"G\"g2d|\"C\"edc \"E7\"Bcd|\"Am\"ecA A2f|\\n\"Em\"gef g2a|\"Em\"gef \"D7\"gdc|\"G\"BGG dGG|Bdc BAG|\\n\"Am\"EAA ABd|\"Am\"ede \"Em\"a2g|\"Am\"edc \"E7\"Bcd|\"Am\"ecA A2||\\n\\n\\nX: 32\\nT:St. Bruno\\n% Nottingham Music Database\\nS:Chris Dewhurst, via Phil Rowe\\nM:6/8\\nK:Dm\\nA|\"Dm\"d2e f2g|\"Dm\"a2d \"G\"def|\"C\"g2c cde|\"Bb\"fed \"Am\"c=BA|\\n\"Dm\"d2e \"A7\"f2g|\"Dm\"afd \"Gm\"b2g|\"Dm\"fed \"A\"ed^c|\"Dm\"d3 -d2::\\na|\"Dm\"add \"Gm\"bdd|\"Dm\"add fef|\"Gm\"g2b d\\'c\\'b|\"Dm\"a3 d3|\\n\"Gm\"g2a bag|\"Dm\"afd A2f|\"A\"e^cA f2e|\"Dm\"d3 -d2:|\\n\\n\\nX: 33\\nT:Buggy Ride Jig\\n% Nottingham Music Database\\nS:Trad, arr Phil Rowe\\nM:6/8\\nK:G\\ng|f/2a3/2d f/2a3/2d|fg2 \"D7\"d^c=c|:\"G\"B2B BAG|B2B BAG|\"G\"B/2d3/2G B/2d3/2G|\\n\"Am\"Bcc cBc|\"D\"eff fed|\"D\"f2f fed|\"D7\"f/2a3/2d f/2a3/2d|\"G\"fg2 \"D7\"gfg::\\n\"G\"D2G B2d|\"G\"b3 -b2f|\"G\"a2g \"E7\"f2e|\"Am\"c3 cBA|\"D\"c2c cBA|\\n\"D\"f2f fed|\"Am\"f/2a3/2d \"D7\"f/2a3/2d| [1\"G\"fg2 gfg:|\\n [2\"G\"g2zz3|\"G\"g6||\\n\\n\\nX: 34\\nT:Bung Your Eye\\n% Nottingham Music Database\\nS:FTB 2/42, via EF\\nY:AB\\nM:6/8\\nK:Am\\nP:A\\nE|\"Am\"ABA c2d|\"Am\"edc B2A|\"G\"GAG B2c|\"G\"dge dBG|\\n\"Am\"ABA c2d|\"Am\"edc \"G\"Bcd|\"Am\"e2A \"E7\"AB^G|\"Am\"A3 A2:|\\nP:B\\nB|\"C\"c3/2d/2e/2f/2 g2a|\"C\"gec gec|\"G\"G3/2A/2B/2c/2 d2e|\"G\"dge dBG|\\n\"C\"c3/2d/2e/2f/2 g2a|\"C\"gec \"E7\"de^g|\"Am\"a2A \"E7\"AB^G|\"Am\"A3 A2:|\\n\\n\\nX: 35\\nT:The Burdett\\n% Nottingham Music Database\\nS:Trad, arr Phil Rowe\\nM:6/8\\nK:D\\nA|\"D\"d2d f2a|\"Em\"gfg \"A7\"e2a|\"Bm\"f2d \"E7\"B2e|\"A7\"cBc A2A|\\n\"D\"d2d f2a|\"Em\"gfg \"A7\"e2a|\"Em\"afd \"A7\"gec|\"D\"d2f d2::\\nA|\"D\"d2d \"F#m\"cBc|\"G\"B2B B2B|\"E7\"e2e dcd|\"A7\"c2c c2A|\\n\"D\"dcd \"A7\"ede|\"Bm\"fef \"Em\"gfg|\"D\"afd \"A7\"gec|\"D\"d2f d2:|\\n\\n\\nX: 36\\nT:Cadeau\\'s Jig\\n% Nottingham Music Database\\nS:Trad, arr Phil Rowe\\nM:6/8\\nK:Bb\\nB-c|\"Bb\"dBF DFB-|dBF DFE-|\"Bb\"DFB dcB|\\n\"Eb\"AG^F \"Cm\"G2A|\"F7\"aAA aAa|\"F7\"g3 -ga-g|\"F7\"f=ef _ede-|d3 dB-c|\\n\"Bb\"dBF DFB-|dBF DFE-|\"Bb\"DFB dcB-|\"Eb\"AG^F \"Cm\"G2A|\\n\"F7\"aAA aAa|g3 -gA-G|\"F7\"FAc -ecA-|\"Bb\"B3 BF-E||\\n\"Bb\"D-FA BFB-|d3 d^c=c|\"Bb\"B-AB gfg|f3 -f2b|\"F7\"a3 -a^ga|\\n\"F7\"g3 -gag|f=ef _ede|\"Bb\"d3 -dF-E|\"Bb\"D-FA BFB-|d3 d^c=c|\\n\"Bb\"B-AB gfg|f3 -f2b|\"F7\"a3 -a^ga|\"F7\"g3 -gAG|F-Ac ecA-|\"Bb\"B3 B||\\n\\n\\nX: 37\\nT:There Came A Young Man\\n% Nottingham Music Database\\nS:Trad, arr Phil Rowe\\nM:6/8\\nK:Am\\nE|\"Am\"ABA c2d|\"Am\"edc \"D7\"\\\\\\nB2A|\"G\"GAG B2c|dge d\\nBG|\"Am\"ABA c2d|\"Am\"edc \"E7\"Bcd|\"Am\"e2A \"E7\"AB^G|\"Am\"\\nA3 -A2::B|\"C\"c2e g2a|gec gec|\"G\"G2B d2e|dge d\\nBG|\"C\"\\\\\\nc2e g2a|\"C\"gec \"E7\"de^g|\"Am\"a2A \"E7\"AB^G|\"Am\"A3 -A2:|\\n\\n\\nX: 38\\nT:Captain White\\n% Nottingham Music Database\\nY:AAB\\nS:Kevin Briggs, via EF\\nM:6/8\\nK:D\\nP:A\\nA|\"D\"DFA d2f|\"A\"edc \"G\"B2d|\"D\"A2d F2B|\"Em\"AGF \"A7\"E2A|\\n\"D\"DFA d2f|\"A\"edc \"G\"B2d|\"D\"A2d \"Bm\"F2B|\"A7\"ABc \"D\"d2:|\\nP:B\\nf|\"A\"e^de A2f|\"A\"e^de a2f|\"Bm\"efe \"E7\"dcB|\"A\"A2B \"E7\"c2f|\"A\"e^de A2f|\\n\"A\"e^de a2f|\"Bm\"efe \"E7\"dcB|\"A7\"ABA GFE|\"D\"D2f fef|\"D\"d2A A^GA|\\n\"D\"D2f fef|\"G\"gfe \"A7\"ecA|\"D\"D2f fef|\"D\"d2A A^GA|\"Em\"Bed \"A7\"cBc|\"D\"d3 -d2||\\n\\n\\nX: 39\\nT:Crossing The Cascades\\n% Nottingham Music Database\\nS:Mike Richardson 16.9.90, via Phil Rowe\\nM:6/8\\nK:D\\n\"A\"A2F |:\"D\"DED DFA|d3 d2c|\"G\"B2B Bcd|\"D\"A3 F2A|\\n\"G\"BAB \"A\"cBc|\"D\"d2A \"Bm\"AGF| [1\"Em\"E2F GFE|\"A\"C3 A,2C:|\\n [2\"A\"EFG F2E|\"D\"D3 DFA||\"D\"d3 def|\"F#\"c3 -cBc|\"G\"d2d dcB|\"D\"A3 F2A|\\n\"G\"B2c dcB|\"D\"A2d \"Bm\"AGF|\"Em\"E2F GFE|\"A\"C3 A2c|\"D\"d3 def|\"F#\"c3 -cBc|\\n\"G\"d2d dcB|\"D\"A3 F2A|\"G\"BAB \"A\"cBc|\"D\"dcd \"G\"efg|\"D\"fed \"A\"A2c|\"D\"d3 ||\\n\\n\\nX: 40\\nT:The Castle\\n% Nottingham Music Database\\nS:Trad, arr Phil Rowe\\nM:6/8\\nK:G\\nD|\"G\"G3 GAB|\"Am\"A3 \"D7\"ABc|\"G\"edd gdd|\"C\"edB \"D7\"dBA|\\n\"G\"G3 GAB|\"Am\"A3 \"D7\"ABc|\"G\"edd gdB|\"D7\"AGF \"G\"G2::\\nA|\"G\"BAB dBd|\"C\"e/2f/2ge \"D\"dBA|\"G\"BAB dBG|\"D7\"ABA A2A|\\n\"G\"BAB dBd|\"C\"e/2f/2ge \"D\"dBA|\"G\"gfg \"D7\"aga|\"G\"bgg g2:|\\n\\n\\nX: 41\\nT:Cat in the Kitchen\\n% Nottingham Music Database\\nS:Bob McQuillen Jan 1975, via Phil Rowe\\nM:6/8\\nK:Bm\\nF|\"Bm\"B2c dcB|\"Em\"e2f gfe|\"Bm\"fbb bag|\"F#7\"fgf edc|\\n\"Bm\"B2c dcB|\"Em\"e2f gfe|\"Bm\"fgf \"F#7\"edc|[1\"Bm\"dBB B2:|[2 \"F#7\"dBB B||\\n|:\"A7\"AG|\"D\"F2B \"A7\"ABc|\"D\"d2d \"A\"ede|\"Bm\"fBB Bcd|\"A\"cAA \"G\"BAG|\\n\"F#m\"F2B \"A7\"ABc|\"D\"dcd \"A\"ede|\"Bm\"fed \"F#m\"cBA|\"Bm\"FBB B:|\\n\\n\\nX: 42\\nT:Cavan Buck\\n% Nottingham Music Database\\nS:Trad, arr Phil Rowe\\nM:6/8\\nK:Bm\\n\"Bm\"d2B \"F#m\"c3|\"Bm\"B2c d2e|\"Bm\"f2f \"E7\"e2d| \"A\"c2A ABc|\\n\"Bm\"dcB \"F#m\"\"A\"cBA|\"Bm\"\"G\"B2c d2e|\"Bm\"f^ga \"F#m\"gfe|\"Bm\"f2B B3::\\n\"D\"a2f d2e|\"Bm\"f2b b2f|\"D\"a2f \"E7\"e2d|\"A\"c2A ABc|\\n\"Bm\"dcB \"F#m\"cBA|\"Bm\"B2c d2e|\"Bm\"f^ga \"F#m\"gfe|\"Bm\"f2B B3:|\\n\\n\\nX: 43\\nT:Champion Jig\\n% Nottingham Music Database\\nS:EF\\nY:AB\\nM:6/8\\nK:Em\\nP:A\\n|:B|\"Em\"Bef gfe|\"Em\"bef gfe|\"B7\"f^dB fdB|\"B7\"bc\\'b agf|\\n\"Em\"Bef gfe|\"Em\"bef gfe|\"B7\"b3 b2a|[1\"Em\"gee e2:|[2 \"Em\" gee e3||\\nP:B\\n|:\"Em\"d3 \"D7\"c3|\"G\"Bdg bgd|\"D7\"cdf afd|\"G\"Bdg bgd|\\n\"Em\"d3 \"D7\"c3|\"G\"Bdg bgd|\"D7\"cdf afd|\"G\"gdb g3:|\\n\\n\\nX: 44\\nT:Charlbytown Two-Step\\n% Nottingham Music Database\\nS:Trad, arr Phil Rowe\\nM:6/8\\nK:C\\nef|\"C\"g^fg a2g|\"C7\"edc G2E|\"F\"FEF A2G|F3 -FEF|\"G7\"G^FG B2A|\\nG^FG B2A|\"G7\"G^FG A2G|\"C\"E3 -\"G7\"E2g|\"C\"g^fg a2g|\"C7\"edc G2E|\"Dm\"FEF A2G|\\nF3 -FEF|\"G7\"G^FG B2A|G^FG B2A|\"G7\"GAB e2d|\"C\"c3 zef||\\n\"C\"g2g gfe|\"C7\"g3 -g^fg|\"F\"agf def|\"Dm\"a3 -a^ga|\"G7\"b2a g2f|\\n\"C\"e2d cBA|\"G\"G^FG \"G7\"A2G|\"C\"e3 -\"G7\"eef|\"C\"g2g gfe|\"C7\"g3 z^fg|\"F\"agf def|\\n\"D7\"a3 -a^ga|\"G7\"b2a g2f|\"C\"e2d \"Cd\"cBA|\"G\"GAB \"G7\"e2d|\"C\"[E3c3]-[E3c3]|\\n\\n\\nX: 45\\nT:Charlie Hunter\\n% Nottingham Music Database\\nS:Jim McLeod, via EF\\nY:AB\\nM:6/8\\nK:D\\nP:A\\nA|\"D\"DFA \"G\"GBd|\"D/f+\"Adf \"A7/e\"a2g|\"D\"fed \"G\"Bcd|\"Em\"ecA \"A7\"GFE|\\n\"D\"DFA \"G\"GBd|\"D\"Adf \"A\"a2g|\"Bm\"fef \"A7\"gec|\"A7\"edc \"D\"d2:|\\nP:B\\nf/2g/2|\"D\"afd d2c|\"G\"BGG G2F|\"E7\"E^GB e2d|\"A7\"cAA Aag|\\n\"D\"fdA FDF|\"G\"GBd g2a/2g/2|\"D\"fef \"A7\"gec|\"A7\"edc \"D\"d2:|\\n\\n\\nX: 46\\nT:Chuntering Charlie\\n% Nottingham Music Database\\nS:John Kirkpatrick, via Phil Rowe\\nM:6/8\\nK:C\\n\"C\"cGE \"G\"B2A|\"C\"GEC \"F\"F2E|\"G\"DB,G, DB,G,|\"C\"CDE \"G\"D2G|\\n\"C\"cGE \"G\"B2A|\"C\"GEC \"F\"F2E|\"G\"DB,G, DB,G,|\"G\"GAB \"C\"c3::\\n\"G\"DDD D2E|F2G A2B|\"C\"cGE \"F\"B2A|\"C\"GEC \"F\"F2E|\\n\"G\"DDD D2E|F2G A2B|\"C\"cGE \"F\"B2A|\"G\"GAB \"C\"c3::\\n\"F\"A2c A2G|F2A F2E|\"F\"D2F D2C|\"G\"B,2D G,A,B,|\\n\"C\"C2E \"G\"D2F|\"C\"E2G \"F\"F2A| \"G\"BAG BAG|\"G\"BAG \"C\"c3:|\\n\\n\\nX: 47\\nT:Chelmsford Races\\n% Nottingham Music Database\\nS:Thomas Hardy Collection, via Phil Rowe\\nM:6/8\\nK:Bb\\nF|\"Bb\"B2B BAB|\"F\"c2c f2f|\"Bb\"d2d B2B|\"F\"ABc FGA|\\n\"Bb\"B2B BAB|\"F\"c2c f2f|\"Eb\"egf \"F\"edc|\"Bb\"B2B B2::\\nf|\"Bb\"fef def|\"Eb\"g2g g3|\"F\"aga fga|\"Bb\"b2b b3|\\n\"Bb\"fef def|\"Eb\"g2a bag|\"Bb\"fgf \"F7\"edc|\"Bb\"B2B B2:|\\n\\n\\nX: 48\\nT:Cherish The Ladies\\n% Nottingham Music Database\\nS:Trad, arr Phil Rowe\\nM:6/8\\nK:D\\nB/2c/2|\"D\"dFF AGF|DFA AFA|\"Em\"BEE GEE|\"G\"BdB \"A7\"AFA|\\n\"D\"dFF AGF|\"D\"DFA AFA|\"G\"Bcd \"A7\"efg|\"D\"fdd d2::\\nB/2c/2|\"D\"dfd \"A\"cec|\"Bm\"BdB \"D\"AGF|\"Em\"BEE GEE|\"G\"BdB \"A7\"AFA|\\n\"D\"dfd \"A\"cec|\"Bm\"BdB \"D\"AFA|\"G\"Bcd \"A7\"efg|\"D\"fdd d2:|\\n\\n\\nX: 49\\nT:Jig For Chris\\n% Nottingham Music Database\\nS:Mike Richardson 30.3.89, via Phil Rowe\\nM:6/8\\nK:G\\nD|\"G\"GBd \"D\"cBA|\"G\"BGE DB,D|\"G\"EDB, \"Em\"G,B,D|\"Am\"GDB, \"D\"A,2D|\\n\"G\"GBd \"D\"cBA|\"G\"BGE DB,D|\"G\"EDB, \"Em\"G,B,D|\"D\"EGF \"G\"G2:|\\nA|\"G\"Bdd gdd|\"D\"Add fdd|\"C\"Gcc ecA|\"D\"FAG FED|\"G\"Bdd gdd|\"D\"Add fdd|\"A\"egf ed^c|\\n\"D\"d3 dcB|\"C\"cee \"G\"Bdd|\"D\"Acc \"G\"GBB|\"C\"cBA \"G\"BAG|\"D\"FAF DEF|\\n\"G\"GBB \"C\"Acc|\"G\"Bdd \"C\"cee|\"G\"def \"Em\"gdB|\"D\"AGF G2||\\n\\n\\nX: 50\\nT:Circle Around\\n% Nottingham Music Database\\nS:Chris Dewhurst 1978, via Phil Rowe\\nM:6/8\\nK:G\\n\"(D7)\"B,2C |\"G\"D2B B^AB|\"G\"G2D B,CD|\"C\"E2F GFE|\"G\"D3 \"D\"d2c|\"G\"B2B B^AB|\\n\"Em\"G2B E2B|\"A7\"A^GA ABc|\"D\"d3 \"D7\"d2c|\"G\"B2D B^AB|\"G\"G2D B,CD|\\n\"C\"E2F GFE|\"G\"D3 ^D3|\"C7\"E^DE GFE|\"G\"DGB \"Em\"d2D|\"Am\"E2A \"D\"FEF|\"G\"G3 B2c||\\n\"G\"ded BdB|\"G\"GBG \"C\"EGE|\"G\"DBA GF=F|\"C\"E3 \"E7\"e2d|\"Am\"cdc BcB|\\n\"A7\"ABA GAG|\"D\"FGF \"A\"EAc|\"D\"d3 \"D7\"B2c|\"G\"ded BdB|\"G\"GBG \"C\"EGE|\\n\"G\"D2B \"G7\"c2d|\"C\"e3 e2f|g2f efg|\"G\"d2B \"Em\"GAB|\"Am\"cAF \"D\"DEF|\"G\"G3 ||\\n\\n\\nX: 51\\nT:The Cobbler\\n% Nottingham Music Database\\nS:Trad, arr Phil Rowe\\nM:6/8\\nK:D\\nD|\"D\"DFA \"G\"B2A|\"D\"def \"A7\"gfe|\"D\"fdf \"A7\"ecA|\"G\"BGB \"D\"AFD|\\n\"D\"DFA \"G\"B2A|\"D\"def \"A7\"gfe|\"D\"fdf \"A7\"ecA|\"D\"Add d2::\\ng|\"D\"fad fad|faa agf|\"C\"eg=c eg=c|efg gfe|\\n\"D\"fef \"G\"gfg|\"D\"agf \"A7\"efg|\"D\"fed \"Am\"=cAG|\"D\"Add d2:|\\n\\n\\nX: 52\\nT:Cock of the North\\n% Nottingham Music Database\\nS:Kevin Briggs, via EF\\nY:AB\\nM:6/8\\nK:A\\nP:A\\ne/2d/2|\"A\"cdc cBA|\"A\"Ace \"D\"f2e|\"A\"cdc cBA|\"B7\"BcB \"E7\"Bed|\\n\"A\"cdc cBA|\"A\"Ace \"D\"f2e|\"A\"c2c \"E7\"BcB|\"A\"A3 A2:|\\nP:B\\n(3e/2f/2g/2|\"A\"a2e \"D\"f2e|\"A\"a2e \"D\"f2e|\"A\"cdc cBA|\"Bm\"Bcd \"E7\"efg|\\n\"A\"a2e \"D\"f2e|\"A\"a2e \"D\"f2e|\"A\"c2c \"E7\"BcB|\"A\"A3 A2:|\\n\\n\\nX: 53\\nT:Coleraine\\n% Nottingham Music Database\\nS:Trad, arr Phil Rowe\\nM:6/8\\nK:Am\\nE|\"Am\"EAA ABc|\"E7\"Bee e2d|\"Am\"cBA ABc|\"E7\"B^GE E2E|\\n\"Am\"EAA ABc|\"E7\"Bee e2d|\"Am\"cBA \"E7\"B^GE|\"Am\"A3 -A2::\\nB|\"C\"c2c cdc|\"G\"Bdg g2^g|\"Am\"aed cBA|\"E7\"^GBG E^FG|\\n\"Am\"A^GA \"E7\"BAB|\"Am\"cde \"Dm\"fed|\"Am\"cBA \"E7\"EA^G|\"Am\"A3 -A2:|\\n\\n\\nX: 54\\nT:The Connaught Man\\'s Rambles\\n% Nottingham Music Database\\nS:Trad, arr Phil Rowe\\nM:6/8\\nK:D\\nA|\"D\"FAA dAA|\"G\"BAB \"A7\"dAG|\"D\"FAA \"A\"Afe|\"Bm\"dBB \"A7\"BAG|\\n\"D\"FAA dAA|\"G\"BAB \"D\"def|\"Em\"gfe \"F#7\"dfe|\"Bm\"dBB B2::\\ng|\"D\"faa \"G\"gbb|\"D\"afd dcd|\"D\"faa \"G\"gbb|\"D\"afd \"A7\"e2g|\\n\"D\"faa \"G\"gbb|\"D\"afd def|\"Em\"gfg \"F#7\"efe|\"Bm\"dBB B2:|\\n\\n\\nX: 55\\nT:Top of the Cork Road\\n% Nottingham Music Database\\nS:EF\\nY:ABC\\nM:6/8\\nK:D\\nP:A\\nA|\"D\"dAF DFA|\"D\"ded \"A7\"cBA|\"D\"dcd \"A/c+\"efg|\"Bm\"fdf \"A7\"ecA|\\n\"D\"dAF DFA|\"D\"ded \"A/c+\"cBA|\"Bm\"dcd \"A7\"efg|\"D\"fed d2:|\\nP:B\\ne|\"D\"fdf fga|\"A\"ecA ABc|\"Bm\"dcd \"E7\"Bed|\"A7\"cBA \"D7\"A2=c|\"G\"BGB B\\nP:C\\ncd|\"D\"AFD DFA|\"D\"dcd \"A7\"efg|\"D\"fed d:|\\n\\n\\nX: 56\\nT:The Corner House Jig\\n% Nottingham Music Database\\nS:Andrew Rankine, via Phil Rowe\\nM:6/8\\nK:D\\nB|\"D\"Add dcd|fed A2d|\"Em\"Bee edB|\"Em\"Bee \"A7\"cBA|\\n\"D\"Add dcd|fed A2d|\"G\"Bdd \"A7\"cBc|d3 -d2::\\nA/2G/2|\"D\"FAA AFD|\"G\"GBB BAG|\"A\"Acc cBc|\"D\"dcd \"G\"BAG|\\n\"D\"FAA AFD|\"G\"GBB BAG|\"D\"Add \"A7\"cBc|\"D\"d3 -d2:|\\n\\n\\nX: 57\\nT:Cumberland Reel\\n% Nottingham Music Database\\nS:Trad, arr Phil Rowe\\nM:6/8\\nK:D\\nA|\"D\"f2e d2c|\"G\"d2B \"D\"A2F|\"G\"GFG \"A\"EFG|\"D\"F2G A2A|\\n\"G\"B2G d2B|\"D\"A2F d2d|\"A7\"cde ABc|\"D\"d3 -d2:|\\ne|\"D\"f2f f2e|f2f f3|\"D\"f2f \"G\"g2f|\"D\"f2e \"A\"e2c|\"D\"d2d d2c|d2d d2c|\\n\"G\"d2B e2d|\"A\"c2B ABc|\"D\"d2d \"A\"cBA|\"G\"B2c \"D\"d3|\"D\"ded \"A\"cBA|\\n\"G\"B2c \"D\"d2f|\"A\"e2e e2e|e2e efg|\"A7\"a2A ABc|\"D\"d3 -d2||\\n\\n\\nX: 58\\nT:Cupid\\'s Dart\\n% Nottingham Music Database\\nS:Chris Dewhurst, via Phil Rowe\\nM:6/8\\nK:D\\n\"A7\"f2g |\"D\"afd A^GA|FAd f2g|\"D\"afd Aef|\"Em\"g3 e2f|\"A\"gec A^GA|\\n\"A\"c2d e2f|\"Em\"g2e \"A7\"c2B|\"D\"A3 f2g|\"D\"afd A^GA|FAd f2g|\\n\"D\"a2d dcd|\"G\"B3 B2c|\"G\"d2e \"Gm\"f2g|\"D\"afd \"Bm\"A2F|\"Em\"G2B \"A7\"ABc|\\\\\\n\"D\"d3 \"D\"F2G||\\n\"D\"AFF dFF|AFF dFF|\"D\"AFA def|\"A\"g3 e2d|\"A\"cAA eAA|\\n\"A\"cAA eAc|\"Em\"e^de \"A7\"gf^e|\"D\"f3 \"A7\"F2G|\"D\"AFF dFF|\"D\"AFA d2e|\\n\"D7\"f2f def|\"G\"g3 B2c|\"G\"d2d Bcd|\"D\"Adf a3|\"A7\"ABA ABc|\"D\"d3 ||\\n\\n\\nX: 59\\nT:Da Brigg\\n% Nottingham Music Database\\nS:Mrs Foxley\\'s Fancy, via EF\\nY:AB\\nM:6/8\\nK:D\\nP:A\\n(3A/2B/2c/2|:\"D\"d3 \"A7\"A2G|\"D\"FED \"A7\"DFA|\"D\"d3 A2F|\"Em\"E2e \"A7\"cBc|\\n\"D\"d3 \"A7\"A2G|\"D\"FED DEF|\"Em\"E2F G2A|\"Em\"B3 \"A7\"ABc:|\\nP:B\\n\"D\"d2e f2d|\"A7\"c2d ecA|\"D\"d2e \"D7/c\"f2d|\"G/b\"g3 \"A7\"f2g|\\n\"D\"a2f \"A/c+\"g2e| \"Bm\"f2d \"A7\"e2c|\"D\"d2A F2A|\"Em\"B3 \"A7\"ABc:|\\n\\n\\nX: 60\\nT:Lass O\\' Dallogill\\n% Nottingham Music Database\\nS:Trad, arr Phil Rowe\\nM:6/8\\nK:D\\n|:d|\"C\"ede G2G|\"F\"A2A \"G7\"G2G|\"C\"ede G2G|\"G7\"A2B \"C\"c2:|\\nd|\"C\"e2c \"G\"d2B|\"C\"c2c \"G\"BAG|\"C\"e2c \"G\"d2d|\"C\"e2f g3|\\n\"F\"a2f \"C\"g2e|\"G7\"f2d \"C\"e3|\"C\"ede G2G|\"G7\"A2B \"C\"c2||\\n\\n\\nX: 61\\nT:Dan Powrie\\'s Farewell\\n% Nottingham Music Database\\nS:Trad, arr Phil Rowe\\nM:6/8\\nK:F\\nC3 |\"F\"F3 C3|A3 F3|\"F\"c3 AFA|f2e d2c|\"Gm\"B3 D^CD|\"Gm\"d3 G^FG|\\nbag fed|\"C7\"cdc BAG|\"F\"F3 C3|A3 F3|\"F\"c3 AFA|\\nf2e d2c|\"Gm\"B2B Bcd|G2G GAB|\"C7\"gbg ece|\"F\"f3 -f2||\\nC|\"F\"FCF AFA|cAc fef|\"F\"FAc fef|\"Gm\"b2b d3|\"C7\"bge cBG|\\n\"C7\"BGE C3|\"Gm\"bag fed|\"C7\"cdc BAG|\"F\"FCF AFA|cAc fef|\\n\"F\"FAc fef|\"Gm\"b2b d3|\"Gm\"B2B Bcd|G2G GAB|\"C7\"gbg ece|\"F\"f3 z3||\\n\\n\\nX: 62\\nT:Danbury Hill\\n% Nottingham Music Database\\nS:Trad, arr Phil Rowe\\nM:6/8\\nK:Am\\n\"E7\"cB|\"Am\"Ace \"Dm\"f2e|\"G7\"dBG \"C\"e2d|\"F\"cBc \"Dm\"dcB|\"Am\"ABA \"E7\"^G^FE|\\n\"Am\"Ace \"Dm\"f2e|\"G7\"dBG \"C\"e2d|\"F\"cBc \"E7\"dcB|[1\"Am\"A3 -A:|[2 \"Am\" A3 -A2||\\n|:a-|\"Am\"aA_a =AgA|_gAf e3|\"E7\"efe d2B|efe d2B|\\n\"Am\"aA_a AgA|_gAf e3|\"E7\"efe dcB|\"Am\"A3 -A2:|\\n\\n\\nX: 63\\nT:The Dancing Dustman\\n% Nottingham Music Database\\nS:Jimmy Shand, via Phil Rowe\\nM:6/8\\nK:G\\nef|\"G\"agd B2c|edB G2B|\"Am\"AGA c2A|E3 -E2G|\"D\"FAc f2e|\\n\"D\"d2c B2^A|\"G\"B^AB e2B|\"D\"d3 -def|\"G\"agd B2c|edB G2B|\\n\"Am\"AGA c2A|E3 -E2G|\"D\"FAc f2e|\"D7\"d2c B2A|E^EF B2A|\"G\"G6||\\n\"G\"d2G GAB|A2G d3|\"Am\"e2A ABc|B2A e3|\"D\"f2c cde|\\n\"D\"f2f f3|\"Em\"e2B Bcd|e2e e3|\"G\"d2G GAB|A2G d3|\"Am\"e2A ABc|\\nB2A e3|\"D\"f2c cde|\"D\"f2f f3|\"D7\"fed cBA|\"G\"G6||\\nK:C\\n\"C\"G2A G^F=F|E2G c2e|\"Dm\"dcd f2d|A3 -A2c|\"G\"B2^A B2c|\\n\"G\"d2^c d2^d|\"C\"e^de a2e|\"G\"g3 EF^F|\\\\\\nK:C\\n\"C\"G2A G^F=F|E2G c2e|\\n\"Dm\"dcd f2d|A3 -A2c|\"G\"B2^A B2d|a2g A2B|\"C\"c3 e3|c3 -c||\\n\\n\\nX: 64\\nT:Dancing Tailor\\n% Nottingham Music Database\\nS:Alastair A, via EF\\nY:AB\\nM:6/8\\nK:D\\nP:A\\nA/2G/2|\"D\"FGF \"G\"GAB|\"A7\"ABc \"D\"dcd|\"G\"Bcd \"D/f+\"efd|\"Em\"cdB \"A7\"ABG|\\n\"D\"FGF \"G\"GAB|\"A7\"ABc \"D\"dcd|\"G\"Bcd \"D\"Adf|\"A7\"edc \"D\"d2:|\\nP:B\\nA|\"D\"ded fed|\"Em\"efd \"A7\"cBA|\"D\"ded fed|\"G\"Bcd \"A7\"efg|\\n\"D\"afa fed|\"Em\"ged \"A\"cBA|\"G\"Bcd \"D\"Aaf|\"A7\"edc \"D\"d2:|\\n\\n\\nX: 65\\nT:Danny MacPhail\\'s Dilemma\\n% Nottingham Music Database\\nS:Ian MacPhail, via Phil Rowe\\nM:6/8\\nK:D\\n\"D\"DFA BAF|\"D\"DFA dAF|\"G\"DGB dBG|\"G\"B3 -B2d|\\n\"C7\"EG_B d_BG|\"C7\"EG_B d=cB|\"F\"A^GA \"Gm\"_BA_B|\"C\"=c3 -=c2d||\\n\"D\"DFA BAF|\"D\"DFA dAF|\"G\"DGB dBG|\"G\"B3 -B2d|\\n\"C7\"EG_B d_BG|\"C7\"EG_B d=cB|\"F\"A_B=c \"C7\"BGE|\"F\"=F3 =FE_E||\\nK:F\\n\"Bb\"DFB DFB|\"Bb\"d2d dBF|\"F\"CFA CFA|\"F\"c3 -cAF|\\n\"C7\"E2e e2d|\"C7\"cdc _BAG|\"F\"F2f fed|\"F\"c3 -\"F7\"cAF||\\nK:F\\n\"Bb\"DFB DFB|\"Bb\"d2d dBF|\"F\"CFA CFA|\"F\"c3 -c=BA|\\n\"G\"G=Bd GBd|\"G\"g2g g2f|\"C\"e^de g2e|\"F\"c3 \"F7\"c2^c||\\n\"Bb\"d^cd DFB|\"Bb\"d2d d_BF|\"F\"cBc CFA|\"F\"c3 -cAF|\\n\"C7\"E2e e2d|\"C7\"cdc BAG|\"F\"F2f fed|\"F\"c3 c2^c||\\n\"Bb\"d^cd DFB|\"Bb\"d2d d_BF|\"F\"cBc CFA|\"F\"c3 -c=BA|\\n\"G\"G=Bd GBd|\"G7\"g2g g2f|\"C\"e^de g2e|\"C\"c3 \"A7\"c2^c||\\nK:D\\n\"D\"d2D DFA|\"D\"DFA dAF|\"G\"DGB dBG|\"G\"B3 -\"B7\"B2^d|\\n\"E7\"e2E E^GB|\"E7\"E^GB eB^G|\"A7\"EAc ecA|\"A7\"c3 cBc||\\nK:D\\n\"D\"d2D DFA|\"D\"DFA dAF|\"G\"DGB dBG|\"G\"B3 -B2c|\\n\"D\"dcd DFA|\"G\"B^AB B,DB|\"A7\"ABA GFE|\"D\"D3 -D3||\\n\\n\\nX: 66\\nT:Danse De Chez Nous\\n% Nottingham Music Database\\nS:Trad, arr Phil Rowe\\nM:6/8\\nK:A\\nE|:\"A\"EAc e2c|f2c ecA|\"A\"EAc e2c|\"F#7\"f2c \"E\"dBG|\\n\"E7\"EGB d2B|e2B dBG|\"E7\"EGB dcB|[1\"A\"Acf ecA:|\\n[2\"A\"Ace a2e|||:\"A\"a2c e2A|c3 -c2E|\"A\"EFG \"F#m\"ABc|\\n\"Bm\"d3 -d2e|\"E\"f2B d2E|G3 -G2e|\"E7\"gfe dcB|[1\"A\"Acf \"E7\"e3:| [2\"A\"Ace a2||\\n\\n\\nX: 67\\nT:My Darling Asleep\\n% Nottingham Music Database\\nS:Trad, arr Phil Rowe\\nM:6/8\\nK:D\\n\"D\"fdd \"A\"cAA|\"G\"BGG \"A7\"A2G|\"D\"FAA def|\"A7\"gfg eaa|\\n\"D\"fdd \"A\"cAA|\"G\"BGG \"A7\"A2G|\"D\"FAA def|\"A7\"gfe \"D\"d3::\\n\"D\"FAA dAA|\"D\"FAA \"G\"BAA|\"D\"FAA def|\"Em\"gfg \"A7\"eaa|\\n\"D\"fdd \"A\"cAA|\"G\"BGG \"A7\"A2G|\"D\"FAA def|\"A7\"gfe \"D\"d3:|\\n\\n\\nX: 68\\nT:Davie\\'s Brae\\n% Nottingham Music Database\\nS:Jim Johnstone, via Phil Rowe\\nM:6/8\\nK:G\\nd|\"G\"Bdd gdd|\"C\"efg \"G\"dBG|\"A7\"A2A a2g|\"D\"fdd \"D7\"d2c|\\n\"G\"Bdd gdd|\"C\"efg \"G\"dBG|\"Am\"ABc \"D7\"def|g3 -g2::\\nf|\"Em\"efg BBB|efg B2B|\"Em\"efg \"A7\"a2g|\"D\"fdd \"D7\"def|\\n\"G\"g2g \"D7\"def|\"G\"gfe dcB|\"Am\"ABc \"D7\"def|\"G\"g3 -g2:|\\n\\n\\nX: 69\\nT:Davie\\'s Brae\\n% Nottingham Music Database\\nS:Trad, arr Phil Rowe\\nM:6/8\\nK:F\\n|:B|\"F\"Acc fcc|\"Bb\"def \"F\"cAF|\"G7\"GGG g2f|\"C\"ecc c2B|\\n\"F\"Acc fcc|\"Bb\"def \"F\"cAF|\"Gm\"GAB \"C7\"cde|\"F\"f3 f2::\\n\"A7\"e|\"Dm\"def A2A|\"Dm\"def A2A|\"Dm\"def \"G7\"g2f|\"C\"ecc cde|\\n\"F\"f2f \"C\"cde|\"Dm\"fed \"Am\"cBA|\"Gm\"GAB \"C7\"cde|\"F\"f3 f2:|\\n\\n\\nX: 70\\nT:Dance \\'Til Dawn\\n% Nottingham Music Database\\nS:Mike Richardson 27.8.89, via Phil Rowe\\nM:6/8\\nK:D\\nB,|\"D\"A,2D \"G\"B,2D|\"D\"A,2D \"A\"CDE|\"D\"FFF \"Em\"GFG|\"A\"ABA GFE|\\n\"D\"A,2D \"G\"B,2D|\"D\"A,2D \"A\"CDE|\"D\"FGA \"G\"Bcd|\"A\"FGE \"D\"D2::\\nE|\"D\"FDF FDF|\"G\"GEG GEG|\"D\"ABc dcB|\"A\"ABA GFE|\\n\"D\"FDF FDF|\"G\"GEG GEG|\"D\"ABc \"G\"dAG|\"A\"FGE \"D\"D2:|\\n\\n\\nX: 71\\nT:Debbie\\'s Jig\\n% Nottingham Music Database\\nS:Bernie Ley, via Phil Rowe\\nM:6/8\\nK:Bb\\nB/2-c/2|\"Bb\"d2B DFB|!trill! g2-f d2B-|\"F7\"ecA FGA-|\\n\"Bb\"BdB \"F7\"cAF-|\"Bb\"BdB DFB|\"Bb\" !trill!  g2-f d2B-|\\\\\\n\"F7\"ecA FGA-|\"Bb\"B3 B2:|\\nK:F\\n|:f/2-g/2|\"F\"afc Acf-|afc Acf-|\"C7\"ege cde-|\"F\"f-af c2f/2-g/2|\\n\"F\"afc Acf-|afc Acf-|\"C7\"ege cde-| [1\"F\"f3 f2:| [2\"F\"f3 \"F7\"_e2||\\n\\n\\nX: 72\\nT:Denis Murphy\\'s\\n% Nottingham Music Database\\nS:Trad, arr Phil Rowe\\nM:6/8\\nK:D\\nB|\"D\"A2D FED|F2A A2f|\"G\"g2e \"D\"f2d|\"Em\"e2d \"A\"Bcd|\\n\"D\"A2D FED|\"D\"F2A A2f|\"D\"a2f \"A\"efe|\"D\"d3 d2::\\nA|\"D\"d2e f3|\"G\"gfe \"D\"f3|\"G\"gfe \"D\"f2d|\"Em\"e2d \"A\"B2A|\\n\"D\"d2e f3|\"G\"gfe \"D\"f2g| \"D\"a2f \"A\"efe|\"D\"d3 d2:|\\n\\n\\nX: 73\\nT:Go to the Devil and Shake Yourself\\n% Nottingham Music Database\\nS:EF\\nY:AB\\nM:6/8\\nK:D\\nP:A\\nA|\"D\"Add \"G\"dcB|\"D\"ABA AFA|\"D\"Add \"A/c+\"d2e|\"Bm\"fdB \"A7\"B2A|\\n\"D\"Add \"G\"dcB|\"D\"ABA AFA|\"D\"dfd \"A7\"ege|\"D\"fdd \"A7\"d2:|\\nP:B\\nf/2g/2|\"D\"afd dcd|\"G\"BGG G2g/2a/2|\"Em\"bge \"E7\"efe|\"A7\"cAA A2A|\\n\"D\"Add \"G\"dcB|\"D\"ABA AFA|\"D\"dfd \"A7\"ege|\"D\"fdd d2:|\\n\\n\\nX: 74\\nT:The Devil Among the Taylors\\n% Nottingham Music Database\\nS:Trad, arr Phil Rowe\\nM:6/8\\nK:A\\nCB,|\"A\"A,CA, CA,C|ECE AEA|\"D\"FAF DFD|\"A\"EAE CEC|\\n\"Bm\"DFD B,DB,|\"A\"CEC A,CA,|\"Bm\"B,DB, \"E7\"G,B,G,|\"A\"A,2A, A,::\\nCD|\"A\"EFE EFE|\"E7\"DED DED|\"A\"CDC CDC|\"E7\"B,CB, B,CD|\\n\"A\"EFE EFE|\"E7\"DED DED|\"A\"CDC CDC|\"E\"B,3 -\"E7\"B,2E|\\n\"A\"A,CA, CA,C|ECE AEA|\"D\"FAF DFD|\"A\"EAE CEC|\\n\"Bm\"DFD B,DB,|\"A\"CEC A,CA,|\"Bm\"B,DB, \"E7\"G,B,G,|\"A\"A,3 A,:|\\n\\n\\nX: 75\\nT:Dingle Regatta\\n% Nottingham Music Database\\nY:AABBCC\\nS:Folk Camp, via EF\\nM:6/8\\nK:G\\nP:A\\n|:B/2c/2|\"G\"d^cd e2d|\"G\"B^AB d2B|\"Am\"A2A \"D7\"AGA|\"G\"B2A \"D7\"GBc|\\n\"G\"d^cd e2d|\"Em\"B^AB d2B|\"Am\"ABc \"D7\"B2A|\"G\"G3 -G2:|\\nP:B\\n|:d|\"G\"d3 \"D7\"def|\"G\"g3 \"Em\"gfg|\"Am\"a3 \"D7\"aga|\"G\"b2a \"D7\"gfe|\\n\"G\"d3 \"D7\"def| \"G\"g3 \"Em\"gfg|\"Am\"a2g \"D7\"f2e|\"D7\"def \"G\"g2:|\\nP:C\\n|:d|\"G\"gbg dgd|\"G\"BdB GBG|\"D7\"FGA DEF|\"G\"G2B \"D7\"def|\\n\"G\"gbg dgd|\"G\"BdB GBG|\"D7\"FGA DEF|\"G\"G3 -G2:|\\n\\n\\nX: 76\\nT:Dinny O\\'Keefe\\'s\\n% Nottingham Music Database\\nS:Trad, arr Phil Rowe\\nM:6/8\\nK:D\\n\"A\"E2A ABA|\"G\"G2A Bcd|\"A\"e2A ABA|\"Em\"G3 F2G|\\n\"A\"E2A ABA|\"G\"G2A Bcd|\"A\"efe \"G\"dcB|\"A\"A3 A3::\\n\"A\" ~e3 efe|\"D\" ~d3 dcd|\"A\"e2A ABA|\"Em\"G3 F2G|\\n\"A\"E2A ABA|\"G\"G2A Bcd|\"A\"efe \"G\"dcB|\"A\"A3 A3:|\\n\\n\\nX: 77\\nT:The Director\\n% Nottingham Music Database\\nS:Play A B A C, via Phil Rowe\\nY:ABAC\\nM:6/8\\nK:A\\nP:A\\n\"(E7)\"cde ||\"A\"f2e ^d2e|c3 Ace|\"A\"f2e ^d2e|\"E\"d3 -dcd|\"E\"g3 f3|\\n\"E\"g3 f3|\"E\"e2e e^d=d|\"A\"c3 Ace|\"A\"f2e ^d2e|c3 Ace|\\n\"A\"f2e ^d2e|\"E\"d3 -dcd|\"E\"g3 f3|\"E\"g3 f3|\"E\"e2e efg|\"A\"a3 -a3||\\nP:B\\n\"A\"c3 B2c|E3 E3|\"A\"EFG AGF|\"E\"G3 -G3|\"E\"d3 c2d|\"E\"E3 E3|\\n\"E\"EFG AB=c|\"A\"cEF \"E7\"GAB|\"A\"c3 B2c|E3 E3|\"A7\"A2A ABc|\\n\"D\"d3 -d3|F^EF d2F|\"A\"E^DE c2A|\"E\"G2E EFG|\"A\"A3 ||\\nK:D\\nP:C\\n\"D\"f3 e2f|A3 A3|\"D\"ABc dcB|\"A\"c3 -c3|\"A\"g3 f2g|\"A\"A3 A3|\\n\"A\"ABc de^e|\"D\"fAB \"A7\"cde|\"D\"f3 e2f|A3 A3|\"D7\"d2d def|\\n\"G\"g3 -g3|B^AB g2B|\"D\"A^GA f2d|\"A\"c2A ABc|\"D\"d3 ||\\n\\n\\nX: 78\\nT:Dixden\\n% Nottingham Music Database\\nS:Pauline Wilson, via Phil Rowe\\nM:6/8\\nK:D\\n\"D\"d2A F2A|\"G\"G2B \"A7\"ABc|\"D\"d2A F2A|\"Em\"G2F \"A7\"E2A|\\n\"D\"d2A F2A|\"G\"G2B \"A7\"ABc |\"D\"d2A F2A|\"A7\"B2c \"D\"d3::\\n\"D\"f2d a2f|\"Em\"g2e \"A7\"c2A|\"G\"G2B \"D\"A2d|\"A7\"c2d ecA|\\n\"D\"f2d a2f|\"E\"efe \"A7\"cBA |\"G\"G2B \"D\"A2d|\"A7\"cBc d3:|\\n\\n\\nX: 79\\nT:Doc Boyd\\n% Nottingham Music Database\\nS:Kevin Briggs, via EF\\nY:AB\\nM:6/8\\nK:C\\nP:A\\nG|\"C\"cBc GEG|\"C\"cea g2e|\"F\"faf \"Dm\"A2d|\"G\"BdB \"G7\"GAB|\\n\"C\"cBc GEG|\"C\"cea g2e|\"G7\"fdB GAB|\"C\"c3 c2:|\\nP:B\\ng|\"F\"a2a ag^f|\"C\"g2g g2e|\"G7\"f2f fed|\"C\"g2e \"C7\"c2g|\\n\"F\"a2a ag^f|\"C\"g2g g2e|\"G7\"fdB GAB|\"C\"c3 c2:|\\n\\n\\nX: 80\\nT:Donald Ian Rankine\\n% Nottingham Music Database\\nS:Trad, arr Phil Rowe\\nM:6/8\\nK:G\\n\"D7\"d2c |\"G\"Bdd GBB|DGG B,DD|\"G\"B,DD GBB|\"D\"GFF F3|\\n\"D\"DFF FAA|\"D\"Acc cdd|dff fdd|\"G\"cBB B3|\\n\"G\"Bdd GBB|DGG B,DD|\"G\"B,DD GBB|\"D\"GFF F3|\\n\"D\"DFF FAA|\"D\"Acc cdd|dff fef|\"G\"agg g3||\\n\"G\"bgg dgg|bgg edd|\"G\"bgg dgg|\"D\"gff f3|\\naff dff|\"D\"aff fed|aff dff|\"G\"edd \"D\"d3|\\n\"G\"bgg dgg|bgg edd|\"G\"bgg dgg|\"C\"gee e3|\\necc Gcc|\"G\"DGG Bdd|\"D\"dff fef|\"G\"agg g3||\\n\\n\\nX: 81\\nT:Double Rise\\n% Nottingham Music Database\\nS:Trad arr Hamish, via EF\\nM:4/4\\nK:D\\nM:6/8\\n\"A\"eAA gfe|\"D\"faf def|\"G\"gBB d2e|\"Em\"GdG \"A\"BAA|\\n\"A\"eAA gfe|\"D\"faf def|\"G\"gBB ded|\"G\"BAG [1\"A\"A3:|[2\"A\"AAB||\\n|:\"A\"c2A cde|\"D\"f2d fga|\"G\"g2B \"D/f+\"d2e|\"Em\"GdG \"A\"B2A|\\n\"A\"c2A cde|\"D\"f2d fga|\"G\"g2B \"D/f+\"ded|\"Em\"BAG \"A\"A3:|\\n\"A\"AAA eAa|\"D\"AAA fAa|\"G\"gBB d2e|\"G\"GdG \"A\"BAA|\\n\"A\"AAA eAa|\"D\"AAA fAa|\"G\"gBB ded|\"G\"BAG \"A\"A3:|\\n\"A\"cBA ecA|\"D\"fdA afa|\"G\"g2B \"D/f+\"d2e|\"Em\"GdG \"A\"BAA|\\n\"A\"cBA ecA|\"D\"fdA afa|\"G\"g2B \"D/f+\"ded|\"Em\"BAG \"A\"A3:|\\n\\n\\nX: 82\\nT:Drummond Castle\\n% Nottingham Music Database\\nS:AA, via EF\\nY:AB\\nM:6/8\\nK:Am\\nP:A\\ne|\"Am\"ABA a3|\"Am\"age \"G\"g3|\"C\"c2c edc|\"G\"Bdg dBG|\\n\"Am\"ABA a3|\"Am\"age \"G\"g3|\"C\"e/2g3/2e \"G\"deg|\"Em\"edB \"Am\"A2:|\\nP:B\\nB|\"C\"c2c cde|\"G7\"d2d ded|\"C\"c2c edc|\"G\"Bdg dBG|\\n\"C\"c2c edc|\"G\"deg \"Am\"a2g|\"C\"e/2g3/2e \"G\"deg|\"Em\"edB \"Am\"A2:|\\n\\n\\nX: 83\\nT:Earl Bley\\'s Jig\\n% Nottingham Music Database\\nS:Trad, arr Phil Rowe\\nM:6/8\\nK:D\\n\"D\"A2d \"A\"cde||\"D\"f2g \"Bm\"afd|\"Em\"gfg \"A7\"e3|||\"D\"fga \"A7\"gec|\"D\"d2d d3::\\n\"G\"b2g dgb|\"D\"a2f dfa|\"A\"gec \"A7\"Ace|\"D\"dfg \"D7\"a3|\\n\"G\"b2g dgb|\"D\"a2f dcB|\"A\"Ace Ace|\"D\"d3 -d3:|\\n\\n\\nX: 84\\nT:Easter Chick\\n% Nottingham Music Database\\nS:Heather Bexon, via Phil Rowe\\nM:6/8\\nK:G\\n\"G\"G3 \"C\"gfe|\"G\"d2c B3|\"F\"c2A =FAc|\"D7\"e3 dBd|\\n\"G\"G3 \"C\"gfe|\"G\"d2c \"Em\"B2c| \"D7\"B3 A3|\"G\"G6::\\n\"D7\"ABA D2B|A2B D2B|\"G\"GAG D2B|G2B D2B|\\n\"Am\"A2B c2d|\"C\"e3 \"G\"dBd|\"G\"B3 \"D7\"A3| \"G\"G6:|\\n\\n\\nX: 85\\nT:Edmund MacKenzie of Plockton\\n% Nottingham Music Database\\nS:Andrew Rankine, via Phil Rowe\\nM:6/8\\nK:G\\nFE|:\"G\"DEF GAB|d2d B3|\"Am\"c2c \"D7\"A3|\"G\"d2d B3|\\n\"G\"DEF GAB|\"G\"d2d B3| \"G\"d^cd \"D7\"=cAF|\"G\"G3 G3::\\n\"C\"e3 c3|\"G\"d^cd B3|\"Am\"cBc \"D\"DFA|\"D7\"d2c \"G\"B2B|\\n\"C\"e3 c3|\"G\"d^cd B3| \"G\"ded \"D7\"cBA|\"G\"G3 G3:|\\n\\n\\nX: 86\\nT:Wee Emma\\n% Nottingham Music Database\\nS:Chris Dewhurst 1984, via Phil Rowe\\nM:6/8\\nK:F\\n\"C7\"A2B |\"F\"cac \"C7\"BgB|\"F\"A2f c2B|\"F\"A^GA \"D7\"dcA|\"Gm\"c3 B3|\\n\"C\"b2a g2f|\"C\"ege \"Gm\"d2f| [1\"C\"edc \"Fd\"=Bcd|\"F\"c3 :|\\n[2\"C\"edc cde|\"F\"f3 ||\"F\"A2B |\"F\"cdc \"Bb\"fed|\"F\"cdc A2c|fef agf|\"C\"f3 e2f|\\n\"C\"gag g2e|\"C\"cdc cGA|\"Gm\"BAB \"C7\"dcB|\"F\"B3 A2B|\"F\"cdc \"Bb\"fed|\"F\"cdc A2c|\\n\"F\"fef agf|\"Bb\"e3 \"D7\"d3|\"Gm\"b2a g2f|\"C\"ege \"Gm\"d2f|\"C\"edc cde|\"F\"f3 ||\\n\\n\\nX: 87\\nT:The Family\\'s Pride\\n% Nottingham Music Database\\nS:Ms L Dolman, via EF\\nM:6/8\\nK:D\\nA|\"D\"f2e \"G\"dcB|\"D\"A2F F2A|\"A7\"G2E EcB|\"D\"A2F \"A7\"F2A|\\n\"D\"f2e \"G\"dcB|\"D\"A2F F2A|\"Em\"Ged \"A7\"cBc|\"D\"d3 d2:|\\nA|\"D\"AFD d2c|\"G\"c2B B3|\"A7\"GEC c2B|\"D\"B2A A3|\\n\"B7\"F^DB, B2A|\"Em\"A2G G2F|\"A7\"Eed cBc|\"D\"d3 d2:|\\n\\n\\nX: 88\\nT:Farewell\\n% Nottingham Music Database\\nY:AABA\\nS:Geoff Bocking, via EF\\nM:6/8\\nK:G\\nP:A\\n|B/2c/2|\"G\"ded g2g|\"G\"BcB d2d|\"G\"G2G \"D7/a\"AGA|\"G/b\"BGB \"C\"ABc|\\n\"G\"ded g2g|\"Em\"BcB \"Bm\"d2d|\"C\"G2G \"D7\"AGA|\"G\"G3 -G2|\\nP:B\\nB/2c/2|\"G\"ded \"D7\"cAc|\"G\"BcB \"D7\"AFA|\"G\"GAG BAG|\"Am\"dcB \"D7\"B2A|\\n\"G\"ded \"D7\"cAc|\"G\"BcB \"D7\"AFA|\"G\"GAG BAG|\"G\"dBG \"D7\"AB|\\n\\n\\nX: 89\\nT:Farewell To Joe\\n% Nottingham Music Database\\nS:Chris Dewhurst 1979, via Phil Rowe\\nM:6/8\\nK:A\\n\"E7\"A2B |\"A\"c2e ABc|\"D\"d2f agf|\"A\"efe c2A|E3 B2c|\\n\"E\"ded B2d|\"E\"GBd f2e|\"A\"c3 E^DE|=F3 E3|\"A\"c2e ABc|\"D\"d2f agf|\\n\"A\"efe c2A|E3 A3|\"E\"G2B \"A\"A2c|\"B7\"B2a f2^d|\"E\"e3 -\"Bm\"e3|\"E\"e3 e3||\\n\"Bm\"f2e f2e|\"E\"gfe \"E7\"dcB|\"A\"A2c dcA|E3 A3|\"E\"G2B \"A\"A2c|\\n\"B7\"B2a f2^d|\"E\"e3 -\"Bm\"e3|\"E\"e3 \"E7\"c2d|\"A\"e2c A2B|\"A7\"c2d ecA|\"D\"e2d F2A|\\n\"Dm\"e2d A2B|\"A\"c2e \"F#m\"ABc|\"Bm\"dBG \"E7\"EFG|\"A\"A3 -A3|A3 ||\\n\\n\\nX: 90\\nT:Farmer\\'s Jamboree\\n% Nottingham Music Database\\nS:Lesley Dolman, via EF\\nY:AB\\nM:6/8\\nK:A\\nP:A\\nc/2d/2|\"A\"efe \"E7\"dcB|\"A\"A2c E2c|\"A\"c^Bc edc|\"E7\"B3 Bcd|\\n\"A\"efe \"E7\"dcB|\"A\"A2c Eef|\"E7\"gfe dcB|\"A\"A3 A2:|\\nP:B\\nc/2d/2|\"A\"e2c a2g|\"D\"f2d \"Bm\"b2a|\"E7\"g2B Bdf|\"A\"e3 \"E7\"ecd|\\n\"A\"e2c a2g|\"D\"f2d \"Bm\"b2a|\"E7\"gfe dcB|\"A\"A3 A2:|\\n\\n\\nX: 91\\nT:Feathers\\n% Nottingham Music Database\\nS:EF\\nM:6/8\\nK:G\\nB/2A/2|\"G\"G2G G2g|\"C\"gfe \"G\"d3|\"Am\"c2B A2G|\"D7\"FGA DEF|\"G\"G2G G2g|\\n\"C\"gfe \"D\"d2c|\"Em\"BAG \"D7\"AGF|\"G\"G3 GFE|\"D\"D2D D2d|\"Em\"dcB \"Am\"c3|\"D\"D2D D2c|\\n\"Am\"cBA \"D7\"B2A|\"G\"G2G G2g|\"C\"gfe \"D\"d2c|\"Em\"BAG \"D7\"AGF|\"G\"G3 G2||\\n\\nX: 92\\nT:Fiddle Hill Jig\\n% Nottingham Music Database\\nS:Trad, arr Phil Rowe\\nM:6/8\\nK:G\\nG|\"G\"G2g f2e|d^cd edB|\"G\"G2B c2^c|\"D\"d3 -dAB|\\nc2d c2d|\"D\"cAF DFA| [1\"D\"ded \"D7\"cdc|\"G\"B3 -B2:|[2\"D7\"ded cBA|\"G\"G3 -G2|||\\nK:D\\n|:F/2G/2|\"D\"A2z\"A\"G2z|\"D\"FAd fed|\"A\"c2e B2c| \"E7\"BA^G \"A\"A2F/2G/2|\\n\"D\"A2z\"A\"G2z|\"D\"FAd fed|\"A7\"cBA gfe| [1\"D\"d3 -d2:| [2\"D\"d3 \"D7\"=cBA||\\n\\n\\nX: 93\\nT:Fiery Clock Fyece\\n% Nottingham Music Database\\nS:EF\\nY:AB\\nM:6/8\\nK:C\\nP:A\\ng|\"C\"c\\'2c\\' c2d|\"C\"e2f g2a|\"Bb\"_b2b d2e|\"Bb\"f2g \"G7\"a2b|\\n\"C\"c\\'2c\\' c2d|\"C\"e2f g2g |\"F\"abc\\' \"G7\"d\\'2b|\"C\"c\\'3 c\\'2:|\\nP:B\\nc/2d/2|\"C\"e2e cde|\"F\"f2e d2c|\"Dm\"B2A G2A|\"G\"B2c d2^d|\\n\"Am\"e2e cde|\"Dm\"f2e d2c|\"G7\"BAG A2B|\"C\"c3 c2:|\\n\\n\\nX: 94\\nT:Fifty Not Out\\n% Nottingham Music Database\\nS:Chris Dewhurst 1984, via Phil Rowe\\nM:6/8\\nK:C\\n\"G7\"GAB |\"C\"c2c cde|G2E A2E|\"C\"G^FG A2G|\"G\"B3 B2c|def B2d|\\n\"G\"G2B DGB|d^cd fe^d|\"C\"e3 \"G7\"GAB|\"C\"c2c cde|G2E A2E|\\n\"C\"G^FG A2G|\"G\"B3 B2c|def B2d|\"G\"G2B DGA|BAG e2d|\"C\"c3 cB_B||\\n\"F\"A2c FAc|\"F\"f3 -f2A|\"C\"G2c EGc|\"C\"e3 -e2c|\"G\"B2d d^cd|\\n\"D7\"A2d d^cd|\"G\"G^FG ^ABd|\"G\"g3 GAB|\"C\"c2c cde|G2E A2E|\\n\"C\"G^FG A2G|\"G\"B3 B2c|def B2d|\"G\"G2B DGA|BAG e2d|\"C\"c3 ||\\n\\n\\nX: 95\\nT:First Western Change\\n% Nottingham Music Database\\nS:From Don Merser\\'s \\'Way Down East Fiddlin\\' Tunes\\', via Phil Rowe\\nM:6/8\\nK:G\\n\"G\"gba \"C\"gfe|\"G\"d2B GBc|\"D7\"d^cd F2d|\"G\"d^cd BGd|\\n\"G\"gba \"C\"gfe|\"G\"d2B GBc|\"D\"d^cd DEF|\"G\"G3 G2B::\\n\"D\"AFA B2A|FGA f2f|\"Em\"g2f agf|\"A7\"ece a^ga|\\n\"D\"AFA B2A|\"D\"FGA f2e|\"Em\"gfg \"A7\"AB^c|\"D\"d3 d3:|\\n\\n\\nX: 96\\nT:The Flight\\n% Nottingham Music Database\\nS:Trad, arr Phil Rowe\\nM:6/8\\nK:C\\nG|\"C\"ced ced|c2G G2F|\"C\"EGc \"F\"ABc|\"Dm\"dfe \"G\"d2G|\\n\"C\"ced ced|c2G G2F|\"C\"EGc \"G7\"GcB|\"C\"c3 -c2:|\\ng|\"C\"g2e ceg|\"F\"a2f \"G\"def|\"C\"g2c B2c|\"G\"dBG G2g|\\n\"C\"g2e ceg|\"F\"a2f \"G\"def|\"C\"gec \"G7\"GcB|\"C\"c3 -c2:|\\n\\n\\nX: 97\\nT:Flirtation !!!\\n% Nottingham Music Database\\nS:Trad, arr Phil Rowe\\nM:6/8\\nK:Am\\nE|\"Am\"A2B c2d|ecA ecA|\"G\"G2A B2c|ded dBG|\\n\"Am\"A2B c2d|\"Am\"ecA \"Bm\"Bcd|\"E7\"efe dcB|\"Am\"A3 -A2::\\nA|\"Am\"EAA A2B|c2B c2A|\"Em\"G3 -G2E|G3 -G2A|\"Am\"EAA A2B|\\nc2B c2d|\"C\"e3 -e2c|e3 -e2c|\"Am\"eee edc|\"G\"d2d d2B|\\n\"F\"c2c cBA|\"E\"B2B Bcd|\"Am\"e3 \"Bm\"d3|\"Am\"c3 \"G\"B3|\"Am\"EAA \"E7\"A2^G|\"Am\"A3 -A2:|\\n\\n\\nX: 98\\nT:My Favourite Flute\\n% Nottingham Music Database\\nS:Bob McQuillen Sept 1976, via Phil Rowe\\nM:6/8\\nK:D\\nfg|\"D\"a2f \"A7\"g2e|\"D\"fgf fed|\"A\"Aee Aee|\"Bm\"dfb \"A7\"afg|\\n\"D\"a2f \"A7\"g2e|\"Bm\"fgf fed|\"A\"Aee \"A7\"Aag|\"D\"fdd d::\\nfa|\"G\"\"Bm\"b3 \"D\"\"F#m\"a3|\"G\"\"Bm\"bab \"D\"\"F#m\"a2f|\"D\"def \"A7\"ede|\\\\\\n\"Bm\"fbb bfa|\\n\"G\"\"Bm\"b3 \"D\"\"A\"a3|\"G\"bab \"A7\"\"F#m\"afe|\"D\"def \"A7\"ede|\"D\"fdd d:|\\n\\n\\nX: 99\\nT:Footy Aygen The Wa\\'\\n% Nottingham Music Database\\nS:Trad, arr Phil Rowe\\nM:6/8\\nK:Em\\nf|\"Em\"g2e \"D\"f2d|\"Em\"e2d B2f|\"Em\"g2e \"D\"f2d|\"Bm\"B3 -B2f|\"Em\"g2e \"D\"f2d|\\\\\\n\"C\"e2f g2e|\"G\"dBG \"D\"A2B|\"Em\"E3 -E2::\\nF|\"G\"G2A B2d|\"D\"c2A \"G\"B2A|\"Em\"G2A B2d|\"C\"e3 -\"B7\"e2f|\"Em\"g2e \"D\"f2d|\\\\\\n\"C\"e2f g2e|\"G\"dBG \"D\"A2B|\"Em\"E3 -E2:|\\n\\n\\nX: 100\\nT:French Canadian Four-step\\n% Nottingham Music Database\\nS:Trad, arr Phil Rowe\\nM:6/8\\nK:G\\nBc|:\"G\"d3/2e/2d \"D\"def|\"G\"g3 gBc|\"G\"d3/2e/2d dcB|\"Am\"cBc \"D\"Afg|\\n\"D\"aAa aAg|\"D\"f3 f2e|[1\"D7\"d3/2e/2d d^c=c|\"G\"B3 \"D7\"B2c:|\\n [2\"D7\"d3/2e/2d def|\"G\"g3 -\"D7\"gBc|||:\"G\"d3/2e/2d dBc|\"G\"d3/2e/2d def|\\\\\\n\"G\"g3/2a/2g gdB|\\n\"Am\"cBc \"D\"Afg|\"D\"aAa aAg|\"D\"f3 f2e|\"D7\"d3/2e/2d d^c=c|\"G\"B3 \"D7\"B2c:|\\n\"D7\"d3/2e/2d def|\"G\"g3 -g||\\n\\n\\nX: 101\\nT:Father Kelly\\'s Jig\\n% Nottingham Music Database\\nS:Trad, arr Phil Rowe\\nM:6/8\\nK:G\\nD|\"G\"GFG BAG|\"D\"FEF AFD|\"G\"GFG BAG|\"G\"B/2c/2dB \"D\"cAF|\\n\"G\"GFG BAG|\"D\"FEF AFD|\"G\"d^cd \"D\"fed|\"D7\"cAF \"G\"G2:|\\nA|:\"G\"B2d gdB|dgB dgB|\"C\"c2e gec|egc egc|\"D\"d2f afd|\\n\"D\"fad fad|[1\"A7\"gfg efg|\"D\"afd cAF:|[2\"A\"d^cd \"D\"fed|\"D\"cAF \"G\"G2||\\n|:A|\"G\"B3 BAG|\"D\"FEF AFD|\"G\"B3 BAG|B/2c/2dB \"D\"cAF|\\n\"G\"B3 BAG|\"D\"FEF AFD|\"G\"d^cd \"D\"fed|\"D7\"cAF \"G\"G2:|\\n\\n\\nX: 102\\nT:Fram Apon Him\\n% Nottingham Music Database\\nS:Peter Kennedy, via EF\\nY:AB\\nK:D\\nM:6/8\\nP:A\\nA/2G/2|\"D\"F2A \"A7\"d2e|\"D\"fgf e2f|\"G\"g2f e2c|\"Em\"d2c \"A7\"B2A|\\n\"D\"F2A \"A7\"d2e|\"D\"fgf \"G\"e2g|\"D\"fef \"A7\"gec|\"D\"d3 d2:|\\nP:B\\nA/2G/2|\"D\"F2A d2A|\"G\"BAG \"D\"F2D|\"G\"GBG \"D\"AFA|\"Em\"E2E \"A7\"E2D|\\n\"D\"F2A d2A|\"G\"BAG \"D\"F2g|\"D\"fef \"A7\"gec|\"D\"d3 d2:|\\n\\n\\nX: 103\\nT:Freds Frolics\\n% Nottingham Music Database\\nY:AAB\\nS:EF\\nM:6/8\\nK:G\\nP:A\\n|:B/2A/2|\"G\"G2G GAB|\"D7\"A2A ABc|\"G\"d2B \"D7/a\"c2A|\"G/b\"B2G \"C\"AGE|\\n\"G\"G2G \"Em\"GAB|\"Am\"A2A \"D7\"ABc|\"G\"dcB \"D7\"cBA|\"G\"G3 G2:|\\nP:B\\nd|\"G\"g2g gag|\"D\"f2f fgf|\"C\"e2d efg|\"D7\"a2g fed|\"G\"g2g gag|\\n\"D\"f2f fgf|\"Em\"efg \"D7/f+\"fga|\"G\"g3 \"D7\"g2d|\"G\"g2g gag|\"D\"f2f fgf|\\n\"C\"e2d efg|\"D7\"a2g fed|\"G\"g3 \"G7\"Bcd|\"C\"e3 \"Am\"ABc|\"D7\"dcB AGF|\"G\"G3 G2||\\n\\n\\nX: 104\\nT:Garry Owen\\n% Nottingham Music Database\\nS:EF\\nY:AB\\nM:6/8\\nK:A\\nP:A\\na/2g/2|\"A\"fed cBA|\"A\"cdc \"E7\"cag|\"A\"fed cBA|\"Bm\"BcB \"E7\"Bag|\\n\"A\"fed cBA|\"A\"cdc c2e|\"D\"efg \"A\"aec|\"Bm\"BcB \"E7\"B2:|\\nP:B\\nc/2d/2|\"A\"e2c e2c|\"A\"e2c eag|\"D\"f2d f2d|\"D\"f2d f2g|\\n\"A\"a2b c\\'2b|\"A\"agf e2c|\"D\"efg \"A\"aec|\"Bm\"BcB \"E7\"B2:|\\n\\n\\nX: 105\\nT:Garster\\'s Dream\\n% Nottingham Music Database\\nS:Peter Kennedy, via EF\\nY:AB\\nM:4/4\\nK:G\\nM:6/8\\nP:A\\nD|\"G\"G2B BGB|\"C\"cdc \"G\"BAG|\"D7\"FGA ABA|\"D7\"AdA FED|\\n\"G\"G2B BGB|\"C\"cdc \"G\"BAG|\"Am\"F2E \"D7\"DEF|\"G\"G3 G2:|\\nP:B\\nd/2f/2|\"G\"gag gdB|\"D7\"ABA ABd|\"G\"gag gdB|\"D7\"ded def|\\n\"G\"gag gdB|\"Am\"AcB \"D7\"AGE|\"C\"G2E \"D7\"DEF|\"G\"G3 G2:|\\n\\n\\nX: 106\\nT:The General Gathering 1745\\n% Nottingham Music Database\\nY:AAB\\nS:Athole p 136, via EF\\nM:6/8\\nK:D\\nP:A\\n|:f|\"D\"d2F FGF|\"A7\"ABc \"D\"def|\"G\"edc \"D\"dcB|\"Em\"A2E \"A7\"E2f|\\n\"D\"d2F FGF|\"A7\"ABc \"D\"def|\"G\"edc \"D\"dcB|\"D\"A2F F2:|\\nP:B\\nd|\"D\"AGF AGF|\"D\"AGF \"A7\"ABc|\"G\"dcB \"D\"AGF|\"Em\"A2E \"A7\"E2B|\\n\"D\"AGF AGF|\"A7\"ABc \"D\"def|\"G\"edc \"D\"dcB|\"A7\"A2E E2d|\\n\"D\"AGF AGF|\"D\"AGF \"A7\"ABc|\"G\"dcB \"D\"AGF|\"Em\"A2E \"A7\"E2B|\\n\"D\"AGF \"A7\"ABc|\"D\"def \"A7\"efg|\"D\"agf \"A7\"edc|\"D\"dAF D2||\\n\\n\\nX: 107\\nT:George\\'s Corkscrew\\n% Nottingham Music Database\\nS:Chris Dewhurst 1982, via Phil Rowe\\nM:6/8\\nK:C\\n(3G/2A/2B/2|\"C\"c2G e2G|\"Cd\"AG^F \"C\"G3|\"G\"F2G \"C\"E2G|\"F\"Ddc \"G\"BAG|\\n\"C\"c2G e2G|\"Cd\"AG^F \"C\"G3|\"G\"f2d Bcd|[1\"C\"c3 -c2:|[2\"C\"c3-c3||\\n|:\"C\"e2c \"Cd\"_e2c|\"C\"egf edc|\"G\"B2G d2G|\"G\"fGA Bcd|\\n\"C\"e2c \"Cd\"_e2c|\"C\"egf edc|\"G\"BAG fed|\"C\"c3 -c3:|\\n\\n\\nX: 108\\nT:The Giant\\'s Silver\\n% Nottingham Music Database\\nS:Chris Dewhurst 1983, via Phil Rowe\\nM:6/8\\nK:A\\n\"E7\"c2d |\"A\"efe ece|\"A\"a2e c2e|\"Bm\"dcd \"E7\"Bcd|\"A\"f2e \"E7\"c2d|\\n\"A\"efe \"E\"ece|\"F#m\"a2e \"C#m\"c2e|\"Bm\"gfe \"E7\"dcB|\"A\"A3 ::\\n\"A\"ABA |\"E\"G2B EFG|\"A\"A2c ecA|\"Bm\"dcd \"E7\"Bcd|\"A\"f2e c2e|\\n\"D\"aba agf|\"A\"f2e c2e|\"E7\"gfe dcB|\"A\"A3 :|\\n\\n\\nX: 109\\nT:Glendaruel Highlanders\\n% Nottingham Music Database\\nY:AABB\\nS:Kevin Briggs, via EF\\nM:6/8\\nK:A\\nP:A\\n|:e/2c/2|\"A\"A3/2A/2A/2A/2 ABc|\"A\"ece \"D\"f2e|\"A\"cBA \"D\"faf|\"Bm\"e3 \"E7\"efa|\\n\"A\"A3/2A/2A/2A/2 ABc|\"A\"ece \"D\"f2e|\"F#m\"fac \"E7\"edB|\"A\"A3 -A2:|\\nP:B\\n|:e/2d/2|\"A\"c2A \"E7\"ceB|\"A\"c2A Ace|\"D\"f2e faf|\"E7\"e3 efa|\"A\"c2A \"E7\"ceB|\\n\"A\"c2A Ace|\"Bm\"fec \"E7\"edB|\"A\"A3 -\"E7\"Aed|\"A\"c2A \"E7\"ceB|\"A\"c2A Ace|\\n\"D\"f2e faf|\"E7\"e3 efg|\"A\"acc cde|\"Bm\"fBB B2e|\"F#m\"fac \"E7\"edB|\"A\"A3 -A2:|\\n\\n\\nX: 110\\nT:Goat on the Hill\\n% Nottingham Music Database\\nS:Neil Campbell (MacBeat), via EF\\nY:AB\\nM:6/8\\nK:Am\\nP:A\\nc/2d/2|\"Am\"eAA c2d|\"Am\"eag e2d|\"Am\"eAA \"D7\"c2d|\"G\"BGG Gcd|\\n\"Am\"eAA c2d|\"Am\"eag e2d|\"F\"eAA \"G\"BGG|\"Am\"A3 A2:|\\nP:B\\nE|\"Am\"EAA Acc|\"Em\"GBB Bee|\"Am\"EAA \"D7\"ABc|\"G\"BGG G3|\\n\"Am\"EAA Acc|\"Em\"GBB Bee|\"F\"cAA \"G\"BGG|\"Am\"A3 A2:|\\n\"Am\"E/2G/2|AEE A2B|ced c2B|AEE A2B|dBB dcB|\\nAEE A2B|ced c2B|AEE GDD|E3 E2:|\\n\"Am\"A|Acc cee|Bdd dgg|Acc def|gdd dcB|\\nAcc cee|Bdd dBB|AFF GDD|E3 E2:|\\n\"Am\"A/2B/2|ccc c2B|AcB A2B|cBA ^F2D|Bdd dcB|\\nccc c2B|AcB A2B|ccc dBB|c3 c2:|\\n\"Am\"A|cee eaa|dgg gbb|cee edc|Bdd d3|\\ncee eaa|dgg gbb|fcc dBB|c3 c2:|\\n\\n\\nX: 111\\nT:Goat on the Hill\\n% Nottingham Music Database\\nS:Neil Campbell (MacBeat), via EF\\nY:ABCDEF\\nM:6/8\\nK:Am\\n%%MIDI program 110\\n%%MIDI chordprog 68\\n%%MIDI bassprog 115\\n%%MIDI chordvol 100\\n%%MIDI bassvol 110\\nP:A\\n|:c/2d/2|\"Am\"eAA c2d|\"Am\"eag e2d|\"Am\"eAA \"D7\"c2d|\"G\"BGG \"Em\"Gcd|\\n\"Am\"eAA c2d|\"Am\"eag e2d|\"F\"eA\"G\"A BGG|[1\"Am\"A3 A2:|[2\"Am\" A3 A3||\\nP:B\\n|:\"Am\"EAA \"F\"Acc|\"G\"GBB \"Em\"Bee|\"Am\"EAA \"D7\"ABc|\"G\"BGG G3|\\n\"Am\"EAA \"F\"Acc|\"G\"GBB \"Em\"Bee|\"F\"cAA \"G\"BGG|[1\"Am\"A3 A3:|[2\"Am\"A3 A2||\\nP:C\\n%%MIDI program 74\\n|:E/2G/2|AEE A2B|ced c2B|AEE A2B|dBB dAB|\\nAEE A2B|ced c2B|AEE GDD|E3 E2:|\\nP:D\\n%%MIDI program 74\\n|:A/2B/2|ccc e2G|AcB A2G|ccc e2G|Gdd BeG|\\nccc e2G|AcB A2G|ccc dBB|c3 c2:|\\nP:E\\n|:A|Acc cee|Bdd dgg|Acc def|gBB B3|\\nAcc cFF|Bdd dBB|AFF GDD|E3 E2:|\\nP:F\\n|:A|cee eAA|dGG GBB|cee FGA|Bdd d3|\\ncee eAA|dGG GBB|Fcc dBB|c3 c2:|\\n\\n\\nX: 112\\nT:The Gobby O\\n% Nottingham Music Database\\nS:FTB 2/42, via EF\\nY:AB\\nM:6/8\\nK:Am\\nP:A\\nA/2B/2|\"Am\"c2A A^GA|\"Am\"E2A A^GA|\"G\"B2G GBc|\"G\"dBG GAB|\\n\"Am\"c2A A^GA|\"Am\"E2A A2e|\"Em\"\"C\"edc \" \"\"G\"BAG|\"Am\"E2A A2:|\\nP:B\\nE|\"Am\"A2B c2d|\"Em\"e2^f g2e|\"D\"^faf \"C\"g2e|\"G\"dBG GAB|\\n\"Am\"A2B c2d|\"Am\"e^fe a2f|\"Em\"\"C\"edc \" \"\"G\"BAB|\"Am\"c2A A2:|\\n\\n\\nX: 113\\nT:Grandfather\\'s Pet\\n% Nottingham Music Database\\nS:Trad, arr Phil Rowe\\nM:6/8\\nK:D\\nA|\"D\"d2A ABA|d2A ABA|\"D\"d2e \"Bm\"f2d|\"Em\"e2d \"A7\"B2c|\\n\"D\"d2A ABA|\"D\"dBA ABA|d2f a2g|\"A7\"fge \"D\"d2::\\ne|\"D\"f2f fed|\"A7\"e2f g2e|\"D\"f2f fed|\"A7\"ecA A2e|\\n\"D\"fgf fed|\"A7\"e2f g2g|\"D\"agf \"A7\"gec|\"D\"d3 -d2:|\\n\\n\\nX: 114\\nT:Greenholm\\n% Nottingham Music Database\\nS:Trad, arr Phil Rowe\\nM:6/8\\nK:G\\nd|\"G\"dBG GBd|\"C\"efg g2e|\"G\"dBG GAB|\"A7\"ABG \"D7\"FED|\\n\"G\"dBG GBd|\"C\"efg g2e|\"G\"dBG \"D7\"ABA|\"G\"G3 -G2::\\nB/2c/2|\"G\"dBd gfg|\"C\"ece gfg|\"G\"dBG GAB|\"A7\"A3 -\"D7\"A2d|\\n\"G\"dBG GBd|\"C\"efg g2e|\"G\"dBG \"D7\"ABA|\"G\"G3 -G2:|\\n\\n\\nX: 115\\nT:The Grindstone\\n% Nottingham Music Database\\nS:13.2.91, via Phil Rowe\\nM:6/8\\nK:F\\n\"C7\"c2B |\"F\"A2A F2F|\"Bb\"DFD B,2=B,|\\\\\\n\"C7\"C2C CDE|\"F\"F2A \"C7\"c2B|\\n\"F\"A2A F2F|\"Bb\"DFD B,2=B,|\"C7\"C2C CDE| [1\"F\"F3 :|\\n [2\"F\"F3 \"G7\"F3|||:\"C\"E2E CDE|\"Dm\"F2F \"G7\"DEF|\"C\"G2E \"Am\"C2^C|\"Dm\"DEF \"G7\"GA=B|\\n\"C\"c2c edc|\"F\"f2c A2F|\"G7\"G2G FED|\"C\"C6::\\n\"C7\"c2c GAB|\"F\"A2F \"Bb\"D2^D|\"C7\"E^DE C=DE|\"F\"F2A c3|\\n\"C\"c2c cde|\"F\"f2c A2F|\"Gm\"GAB \"C7\"cde|\"F\"f6:|\\n\\n\\nX: 116\\nT:Happy Meeting\\n% Nottingham Music Database\\nS:Lesley Dolman, via EF\\nY:AB\\nM:6/8\\nK:G\\nP:A\\n|:d|\"G\"dBG GBd|\"C\"efg g2e|\"G\"dBG GAB|\"Am\"A3 -\"D7\"A2d|\\n\"G\"dBG GBd|\"C\"efg g2e|\"G\"dBG \"D7\"ABA|\"G\"G3 -G2:|\\nP:B\\n|:B/2c/2|\"G\"d2g gfg|\"C\"e2g gfg|\"G\"dBG GAB|\"Am\"A3 -\"D7\"A2d|\\n\"G\"dBG GBd|\"C\"efg g2e|\"G\"dBG \"D7\"ABA|\"G\"G3 -G2:|\\n\\n\\nX: 117\\nT:Harmonica\\n% Nottingham Music Database\\nY:SAAB\\nS:Kevin Briggs, via EF\\nM:6/8\\nK:G\\nP:S\\nF=FF3/2\\nP:A\\n|:d|\"G\"g2d B2g|\"Am\"e2c A2G|\"D7\"FGA DEF|\\n\"G\"G2B \"D7\"d2e/2f/2|\"G\"g2d B2g|\"Am\"e2c \"A7\"A2G|\"D7\"FGA DEF|\"G\"G3 G2:|\\nP:B\\nd|\"D7\"c2a a2c|\"G\"B2g g2B|\"D7\"ABc def|\"G\"g2a b2d|\"D7\"c2a a2c|\"G\"B2g g2b|\\n\"D\"agf \"A7\"ed^c|\"D\"dFG \"D7\"ABc|\"G\"dBg \"C\"ecg|\"G\"dBg \"C\"ecg|\"G\"dcB BAG|\\n\"D7\"FGA A2B/2c/2|\"G\"dBg \"C\"ecg|\"G\"dBg \"C\"ecg|\"G\"dcB \"D7\"AGF|\"G\"G3 G2||\\n\\n\\nX: 118\\nT:Haste To The Wedding\\n% Nottingham Music Database\\nS:EF\\nY:AB\\nM:6/8\\nK:D\\nP:A\\nF/2G/2|\"D\"A2A A2f|\"G\"ede fdB|\"D\"A2A AGF|\"Em\"GFG \"A7\"EFG|\\n\"D\"A2A A2f|\"G\"ede fdB|\"D\"A2A \"A7\"a2g|\"D\"fdd d2:|\\nP:B\\nd/2e/2|\"D\"fga \"B7\"agf|\"Em\"gab \"A7\"bag|\"D\"fga \"B7\"agf|\\n\"G\"gfg \"A7\"efg|\"D\"a3 \"Bm\"f3|\"G\"ede fdB|\"D\"A2A \"A7\"a2g|\"D\"fdd d2:|\\n\\n\\nX: 119\\nT:Haymaker\\'s Jig\\n% Nottingham Music Database\\nS:Trad, arr Phil Rowe\\nM:6/8\\nK:G\\nB/2-c/2|\"G\"d2d dBd|gfg B3|\"Am\"cBc ABc|\"D7\"e2d B2c|\\n\"G\"d2d dBd|\"G\"gfg B2g|\"D\"fed ecA|\"G\"G3 G2::\\nB/2-d/2|\"G\"g2g gfe|dgd B3|\"Am\"cBc ABc|\"D7\"e2d B2d|\\n\"G\"g2g gfe|dgd B2g|\"D7\"fed ecA|\"G\"G3 -G2:|\\n\\n\\nX: 120\\nT:White Heather Jig\\n% Nottingham Music Database\\nS:Trad, arr Phil Rowe\\nM:6/8\\nK:G\\nD|\"G\"G2G \"D7\"FGA|\"G\"G2G G3|\"G\"B2B \"D7\"ABc|\"G\"B3 -B2B|\"D7\"c2c A2c|\\n\"G\"B2B G2B|\"A7\"ABA GFE|\"D\"D3 -D2D|\"G\"G2G \"D7\"FGA|\"G\"G2G G3|\"G\"B2B \"D7\"ABc|\\n\"G\"B3 -B2B|\"D7\"c2A F2e|\"G\"d2c B2d|\"D\"ded \"D7\"cBA|\"G\"G3 -G2A||\\nK:D\\n\"D\"A2B B2A|Afd A2A|\"D\"A2f fef|\"A7\"g3 -g2A|A2e e2d|\\n\"A7\"d2c c3|ded c2B|\"A7\"B2_B _B2A|\\\\\\nK:D\\n\"D\"A2B B2A|Afd A2A|\\n\"D\"a2f d2c|\"G\"B3 -B2B|B2g g2B|\"D\"A2f f2d|\"A7\"c2A ABc|\"D\"d3 d3||\\n\\n\\nX: 121\\nT:Hexham Quadrille\\n% Nottingham Music Database\\nS:AA, via EF\\nY:ABC\\nM:6/8\\nK:G\\nP:A\\nd|\"G\"gfg dBG|\"G\"BAG \"Em\"E2D|\"G\"GAB BAG|\"G\"GBe \"D7\"d2d|\\n\"G\"gfg dBG|\"G\"BAG \"Em\"E2D|\"G\"GBd \"D7\"DFA|\"G\"BGG G2:|\\nP:B\\nB|\"D7\"c2A F2D|\"G\"G2B d2B|\"C\"cec \"D7\"AFD|\"G\"GBd \"D7\"gfa|\\n\"G\"gdB GBd|\"C\"ecG EGe|\"G/d\"dBG \"D7\"DFA|\"G\"BGG G2:|\\nP:C\\nd|\"G\"dBd gbg|\"C\"ece \"A7\"a2g|\"D7\"fef def|\"G\"gba \"D7\"gfe|\\n\"G\"dBd gbg|\"C\"ece \"A7\"a2g|\"D7\"fed cBA|\"G\"BGG G2:|\\n\\n\\nX: 122\\nT:Hexham Races\\n% Nottingham Music Database\\nS:Kevin Briggs, via EF\\nY:AB\\nM:6/8\\nK:G\\nP:A\\nd/2B/2|\"G\"GBd gdB|\"D7\"ded d2B|\"G\"GBd gdB|\"Am\"ABA \"D7\"A2B|\\n\"G\"GBd gdB|\"D\"def \"C\"gfe|\"G/d\"dcB \"D7\"cBA|\"G\"GAG G2:|\\nP:B\\nd|\"G\"g2d edB|\"D7\"ded def|\"G\"g2d edB|\"Am\"ABA \"D7\"A3|\\n\"G\"g2d edB|\"D\"def \"C\"gfe|\"G/d\"dcB \"D7\"cBA|\"G\"GAG G2:|\\n\\n\\nX: 123\\nT:High Spy\\n% Nottingham Music Database\\nS:Chris Dewhurst 1989, via Phil Rowe\\nM:6/8\\nK:D\\nA|\"D\"a2a \"A7\"gfe|\"Bm\"dcB \"D\"A2F|\"G\"GAB \"D\"Ade|\"Em\"faf \"A7\"e2A|\\n\"D\"a2a \"A7\"gfe|\"Bm\"dcB \"D\"A2F|\"G\"GAB \"D\"Adf|[1\"A\"e3 \"D\"d2:|[2\"A\" e3 \"D\" d3||\\n|:\"A\"eAe efg|\"D\"f2g a3|\"G\"b2b \"D\"afd|\"E7\"c2d \"A\"e3|\\n\"A\"eAe efg|\"D\"f2g a2f| \"G\"gab \"D\"afd|\"A\"e3 \"D\"d3:|\\n\\n\\nX: 124\\nT:Da Aald Hill Grinnd\\n% Nottingham Music Database\\nS:Peter Kennedy Shetland cassette, via EF\\nY:AB\\nM:4/4\\nK:G\\nM:6/8\\nP:A\\n|:D|\"G\"G2G \"D7\"G2A|\"G\"BAG G3|\"C\"edc \"G\"BAG|\"Am\"FAA \"D7\"AFD|\\n\"G\"G2G \"D7\"G2A|\"G\"BGG g3|\"C\"f2e \"D7\"e2A|\"G\"A2G \"G\"G2:|\\nK:D\\nP:B\\n|:F/2G/2|\"D\"A3 f2e|\"D\"dcd \"A7\"A3|\"D\"ABA \"Bm\"AGF|\"Em\"G2E \"A7\"EFG|\\n\"D\"A3 f2e|\"D\"dcd \"A\"ABA|\"G\"Bcd \"A7\"edc|\"D\"d3 d2:|\\n\\n\\nX: 125\\nT:Hilly-Go Filly-Go\\n% Nottingham Music Database\\nY:AABB\\nS:McCusker Brothers, via EF\\nM:6/8\\nK:D\\nP:A\\n|:d/2e/2|\"D\"f2e d2c|\"D\"d2B A2F|\"G\"GFG \"A7\"EFG|\"D\"FDF \"D7\"A2A|\\n\"G\"BGB dcB|\"D\"AFA \"Bm\"d2d|\"Em\"cde \"A7\"ABc|\"D\"d3 -d2:|\\nP:B\\n|:A/2d/2|\"D\"f2f fAd|\"D\"f2f fAd|\"D\"f2f \"G\"g2f|\"A\"e2e e2c|\"Bm\"d2d d2c|\\n\"Bm/a\"d2d d2c|\"Bm/f+\"d2B \"E7/g+\"e2d|\"A7\"c2B ABc|\"D\"ded cBA|\\\\\\n\"G\"B2c d2A|\\n\"D\"ded cBA|\"G\"B2c \"D/f+\"d2f|\"Em\"e2e e2e|\"Em\"e2e efg|\"A7\"a2A ABc|\"D\"d3 -d2:|\\n\\n\\nX: 126\\nT:Hogmany Jig\\n% Nottingham Music Database\\nS:AA, via EF\\nM:6/8\\nK:D\\nd/2e/2|\"D\"fgf fgf|\"D\"e2d d2e|\"D\"fgf fed|\"G\"c2B B3|\"A7\"cdc cdc|\\n\"A7\"B2A A2A|\"A7\"Ace a2g|\"D\"g2f \"A7\"fde|\"D\"fgf fgf|\"D\"e2d d2e|\\n\"D\"fgf fed|\"G\"c2B B3|\"A7\"cdc cdc|\"A7\"B2A A2A|\"A7\"Ace a2c|\\n\"D\"d3 -d2e|\"D\"f2f \"A/c+\"e2e|\"Bm\"d2d \"F#m/a\"c2c|\"G\"B2B BAB|\"A\"c3 A2d|\\\\\\n\"A/e\"g2g \"D\"f2f|\\n\"A/c+\"e2e \"G/b\"d2d|\"A\"c2c \"E7\"BcB|\"A\"A3 -A\"A7\"de|\"D\"f2f \"A/c+\"e2e|\\\\\\n\"Bm\"d2d \"F#m/a\"c2c|\\n\"G\"B2B BAB|\"A\"c3 A2d|\"A/e\"g2g \"D\"f2f|\"A/c+\"e2e \"G/b\"d2d|\"A\"c2A \"A7\"ABc|\\\\\\n\"D\"d3 -d2||\\n\\n\\nX: 127\\nT:Honeypot Jig\\n% Nottingham Music Database\\nS:Roger Swain, via Phil Rowe\\nM:6/8\\nK:C\\nG3 |\"C\"cBc G^FG|E^DE C3|\"C\"EFG A2G|\"G\"F3 -F2G|\"G\"B^AB G^FG|\\n\"G\"FEF D3|DEF A2G|\"C\"E3 -E2G|\"C\"cBc G^FG|E^DE C3|\\n\"C7\"E^DE F2G|\"F\"A3 -A3|\"F\"A2f ffA|\"C\"G2e e3|\"G7\"G^FG A2B|\"C\"c3 -\"D7\"c3||\\n\"G\"G^FG B^AB|\"G7\"d^cd B3|\"C\"G^FG cBc|e^de c3|\"G\"G^FG d^cd|\\n\"G\"fef d3|\"C\"cee Gcc|EGG C3|\"G\"G^FG B^AB|\"G7\"d^cd B3|\\n\"C\"G^FG cBc|e^de c3|\"F\"A2f ffA|\"C\"G2e e3|\"G7\"G^FG A2B|\"C\"c3 -c3||\\n\\n\\nX: 128\\nT:Hot Punch\\n% Nottingham Music Database\\nS:Lesley Dolman, via EF\\nM:6/8\\nK:D\\na/2g/2|\"D\"f2d \"D/f+\"dcd|\"G\"B2d \"D/f+\"A2d|\"D\"f2d faf|\"D\"d3 def|\"Em\"g2e e^de\\\\\\n|\\n\"Em\"c2e \"Em/d\"e2d|\"A7/c+\"c2A cec|\"A7\"A3 a2g|\"D\"f2d \"D/f+\"dcd|\"G\"B2d \"D/f+\"A2d|\\\\\\n\"D\"f2d faf|\\n\"D\"d3 dfg|\"D\"afa \"A\"geg|\"Bm\"fdf \"Em\"e2d|\"A7\"cec ABc|\"D\"d3 \"A7\"a2g|\\n\"D\"f2a a^ga|\"D\"f2a d2a|\"D\"f2d faf|\"D\"d3 def|\"Em\"g2b b^ab|\\n\"Em\"g2b e2b|\"Em\"g2e gbg|\"A7\"e3 a2g|\"D\"f2a a^ga|\"D\"f2a d2a|\"D\"f2d faf|\\n\"D\"d3 dfg|\"D\"afa \"A\"geg|\"Bm\"fdf \"Em\"e2d|\"A7\"cec ABc|\"D\"d3 d2||\\n\\n\\nX: 129\\nT:The Household Brigade\\n% Nottingham Music Database\\nS:Play A B A C, via Phil Rowe\\nY:SABAC\\nM:6/8\\nK:G\\nP:S\\n\"(D7)\"d3\\nP:A\\n\"G\"gdB GBd|g2f a2g|\"Am\"f2e c2A|E3 Ee^d|\"D\"dcA FAc|\\n\"D\"f3 e3|\"D7\"d^cd ^dec|\"G\"Bc^c \"D7\"def|\"G\"gdB GBd|g2f a2g|\\n\"Am\"f2e c2A|E3 Ee^d|\"D\"dcA FAc|\"D\"f3 e3|\"D7\"d^cd ^def|\"G\"g3 g3||\\nP:B\\n\"G\"Bc^c d2e|d2B G2G|\"C\"e^de c2e|\"G\"d3 d3|\"G\"Bc^c d2e|\"G\"d2B G2B|\\n\"A7\"A2g f2e|\"D7\"fed cBA|\"G\"Bc^c d2e|d2B G2G|\"C\"e^de c2e|\\n\"G\"d3 d3|\"C\"egc\\' \"G\"b2a|\"G\"dgb \"D7\"a2g|\"D7\"fed cBA|\"G\"G3 G2d||\\nP:C\\n\"C\"E3 -EDC|E3 E3|\"G7\"F3 -FED|F3 -FEF|\"C\"Ged cBA|\\n\"G7\"B^AB f2B|^A2B f2B|\"C\"A^GA edc|\"C\"E3 -EDC|E3 E3|\"G7\"F3 -FED|\\nF3 -FEF|\"C\"Ged cBA|\"G7\"B^AB f2B|B2f e2d|\"C\"c3 ||\\n\\n\\nX: 130\\nT:Hugh\\'s Happy\\n% Nottingham Music Database\\nS:Trad, arr Phil Rowe\\nM:6/8\\nK:Am\\n\"Am\"e2e EAc|\"Dm\"d2d \"E7\"B3|\"Am\"c2c EA^A|\"Dm6\"B2B \"E7\"^G3|\"F\"A2A CFA|\"C\"G2G c2B\\\\\\n|\\n\"F\"ABc \"Dm\"def|\"E7\"e3 e3|\"Am\"e2e EAc|\"Dm\"d2d \"E7\"B3|\"Am\"c2c EA^A|\\n\"Dm6\"B2B \"E7\"^G3|\"F\"A2A CFA|\"C\"G2G c2B|\"F\"ABc \"E7\"dcB|\"Am\"A3 zBA||\\n\"G7\"G2G Ggf|\"C\"e2d \"Am\"cde|\"Dm\"d2e \"G7\"fgf|\"C\"e3 c3|\"G7\"G2G Ggf|\\n\"Cm\"_e2d c2d|\"D7b9\"_eee edc|\"G\"d3 \"G7\"d3|\"G7\"G2G Ggf|\"C\"e2d \"Am\"cde|\\n\"Dm\"d2e \"G7\"fgf|\"C\"e3 c3|\"G7\"G2G Ggf|\"Cm\"_e2d c2d|\"D7\"_edc \"G7\"dcB|\\\\\\n\"C\"c3 \"D7\"d3||\\nK:G\\n\"G\"B2B Bc^c|\"E7\"d2B e2d|\"Am\"c2c cBA|\"D7\"d3 -def|\"G\"g2d B2d|\\n\"E7b9\"=f2e d2B|\"Am\"c2B c2e|\"D7\"d3 d2c|\"G\"B2B Bc^c|\"E7\"d2B e2d|\\n\"Am\"c2c cBA|\"D7\"d3 -def|\"G\"g3 dBd|\"E7b9\"=f3 edB|\"Am\"c3 \"D7\"cBA|\\\\\\n [1\"G\"G3 \"E7\"e3:|\\n [2\"G\"G3 \"A7\"e3||\\n\\n\\nX: 131\\nT:Hullichan Jig\\n% Nottingham Music Database\\nS:EF\\nY:AB\\nM:6/8\\nK:G\\nP:A\\nd|\"G\"GAG BGB|\"G\"ded dBG|\"C\"cBc ege|\"G\"dBG \"D7\"A2d|\\n\"G\"GAG BGB|\"G\"ded Bdg|\"C\"fed \"D7\"cBA|\"G\"GBd g2:|\\nP:B\\nB/2c/2|\"G\"ded Bcd|\"C\"ece e2e|\"D7\"fgf def|\"G\"gBd \"C\"gfe|\\n\"G\"ded Bcd|\"C\"ece gfe|\"G\"ded \"D7\"cBA|\"G\"GBd g2:|\\n\\n\\nX: 132\\nT:Humber Jumber (The Frisky)\\n% Nottingham Music Database\\nS:Lesley Dolman, via EF\\nY:AB\\nM:6/8\\nK:G\\nP:A\\nD|\"G\"G2G G2B|\"G\"d2d d2d|\"C\"cBA \"A7\"B2G|\"D7\"A2D D3|\"G\"G2G G2B|\"G\"d2d d2d|\\\\\\n\"C\"cde \"D7\"d2c|\"G\"B2G G2:|\\nP:B\\nG|\"C\"e2e e2e|\"G\"d2d d2d|\"Am\"cBA B2G|\"D7\"A2D D3|\"G\"G2G G2B|\"G\"d2d d2d|\\\\\\n\"C\"cde \"D7\"d2c|\"G\"B2G G2:|\\n\\n\\nX: 133\\nT:Humours of Donnybrook\\n% Nottingham Music Database\\nS:Kevin Briggs, via EF\\nY:AB\\nM:6/8\\nK:A\\nP:A\\ne|\"A\"a2A AGA|\"D\"FAA \"E\"EAA|\"A\"a2A AGA|\"Bm\"FBA \"E7\"GFE|\\n\"A\"\"F#m\"a2A AGA|\"D\"FAA \"E\"EAA|\"D/f+\"FAA \"E7/g+\"GAB|\"A\"cBA A2:|\\nP:B\\n|:e|\"A\"Ace ecA|\"A\"Ace \"E7\"e2E|\"A\"Ace edc|\"Bm\"dcd \"E7\"B2B|\\n\"A\"Ace ecA|\"A\"Ace \"E7\"efg|\"A\"agf edc| [1\"E7\"BcB \"A\"A2:|[2\"Bm\"Bcd \"E7\"efg||\\n\\n\\nX: 134\\nT:The Hundred Pipers\\n% Nottingham Music Database\\nS:Trad, arr Phil Rowe\\nM:6/8\\nK:A\\nA/2B/2|\"A\"c2E EFE|\"D\"F2A A2f|\"A\"e2c cBA|\"Bm\"c2B \"E7\"BAB|\\n\"A\"c2E EFE|\"D\"F2A A2f|\"A\"e2c \"E7\"BAB|\"A\"A3 -A2::\\nc/2d/2|\"A\"e2e ece|\"D\"f2a a2f|\"A\"e2c cBA|\"Bm\"c2B \"E7\"Bcd|\\n\"A\"e2e efg|\"D\"a2a agf|\"A\"e2c \"E\"BAB|\"A\"A3 -A2:|\\n\\n\\nX: 135\\nT:Wi\\' a 100 Pipers\\n% Nottingham Music Database\\nS:Kevin Briggs, via EF\\nY:AB\\nM:6/8\\nK:A\\nP:A\\nA/2B/2|\"A\"c2E EFE|\"D\"F2A A2f|\"A\"e2c \"A/c+\"cBA|\"B7/f+\"c2B \"E7\"BAB|\\n\"A\"c2E EFE|\"D\"F2A A2f|\"A\"e2c \"E7\"BcB|\"A\"A3 A2:|\\nP:B\\nc/2d/2|\"A\"e2e ece|\"D\"f2a agf|\"A\"e2c \"A/c+\"cBA|\"B7/f+\"c2B \"E7\"Bcd|\\n\"A\"e2e ece|\"D\"f2a agf|\"A\"e2c \"E7\"BcB|\"A\"A3 A2:|\\n\\n\\nX: 136\\nT:The Hundred Pipers\\n% Nottingham Music Database\\nS:Trad, arr Phil Rowe\\nM:6/8\\nK:A\\nA/2B/2|\"A\"c2E EFE|\"D\"F2A A2f|\"A\"e2c cBA|\"Bm\"c2B \"E7\"BAB|\\n\"A\"c2E EFE|\"D\"F2A A2f|\"A\"e2c \"E7\"BAB|\"A\"A3 -A2::\\nc/2d/2|\"A\"e2e ece|\"D\"f2a a2f|\"A\"e2c cBA|\"Bm\"c2B \"E7\"Bcd|\\n\"A\"e2e efg|\"D\"a2a agf|\"A\"e2c \"E\"BAB|\"A\"A3 -A2:|\\n\\n\\nX: 137\\nT:Hunt The Squirrel\\n% Nottingham Music Database\\nS:Playford, via EF\\nY:AB\\nM:6/8\\nK:A\\nP:A\\nc/2B/2|\"A\"Aee e2f|\"A\"e3 c3|\"A\"ABc \"D\"B2A|\"A/c+\"ABc \"E7/b\"B2A|\"A\"Aee e2f|\\\\\\n\"A\"e3 c3|\"D\"ABc \"E7\"B2A|[1\"A\"A3 A2:|[2 \"A\" A3 A3||\\nP:B\\n|:\"D\"d2e fed|\"D/c+\"d2e fed|\"Bm\"d2e f2g|\"F#m\"a3 agf|\"A\"ec2 ec2|\"C#m\"ec2 e3|\\\\\\n\"F#m\"ABc \"E7\"B2A|\"A\"A3 A3:|\\n\\n\\nX: 138\\nT:Icy Jig\\n% Nottingham Music Database\\nS:Chris Dewhurst 1979, via Phil Rowe\\nM:6/8\\nK:Am\\n\"(E7)\"e3 |\"Am\"a3 e2d|\"Am\"cBc ABc|\"Dm\"d3 A2G|FEF DEF|\"E\"E3 ^G2B|\"E7\"efe dcB|\\\\\\n [1\"Am\"A3 -\"G\"A3|\"F\"A3:|\\n [2\"Am\"A3 -\"Dm\"A3|\"Am\"A3||\"A7\"a3 |\"Dm\"fef a^ga|\"G\"d^cd fef|\"C\"g^fg age|c3 e3|\\n\"B\"^dBd ^fdf|\"B7\"b2b ag^f|\"E\"e3 -e3|\"E7\"e3 \"A7\"a3|\"Dm\"fef a^ga|\"G\"d^cd fef|\\n\"C\"g2^d ege|\"Am\"c3 d2e|\"Dm\"f3 a2f|\"E7\"efe dcB|\"Am\"A3 -\"Dm\"A3|\"Am\"A3 ||\\n\\n\\nX: 139\\nT:Indian Point\\n% Nottingham Music Database\\nS:Trad, arr Phil Rowe\\nM:6/8\\nK:Em\\n\"Em\"B,EF G2A|\"Em\"BAG FED|\"C\"CEF G2A|\"C\"BAG BAG|\"D\"FED A,2D|\\n\"D\"FEF AGF|[1\"Em\"EFG BAG|\"Bm\"F3 FED:|[2\"Em\"GFE \"Bm\"\"D\"FED|\"Em\"E3 -E2B||\\n|:\"Em\"\"Bm\"Bef gfe|\"C\"cef gfe|\"D\"dfg agf|\"D\"\"Em\"gfe \" \"\"D\"fed|\\n\"Em\"\"Bm\"Bef \" \"\"Em\"gfe|\"C\"ceg \"Am\"a2a|\"Em\"bag \"B7\"fgf|[1\"Em\"e3 \"B7\"edc:|[2\"Em\"e3 -e3||\\n\\n\\nX: 140\\nT:Ingalls\\' Jingle\\n% Nottingham Music Database\\nS:Bob McQuillen April 1974, via Phil Rowe\\nM:6/8\\nK:G\\n|:d|\"G\"g2d \"D7\"cBA|\"G\"Bcd \"D7\"cBA|\"G\"GAB \"C\"cde|\"D7\"d3 -d2d|\\n\"G\"g2d \"D7\"cBA|\"G\"Bcd \"D7\"cBA|\"G\"GAB \"D7\"AGF|[1\"G\"G3 -G2:|[2\"G\"G3-G||\\n|:FG|\"D\"A2G FGA|\"G\"B2A GAB|\"C\"cde \"G\"dcB|\"D\"A3 -AFG|\"D\"A2G FGA|\\n\"G\"B2A GBd|\"G\"dcB \"D7\"AGF|\"G\"G3 -GFG|\"D\"A2G FGA|\"G\"B2A GAB|\"C\"cde \"G\"dcB|\\n\"D\"A3 -Azd|\"C\"efg \"G\"dzd|\"C\"efg \"G\"dzg|\"D7\"fed cBA|\"G\"G3 -G:|\\n\\n\\nX: 141\\nT:Irish Washerwoman\\n% Nottingham Music Database\\nS:Trad, via EF\\nY:AB\\nM:6/8\\nK:G\\nP:A\\nd/2c/2|\"G\"BGG DGG|\"G\"BGB dcB|\"Am\"cAA EAA|\"D7\"cAc edc|\\n\"G\"BGG DGG|\"G\"BGB dcB|\"C\"cBc \"D7\"Adc|\"G\"BGG G2:|\\nP:B\\ng|\"G\"gdg gdg|\"G\"gdg bag|\"D7\"fdf fdf|\"D7\"fdf agf|\\n\"C\"egg \"G/b\"dgg|\"D7/a\"cgg \"G\"BgB|\"C\"cBc \"D7\"Adc|\"G\"BGG G2:|\\n\\n\\nX: 142\\nT:Irish Washerwoman\\n% Nottingham Music Database\\nS:EF\\nY:AB\\nM:6/8\\nK:G\\nP:A\\nd/2c/2|\"G\"BAB DGB|\"G\"DGB dcB|\"Am\"cBc DFA|\"D7\"dfa gdc|\\n\"G\"BAB DGB|\"G\"DGB dcB|\"C\"cBc \"D7\"Adc|\"G\"BGF G2:|\\nP:B\\ng/2a/2|\"G\"b^ab dgb|\"G\"dgb d\\'bg|\"D7\"a^ga dfa|\"D7\"dfa c\\'af|\\n\"C\"gef \"G/b\"gdf|\"D7/a\"gba \"G\"gdB|\"C\"cBc edc|\"D7\"dfa \"G\"g2:|\\n\\n\\nX: 143\\nT:McQuillen\\'s Irish Green\\n% Nottingham Music Database\\nS:Bob McQuillen Aug 1976, via Phil Rowe\\nM:6/8\\nK:G\\nd|\"G\"g2g gfe|ded dBd|\"C\"efg \"G\"dBA|\"Em\"Bee \"D7\"e2d|\\n\"G\"g2g g2f|\"C\"efg \"G\"dBd|\"G\"gdB \"Em\"GAB|\"D7\"AGF \"G\"G2::\\nF|\"Em\"EBB EBB|\"C\"EBB \"Am\"AGA|\"Bm\"BAB dBA|\"Em\"B2e \"Bm\"e2f|\\n\"Em\"gab \"B7\"aga|\"Em\"bee ega|\"B7\"b2b agf|\"Em\"gee e2:|\\n\\n\\nX: 144\\nT:Jan Martindale\\'s Trip To The Bathroom\\n% Nottingham Music Database\\nS:Mike Richardson, via Phil Rowe\\nM:6/8\\nK:D\\n\"A\"A3 |:\"D\"DFA \"C\"=CEG|\"D\"DFA \"C\"=CEG|\"D\"DFA \"Bm\"dcd|\"Em\"ecA \"A\"GFE|\\n\"D\"DFA \"C\"=CEG|\"D\"DFA \"C\"=CEG|\"D\"DFA \"C\"GE=C|\"A\"A,B,C \"D\"D3:|\\nK:G\\n\"G\"G3 |:GAB|\"C\"c3 cde|\"G\"d3 B3|\"D\"A3 -A3|\\n\"G\"G3 GAB|\"C\"c3 cde|\"G\"d2g \"D\"fga|\"G\"g3 :|\\n\\n\\nX: 145\\nT:Fair Jenny\\'s Jig\\n% Nottingham Music Database\\nS:Trad, arr Phil Rowe\\nM:6/8\\nK:D\\ne|:\"D\"f3 fgf|\"A7\"ecA ecA|\"G\"Bcd \"A7\"ecA|\"G\"Bcd \"A7\"efg|\\n\"D\"f3 fgf|\"A7\"ecA ecA|\"G\"Bcd \"A7\"ecA|\"A7\"ABc \"D\"d3::\\n\"G\"B3 B=cB|GBB B=cB|\"D\"ADD dDD|cDD =cDD|\\n\"G\"B3 B=cB|GBB B=cB|\"A\"AEA ABc|\"D\"dAF D3:|\\n\\n\\nX: 146\\nT:Joan of Arc\\n% Nottingham Music Database\\nS:Hugh Barwell, via Phil Rowe\\nM:6/8\\nK:Dm\\n\"A7\"A|\"Dm\"f2f fed|\"A7\"e2^c A2A|\"Dm\"f2f fed|\"A7\"e2^c A2A|\\n\"Dm\"d2d \"D7\"d2A|\"Gm\"B2B B2G|\"A7\"ABA GFE| [1\"Dm\"D3 D2:|\\n [2\"Dm\"D3 D|||:ED|\"C7\"C2E G2 B|\"F\"A2G FE_E|\"D7\"D2^F A2c|\\n\"Gm\"B2A G^F=F|\"E7\"E2^G =B2d|\"A\"^c2=B A3|\"A7\"^c2e gfe| [1\"Dm\"dAF D:|\\n [2\"Dm\"d3-d2 |||:e|\"Dm\"f3 def|\"C\"e3 cde|\"Bb\"d3 Bcd|\"A7\"^c2\\nB A2G|\"Dm\"A3 FGA|\"C\"G3 EFG|\"Dm\"FED \"A7\"ED^C|\"Dm\"D3 -D2:|\\n\\n\\nX: 147\\nT:Joanie\\'s Jig\\n% Nottingham Music Database\\nS:Bob McQuillen, via Phil Rowe\\nM:6/8\\nK:D\\nDE|\"D\"FGF \"A\"EFE|\"D\"DA,A, DFG|\"D\"AFA \"G\"dcB|\"D\"A3 -AFA|\\n\"G\"BGB \"D\"AFA|\"A\"GEG \"D\"FGA|\"Em\"B2A G2F|\"E7\"FED \"A7\"EDE|\\n\"D\"FGF \"A\"EFE|\"D\"DA,A, DFG|\"D\"AFA \"G\"dcd|\"A\"e3 -ede|\\n\"Bm\"fdd \"A\"e2c|\"G\"dcB \"D\"AFA|\"G\"Bcd \"A7\"edc|\"D\"d3 -dde||\\n\"D\"fdd edd|\"D\"fdd \"A\"efe|\"D\"dcd \"G\"Bcd|\"D\"A3 -AFA|\"G\"Bdd \"D\"Add|\\n\"Em\"GAB \"D\"AFA|\"G\"BGB \"D\"AFD|\"Em\"E3 -\"A7\"E2A|\"D\"fdd edd|\"D\"fdd \"A\"efe|\\n\"D\"dcd \"G\"Bcd|\"D7\"A3 -AFA|\"G\"BGB \"A\"c2c|\"Bm\"dcd \"A\"e2g|\"D\"fed \"A7\"edc|\\\\\\n\"D\"d3 -d3||\\n\\n\\nX: 148\\nT:John Brown\\'s Body\\n% Nottingham Music Database\\nS:Trad, via EF\\nM:6/8\\nK:D\\nF/2G/2|\"D\"A2A \"A7\"A2G|\"D\"F2A d2e|\"D\"f2f f2e|\"D7\"d3 d2A|\"G\"B2A B2c|\"G\"d2e d2B|\\n\"D\"A2B \"A7\"A2G|\\n\"D\"F3 \"A7\"F2G|\"D\"A2A \"A7\"A2G|\"D\"F2A d2e|\"F#7\"f2f f2e|\"Bm\"d3 d2d|\"E7\"e3 e3|\\n\"A7\"d3 c3|\"D\"d3 d2d|\"D\"d3 d2||\\n\\n\\nX: 149\\nT:Johnny MacGill\\n% Nottingham Music Database\\nS:Athole p 141, via EF\\nM:6/8\\nK:F\\n|:d|\"F\"cAA AGF|\"F\"cAA A2d|\"F\"cAA \"C\"AGA|\"Dm\"FDD \"C7\"D2d|\\n\"F\"cAA AGF|\"F\"cAA AGF|\"Gm\"G3 \"A7\"AGA|[1\"Dm\"FDD D2:|[2 \"Dm\" FDD D3||\\n|:\"Dm\"f3 \"C/e\"g3|\"F\"afd \"F\"cAF|\"Dm\"f3 \"C\"g3|\"Dm\"afd \"C\"dfg|\\n\"F\"afa \"C\"geg|\"Dm\"fde \"C\"\"Bb\"f2d|\"F\"cAF \"A7\"\"C/e\"G2A|\"Dm\"FDD D3:|\\n\\n\\nX: 150\\nT:Jonathan\\'s Jig\\n% Nottingham Music Database\\nS:Bob McQuillen March 1978, via Phil Rowe\\nM:6/8\\nK:D\\nde|\"D\"fgf \"A7\"ede|\"D\"f2d AFA|\"G\"Bcd \"A7\"e2c|\"D\"d3 -d2e|\"D\"fgf \"A7\"efe|\\n\"D\"d2f afa|\"Em\"b2a g2f|\"A7\"e3 -ede|\"D\"fgf \"A\"efe|\"G\"d2B \"D\"AFA|\\n\"G\"Bcd g2f|\"D\"f3 \"A\"e2A|\"D\"dcd \"A\"ede|\"F#m\"f2g a2g|\"Bm\"fed \"A7\"edc|\"D\"d3 -d\\n|:fg|\"D\"aba afg|aba afe|\"D\"def \"G\"g2f|\\n\"D\"f3 \"A\"e2A|\"D\"def \"A7\"ede|\"D\"f2d AFA|\"Em\"Bcd \"A\"e2c|\"D\"d3 -d:|\\n\\n\\nX: 151\\nT:Jopplety How\\n% Nottingham Music Database\\nS:Chris Dewhurst 1989, via Phil Rowe\\nM:6/8\\nK:G\\n\"G\"gbg \"B7\"f3|\"C\"ege \"G\"d3|\"C\"cde \"G\"dBG|\"Am\"ABc \"D7\"def|\\n\"G\"gbg \"B7\"f3|\"C\"ege \"G\"d2B|\"C\"cde \"G\"dBG|\"D\"A3 \"G\"G3::\\n\"D\"DEF \"G\"GAB|\"Em\"EFG \"Am\"ABc|\"D\"def \"G\"gab|\"A7\"age \"D\"d2(3d/2e/2f/2|\\n\"G\"gbg \"B7\"f3|\"C\"ege \"G\"d2B|\"C\"cde \"G\"dBG|\"D\"A3 \"G\"G3:|\\n\\n\\nX: 152\\nT:Joy Street Jig\\n% Nottingham Music Database\\nS:Ralph Page, via Phil Rowe\\nM:6/8\\nK:A\\nE|\"A\"A2B c2d|\"A\"ea2 \"D\"g2f|\"A\"e2c cBc|\"Bm\"d2c \"E7\"B2E|\\n\"A\"A2B c2d|\"A\"ea2 \"D\"g2f |\"A\"edc \"E7\"dcB|\"A\"A3 -A2:: B/2A/2|\\n\"E\"GFG \"E7\"EFG|\"A\"Ace aec|\"E\"B^AB EFG|\"B7\"AGF \"E\"E2A|\\n\"E\"GFG \"E7\"EFG|\"A\"Ace aec|\"E\"B^AB \"E7\"EFG|\"A\"AcB A2:|\\n\\n\\nX: 153\\nT:Joy of the Dance\\n% Nottingham Music Database\\nS:Trad, arr Phil Rowe\\nM:6/8\\nK:D\\n(3A/2B/2c/2|\"D\"dcd f2e/2f/2|\"G\"gfg \"Em\"B2e/2d/2|\"A7\"cBA g2e|\\\\\\n\"D\"[f3-A3-]\"A7\"[f2A2]f/2g/2|\\n\"D\"aba fdA|\"Bm\"Bcd f3|\"E7\"efe Bcd|\"A7\"[e3-c3][e2c2(3A/2B/2c/2|\\n\"D\"dcd f2e/2f/2|\"G\"gfg \"Em\"B2e/2d/2|\"A7\"cBA g2e|\"D\"[f3-A3-]\"A7\"[f2A2]f/2g/2|\\n\"D\"afd A2e/2f/2|\"G\"gfg \"E7\"B2e/2d/2|\"A7\"Age BcA|\"D\"d3 d3||\\n\"A7\"c3 -cBA|\"A7\"[g3-A3-][gA]ec|\"D\"d3 -dBA|\"D\"[f3-A3-][fA]ed|\"A7\"c2c cBA|\\n\"A7\"g2g g3|\"D\"d2d dBA|\"D\"[f2A2][fA] [f3A3]|\"A7\"c3 -cBA|\"A7\"[g3-A3-][gA]ec|\\n\"D\"d3- dBA|\"D\"[f3-A3-] [fA]ed|\"G\"g3 -\"Em\"gab|\"D\"f3 -fga|\"Em\"efg \"A7\"B2c|\\\\\\n\"D\"d3 d2||\\n\\n\\nX: 154\\nT:Julian\\'s Jig\\n% Nottingham Music Database\\nS:Dennis Salter, via Phil Rowe\\nM:6/8\\nK:C\\n\"C\"ceg ceg|\"F\"a2a a3|\"C\"gec \"Am\"cBc|\"Dm\"d3 \"G7\"e2d|\\n\"C\"ceg ceg|\"F\"a2a a3|\"C\"g2e \"G7\"fdB|[1\"C\"c3 \"G7\"e2d:|[2\"C\"c3 \"E7\"B3||\\n\"Am\"A^GA cBA|\"E7\"^GAB E^FG|\"Am\"A^GA cBA|\"E7\"B3 -B2B|\"Am\"A^GA cBA|\\n\"E7\"^GAB e2d|\"C\"c2g \"F\"fed|\"C\"e3 \"E7\"e3|\"Am\"e^de a^ga|\"E7\"^ge^d eB=d|\\n\"Am\"cz2\"D7\"Az2|\"G\"G3 \"E7\"^G3|\"A7\"A=ce g2^f|\"Dm\"f2A ABc|\"G7\"B2G e2d|\"C\"c3 -c2||\\n\\n\\nX: 155\\nT:Julie\\'s Jig\\n% Nottingham Music Database\\nS:Trad, arr Phil Rowe\\nM:6/8\\nK:G\\nd2c |\"G\"BGD G2B|d3 -d2c|\"G\"BGD G2B|d3 -d2c|B2d d^cd|\\n\"G\"edc BAG|\"D\"Add d^cd|Add d2c|\"G\"BGD G2B|\"G7\"d3 -dBG|\\n\"C\"c2B c2e|\"Cd\"g3 -gfe|\"G\"d2d d^cd|edc BAG|\"D\"A2G G2F|\"G\"G3 ||\\ng2f |\"C\"e3 c3|e2g f2e|\"G\"d2e d2G|B3 -B2c|\"G\"d2d d^cd|\"G\"edc BAG|\\n\"D\"Add d^cd|Add d2c|\"G\"BGD G2B|\"G7\"d3 -dBG|\"C\"c2B c2e|\\n\"Cd\"g3 -gfe|\"G\"d2d d^cd|edc BAG|\"D\"A2G G2F|\"G\"G3 ||\\n\\n\\nX: 156\\nT:Julie\\'s Jig\\n% Nottingham Music Database\\nS:Trad, arr Phil Rowe\\nM:6/8\\nK:G\\nd2c |\"G\"BGD G2B|d3 -d2c|\"G\"BGD G2B|d3 -d2c|B2d d^cd|\\n\"G\"edc BAG|\"D\"Add d^cd|Add d2c|\"G\"BGD G2B|\"G7\"d3 -dBG|\\n\"C\"c2B c2e|\"Cd\"g3 -gfe|\"G\"d2d d^cd|edc BAG|\"D\"A2G G2F|\"G\"G3 ||\\ng2f |\"C\"e3 c3|e2g f2e|\"G\"d2e d2G|B3 -B2c|\"G\"d2d d^cd|\"G\"edc BAG|\\n\"D\"Add d^cd|Add d2c|\"G\"BGD G2B|\"G7\"d3 -dBG|\"C\"c2B c2e|\\n\"Cd\"g3 -gfe|\"G\"d2d d^cd|edc BAG|\"D\"A2G G2F|\"G\"G3 ||\\n\\n\\nX: 157\\nT:Jump at the Sun\\n% Nottingham Music Database\\nS:John Kirkpatrick, via EF\\nM:6/8\\nK:Gm\\nB/2A/2|\"Gm\"GBd ^c2d|\"Gm\"GBd ^c2d|\"Gm\"gdd \"Gm/bb\"gdd|\"Cm\"dcB \"D7\"A2B|\\n\"Gm\"GBd ^c2d|\"Gm\"GBd ^c2d|\"Gm\"gdd \"Cm\"edc|[1\"D7\"BcA \"Gm\"G2:|[2\"D7\" BcA \"Gm\" G3||\\n|:\"Gm\"gdd bag|\"D7\"add c\\'ba|\"Gm\"bag bag|\"D7\"a^fd e2d|\\n\"Gm\"gdd bag|\"D7\"add c\\'ba|\"Gm\"gdd \"Cm\"edc|\"D7\"BcA \"Gm\"G3:|\\n\\n\\nX: 158\\nT:Katie\\'s Rambles\\n% Nottingham Music Database\\nS:Kevin Briggs, via EF\\nY:AB\\nM:6/8\\nK:D\\nP:A\\nd/2B/2|\"D\"A2d \"C\"=cBA|\"D\"def \"G\"gag|\"D\"fed \"A\"cBA|\"Em\"GFG \"A7\"AFD|\\n\"D\"A2d \"C\"=cBA|\"D\"def \"G\"gag|\"D\"fed \"A\"cBA|\"A7\"Adc \"D\"d2:|\\nP:B\\nf/2e/2|\"D\"dfa dfa|\"D\"dfa agf|\"C\"=ceg ceg|\"C\"=ceg gfe|\\n\"D\"fef \"A7/e\"gfg|\"D/f+\"aga \"G\"bag|\"D/a\"fed \"A\"cBA|\"A7\"Adc \"D\"d2:|\\n\\n\\nX: 159\\nT:Kennet Jig (For Kennet Mixer)\\n% Nottingham Music Database\\nS:Pauline Wilson, via Phil Rowe\\nM:6/8\\nK:G\\n|:\"G\"DGB \"Bm\"d2B|\"Em\"e2B \"Bm\"d2B|\"G\"DGB \"E\"dcB|\"A7\"A3 -\"D7\"A3|\\n\"G\"DGB \"Bm\"d2B|\"Em\"e2B \"Bm\"d2B|\"C\"cBc \"D7\"dBA|\"G\"G3 -G3::\\n\"G\"B2G DAB|\"Am\"cBc \"D7\"A3|\"G\"G2B \"Em\"d2g|\"A7\"d3 -\"D7\"d3|\\n\"G\"B2G \"G7\"DAB| \"C\"cBc \"Am\"A3|\"D7\"d^cd e=cA|\"G\"G3 -G3:|\\n\\n\\nX: 160\\nT:Rakes of Kildare\\n% Nottingham Music Database\\nY:AAB\\nS:EF\\nM:6/8\\nK:Am\\nP:A\\n|:E|\"Am\"EAA AGA|\"Am\"Bcd e2^f|\"G\"g^fg ege|\"G\"dBG A2E|\\n\"Am\"EAA AGA|\"Am\"Bcd e2^f|\"G\"g^fe dBG|\"Am\"\"F\"A3 A2:|\\nP:B\\na|\"Am\"aea aea|\"Am\"aea b2a|\"G\"g^fg ege|\"G\"dBG A2a|\"Am\"aea aea|\\n\"Am\"aea b2a|\"G\"g^fe dBG|\"Am\"A3 A2a|\"Am\"aea aea|\"Am\"aea b2a|\"G\"g^fg ege|\\n\"G\"dBG A2E|\"F\"EAA AGA|\"F\"Bcd e2^f|\"G\"g^fe dBG|\"Am\"\"F\"A3 A2||\\n\\n\\nX: 161\\nT:Kilty Lads\\n% Nottingham Music Database\\nS:EF\\nM:6/8\\nK:Em\\n|:B|\"Em\"E2F G2A|\"Em\"B2B \"D7\"B2A|\"G\"G2B d2B|\"D\"A2F DEF|\\n\"Em\"E2F G2A|\"G\"B2B \"C\"e3| \"G\"d2B \"D\"B2A|[1\"Em\"B2E E2:|[2 B2E E3||\\n\"Em\"e2e \"B7\"B2^d|\"Em\"e2e \"A7\"B2^c|\"D\"d2B A2G|\"D\"F2E DEF|\"Em\"e2e \"B7\"B2^d|\\n\"Em\"e2e \"A7\"B2^c|\"D\"d2B A2G|\"D\"F2D A2F|\"Em\"e2e \"B7\"B2^d|\"Em\"e2e \"A7\"B2^c|\\\\\\n\"D\"d2B A2G|\\n\"D\"F2E DEF|\"Em\"E2F G2A|\"G\"B2B \"C\"e3|\"G\"d2B \"D\"B2A|\"Em\"B2E E2||\\n\\n\\nX: 162\\nT:La Poule\\n% Nottingham Music Database\\nS:Trad, arr Phil Rowe\\nM:6/8\\nK:D\\nA|\"D\"Aff \"A\"ced|\"D\"A3 -A2B|\"D\"A2F A2F|\"A7\"A2G E2A|\\n\"D\"Aff \"A\"ced|\"G\"B3 BAG|\"D\"FAA \"A\"GEC|\"A\"E3 \"D\"D2::\\nF|\"A\"GEC A2G|\"D\"FAd f2d|\"A7\"gec A2G|\"D\"FBA A2F|\\n\"A\"GEC A2G|\"D\"FAd f2d|\"A\"ceg bac|\"A\"e3 \"D\"d2::\\nF|\"Bm\"B3 d3|\"F#7\"c3 ec^A|\"Bm\"Bdf \"Em\"gec|\"Bm\"B3 \"F#7\"^A2F|\"Bm\"B3 d3|\\n\"Em\"G3 c2e| \"Bm\"d2B \"F#7\"c2^A| \"Bm\"B3 -B2:|\\n\\n\\nX: 163\\nT:Lady in the Boat\\n% Nottingham Music Database\\nS:EF\\nY:AB\\nM:6/8\\nK:D\\nP:A\\nA|\"D\"dfA d2A|\"D\"dfA d2f|\"D\"a2f \"Bm\"fed|\"Em\"efe \"A7\"ecA|\\n\"D\"dfA d2A|\"D\"dfA d2f|\"D\"a2f \"A7\"efe|\"D\"d3 d2:|\\nP:B\\nd/2e/2|\"D\"f3 \"A7/e\"gfg|\"D/f+\"a3 f2g|\"D\"agf \"Bm\"fed|\"Em\"efe \"A7\"ecA|\\n\"D\"f3 \"A7/e\"gfg|\"D/f+\"a3 f2g|\"D\"agf \"A7\"gec|\"D\"edd d2:|\\n\\n\\nX: 164\\nT:Laird O\\' Cockpen\\n% Nottingham Music Database\\nS:Jimmy MacKay, via EF\\nY:AB\\nM:6/8\\nK:C\\nP:A\\nG|\"C\"EGG AGG|\"C\"cGG AGG|\"C\"EGG Ged|\"F\"cAA A2G|\\n\"C\"EGG AGG|\"C\"cGG AGG|\"C\"efg \"G/b\"e2d|\"Am\"cAA A2:|\\nP:B\\nd|\"Am\"egg eaa|\"Am\"eag fed|\"Am\"egg eag|\"Dm\"fed \"E7\"e3|\\n\"Am\"egg eaa|\"Am\"eag fed|\"Dm\"edc \"E7\"e2d|\"Am\"cAA A2:|\\n\\n\\nX: 165\\nT:The Lady Of The Lake\\n% Nottingham Music Database\\nS:Trad, arr Phil Rowe\\nM:6/8\\nK:G\\nA|\"G\"(B/2c/2)BA G2D|\"C\"(E/2F/2)ED G2c|\"G\"(B/2c/2)BA G2A|\"G\"Bcd \"C\"edc|\\n\"G\"(B/2c/2B)A G2D|\"C\"(E/2F/2)ED G2c|\"G\"Bcd \"D7\"ABc|\"G\"BAG G2::\\nA|\"G\"BcB (B/2c/2)BA|\"G\"B2c \"D7\"def|\"Em\"g2f \"C\"e2d|\"G\"dBG \"D7\"A2G|\\n\"G\"BcB (B/2c/2)BA|\"G\"B2c \"D\"def|\"Em\"g2e \"A7\"a2g|[1\"D\"fge \"D7\"d2:|[2\"D\"fef \"G\"g3||\\n\\nX: 166\\nT:Lamb Skinnet\\n% Nottingham Music Database\\nS:Alistair A, via EF\\nY:AB\\nM:6/8\\nK:A\\nP:A\\ne|\"A\"Ace ecA|\"D\"d2f f2a|\"A\"Ace ecA|\"E7\"G2B B2e|\\n\"A\"Ace ecA|\"D\"d2f fga|\"E\"gfe \"B7\"fe^d|\"E7\"e3 e2:|\\nP:B\\nf/2g/2|\"A\"aec aec|\"D\"d2f f2a|\"A\"ecA ecA|\"E7\"G2B Bcd|\\n\"A\"ecA ecA|\"D\"d2f fga|\"A\"ecA \"E7\"dBG|\"A\"A3 A2:|\\n\\n\\nX: 167\\nT:Lannigan\\'s Ball\\n% Nottingham Music Database\\nS:1000ECDT, via EF\\nY:AB\\nM:6/8\\nK:Em\\nP:A\\nD|\"Em\"EFE G2A|\"Em\"B2A B^cd|\"D\"DED F2G|\"D\"ABA AFD|\\n\"Em\"EFE G2A|\"Em\"B2A B^cd|\"G\"edB \"Am\"cBA|\"Em\"BGE E2:|\\nP:B\\nd|\"Em\"e2f gfe|\"D\"fag fed|\"Em\"e2f gfe|\"Bm\"fdB B2d|\\n\"Em\"e2f gfe|\"D\"fag fed|\"G\"edB \"Am\"cBA|\"Em\"BGE E2:|\\n\\n\\nX: 168\\nT:The Lark in the Clear Air\\n% Nottingham Music Database\\nS:Trad, via EF\\nY:AABAB\\nM:6/4\\nL:1/4\\nK:D\\nP:A\\naf|\"D\"d3 ccd|\"G\"BG \"D/a\"A2 \"A7\"AB/2c/2|\\\\\\nM:4/4\\n\"D\"d3/2e/2 fg|\\\\\\nM:6/4\\n\"Em7\"e2\"A\"a2af|\\n\"Bm\"d3 ccd|\"G\"BG\"D/a\"A2\"A7\"AB/2c/2|\\\\\\nM:5/4\\n\"D\"df\"G\"B\"Em\"e\"A7\"c|\"D\"d3\\nP:B\\nM:4/4\\n\"A7\"A2 |\"D\"d3/2c/2 \"D\"d/2e/2f/2g/2|\"D\"a2 \"G\"b3/2a/2|\"D\"af e/2d/2e/2(3f/4a/4g/4\\\\\\n|\"Em\"f2 \"A\"ea/2f/2|\\nM:6/4\\n\"Bm\"d3 ccd|\"G\"BG\"D/a\"A2\"A7\"AB/2c/2|\\\\\\nM:5/4\\n\"D\"df\"G\"B\"Em\"e\"A7\"c|\"D\"d3||\\n\\n\\nX: 169\\nT:The Lark In The Morning\\n% Nottingham Music Database\\nS:Trad, arr Phil Rowe\\nM:6/8\\nK:D\\n\"D\"AFA AFA|\"G\"BGB BdB|\"D\"AFA Ade|\"Bm\"fed \"G\"BdB|\\n\"D\"AFA AFA|\"G\"BGB BdB|\"D\"def afe|\"Bm\"fdB BdB::\\n\"D\"def afa|\"G\"baf \"D\"afe|\"D\"def afe|\"Bm\"fdB \"G\"B2A|\\n\"D\"def afa|\"G\"baf \"D\"a2f|\"G\"gag \"D\"fgf|\"Em\"edB \"G\"BdB::\\n\"D\"d2f fef|fef fef|\"Bm\"d2f fef|\"Em\"edB \"G\"B2A|\\n\"D\"d2f fef|\"D\"fef fef|\"G\"gag \"D\"fgf|\"Em\"edB \"G\"BAB::\\n\"D\"Add fdd|edd fdB|\"D\"Add fdd|\"Em\"edB B2A|\\n\"D\"Add fdd|ede f2f|\"G\"gag \"D\"fgf|\"Em\"edB \"G\"BdB:|\\n\\n\\nX: 170\\nT:Larry O\\'Gaff\\n% Nottingham Music Database\\nS:Jimmy MacKay, via EF\\nY:AB\\nM:6/8\\nK:G\\nP:A\\n(3d/2e/2f/2|\"G\"g2G BAG|\"G\"ded dBG|\"C\"cec \"G\"BdB|\"Am\"ABc \"D7\"def|\\n\"G\"g2G BAG|\"G\"ded dBG|\"C\"cec \"G\"BdB|\"D7\"ABA \"G\"G2:|\\nP:B\\nd|\"D7\"def \"G\"gfg|\"D7\"aba afd|\"D7\"dfg aga|\"G\"bgg g2d|\\n\"D\"def \"C\"gfe|\"G\"ded dBG|\"C\"cec \"G\"BdB|\"D7\"ABA \"G\"G2|\\n\\n\\nX: 171\\nT:The Lassie\\'s Fancy\\n% Nottingham Music Database\\nS:FTB 2/39, via EF\\nY:AB\\nM:6/8\\nK:D\\nP:A\\nf|\"D\"d2A AFA|\"D\"B2A AFA|\"D\"d2A AGF|\"Em\"EFE \"A7\"ABc|\\n\"D\"d2A AFA|\"G\"B2A \"A\"ABc|\"Bm\"dgf \"A7\"eac|\"D\"d3 d2:|\\nP:B\\nf/2g/2|\"D\"afd dfa|\"G\"gec \"A7\"ceg|\"D\"fed dcd|\"A7\"ecA A2f/2g/2|\\n\"D\"afd dfa|\"G\"gec \"A7\"ceg|\"D\"fad \"A7\"eac|\"D\"d3 \"A7\"d2f/2g/2|\\n\"D\"afd dfa|\"G\"gec \"A7\"ceg|\"D\"fed dcd|\"A7\"ecA A2G|\\n\"D\"FAd FAd|\"G\"GBd GBd|\"D\"Agf \"A7\"eac|\"D\"d3 d2||\\n\\n\\nX: 172\\nT:St. Lawrence Jig\\n% Nottingham Music Database\\nS:Trad, arr Phil Rowe\\nM:6/8\\nK:D\\nA|\"D\"ABA FAd|f2d A2d|\"A\"c2B G2B|\"D\"B2A F3|\\nABA FAd|\"D\"f2d A2d|\"A\"c2e ABc|\"D\"d3 -d2::\\nf|\"G\"a2g B3|\"D\"g2f A3|\"A\"d2c cBc|\"D\"edB \"D7\"A3|\"G\"a2g B3|\"D\"g2f A3|\"A7\"d2c cBc\\\\\\n|\"D\"d3 -d2:|\\n\\n\\nX: 173\\nT:Leaping Jack\\n% Nottingham Music Database\\nS:John Kirkpatrick, via Phil Rowe\\nM:6/8\\nK:A\\nE|\"A\"A2E A2B|cBA e2c|\"D\"ded \"A\"c2B|\"E7\"ABA GFE|\\n\"A\"A2E A2B|\"A\"cBA e2c|\"Bm\"ded \"E7\"c2B|\"A\"A3 -A2::\\nc/2d/2|\"A\"efe cBA|\"D\"d2f a2f|\"A\"efe cBA|\"Bm\"d2c \"E7\"B2c/2d/2|\\n\"A\"efe cBA|\"D\"d2f a2f|\"E7\"efe dcB|\"A\"A3 -A2:|\\n\\n\\nX: 174\\nT:Lemonville Jig\\n% Nottingham Music Database\\nS:J.C. Hayes (Canada), via Phil Rowe\\nM:6/8\\nK:D\\nfg|\"D\"aba afd|fgf fdA|\"G\"ded \"D\"dAF|\"Em\"G3 -Gef|\\n\"A\"gag gec|efe ecA|\"A7\"cBA gfe|\"D\"f3 \"A7\"f2g|\\n\"D\"aba afd|fgf fdA|\"G\"ded \"D\"def|\"Em\"B3 -Bef|\\n\"A\"gag gec|efe ecA|\"A7\"cBA gfe|\"D\"d3 d2||\\nA|\"D\"FGA \"A\"ABc|\"Bm\"ded \"D\"def|\"G\"gag \"D\"gfe|\"Em\"B3 -\"E7\"Bed|\\n\"A\"cea age|\"A\"cea age|\"A7\"cea gfe|\"D\"fd\"A7\"B A2G|\\n\"D\"FGA \"A\"ABc|\"Bm\"ded \"D\"def|\"G\"gag \"D\"gfe|\"Em\"B3 -\"E7\"Bed|\\n\"A\"cea age|\"A\"cea age|\"A7\"cea gfe|\"D\"d3 -d||\\n\\n\\nX: 175\\nT:Lesley Dolman\\'s Jig\\n% Nottingham Music Database\\nS:Lesley Dolman, via EF\\nY:AB\\nM:6/8\\nK:D\\nP:A\\nF/2G/2|:\"D\"AGF f2f|\"D\"AGF f2f|\"D\"dcd e2d|\"Em\"c2e B3| \"Em\"cde B3|\\n\"Em\"cde B3| [1\"Em\"ced c2B|\"A7\"A2G F2G:| [2\"A7\"cBA f2e|\"D\"d3 -d2A||\\nP:B\\n|:\"D\"ABA d2e|\"D\"f3 -f2f|\"D7\"fef g2f| \"G\"e3 B3| \"Em\"ced cBA|\\n\"A\"a2a a3| [1\"Em\"ced cBA|\"A7\"A2G F2G:|[2\"A7\"ABA f2e|\"D\"d3 -d2z||\\n\\n\\nX: 176\\nT:Liberty Bell\\n% Nottingham Music Database\\nS:Monty Python, via EF\\nY:ABC\\nM:6/8\\nK:G\\nP:A\\n|:d/2c/2|\"G\"B2B B^AB|\"G\"g2d d2B|\"Am\"c2c c2d|\"Am\"e3 e2c|\"D\"A2A A^GA|\\n\"D7\"f2e e2c|\"G\"B2B \"D7\"B2c|\"G\"d3 -\"D7\"d2c|\"G\"B2B B^AB|\"G\"g2d d2B|\"A\"^c2a a2a|\\n\"A7\"a3 a2g|\"D\"f2a a^ga|\"A7\"e2a a^ga|\"D7\"d2^c d2c|\"D7\"d3 d2:|\\nP:B\\n|:c|\"G\"B^AB e2d|\"G\"B3 G3|\"C\"E3 \"D7\"A3|\"G\"G3 G2G|\"D7\"ABd f2e|\"G\"d3 g3|\\\\\\n\"D\"f3 \"A7\"e3|\"D7\"d3 d2d|\\n\"C\"e2e e^de|\"B7\"f3 f3|\"Em\"g2g aga|\"B\"b3 b2b|\"C\"a2g e2c|\"G\"B3 G3|\"D7\"A3 F3|\\\\\\n\"G\"G3 G2:|\\nK:C\\nP:C\\n|:G|\"C\"E3 F3|\"C\"^F3 G3|\"C\"e2e e2^d|\"C\"e3 e2G|\"C\"E3 F3|\"C\"^F3 G3|\"G\"f2f f2e|\\n\"G\"f3 f2e|\"G\"d3 \"Gd\"^c3|\"G\"d2G ^F2G|\"C\"e3 \"Cd\"^d3|\"C\"e2G ^F2G|[1\"G\"B3 d3|\\\\\\n\"D7\"c2d A2c|\\n\"G\"B2c A2B|\"G7\"G2A F2:|[2\"F\"A3 f3|\"C\"e2c \"G\"d2B|\"C\"c6|\"C\"c4||\\n\\n\\nX: 177\\nT:Life is all Chequered\\n% Nottingham Music Database\\nS:Jimmy MacKay, via EF\\nY:AB\\nM:6/8\\nK:G\\nP:A\\ng|\"G\"dBB BAG|\"G\"dBB B2g|\"G\"dBB \"D\"BAB|\"Em\"GEE \"D7\"E2g|\\n\"G\"dBB BAG|\"G\"dBB BAG|\"C\"ABc \"D\"BAB|\"Em\"GEE E2:|\\nP:B\\nd|\"G\"gfg \"D7\"aga|\"G\"bge dBG|\"G\"gfg \"D7\"aga|\"Em\"bge \"D7\"e2g/2a/2|\\n\"G\"bgb \"D\"afa|\"Em\"gef gfe|\"Am\"ABc \"D7\"def|\"G\"gdB G2:|\\n\\n\\nX: 178\\nT:Lindbergh\\'s Crate\\n% Nottingham Music Database\\nS:Bob McQuillen Jan 1976, via Phil Rowe\\nM:6/8\\nK:D\\ne|\"D\"f2f \"A7\"e2e|\"D\"ded \"A\"cBA|\"G\"Bcd \"D\"A2f|\"D\"agf \"A7\"ede|\\n\"D\"f2f \"A7\"e2e|\"D\"ded \"A\"cBA|\"G\"Bcd \"D\"Adf|\"A7\"edc \"D\"d2::\\nA|\"D\"F2F \"G\"GFG|\"A\"ABc \"D\"d2e|\"D\"fga agf|\"E7\"fed \"A\"e2A|\\n\"D\"FEF \"G\"GFG|\"D\"ABc def|\"G\"gab \"D\"agf|\"A7\"edc \"D\"d2:|\\n\\n\\nX: 179\\nT:Road To Lisdoonvarna\\n% Nottingham Music Database\\nS:Trad, arr Phil Rowe\\nM:6/8\\nK:Em\\n\"Em\"E2B B2A|B2^c d3|\"D\"F2A ABA|\"Bm\"D2E FED|\"Em\"E2B B2A|\"G\"B2^c d3|\\n\"A\"^cdc \"Bm\"B2A|\"Em\"B2E E3:: \"Em\"e2f gfe|\"G\"d2B B^cd|\"A\"^c2A ABc|\"Bm\"d2B B3|\\n\"Em\"e2f gfe|\"G\"d2B B^cd|\"A\"^cdc \"Bm\"B2A|\"Em\"B2E E3:|\\n\\n\\nX: 180\\nT:Little Burnt Potato\\n% Nottingham Music Database\\nS:Lesley Dolman, via EF\\nM:6/8\\nK:D\\nf/2g/2|\"D\"a2a \"A7\"ba^g|\"D\"a2A d2e|\"D\"f2f \"G\"g2f|\"Em\"e2B Bcd|\"Em\"e2f e2c|\\n\"A7\"Ace a3|\"A7\"a^ga ba=g|\"D\"f3 \"A7\"f2g|\"D\"a2a \"A7\"ba^g|\"D\"a2A d2e|\\\\\\n\"D\"f2f \"G\"g2f|\\n\"Em\"e2B Bcd|\"Em\"e2f e2c|\"A7\"Ace a3|\"A7\"a^ga b2c|\"D\"d3 \"A7\"d2e|\"D\"f2A f2A|\\n\"D\"f3 f2e|\"D\"def agf|\"Em\"g3 gef|\"Em\"gba gfe|\"A7\"dcB A2a|\\n\"A7\"a^ga ba=g|\"D\"f3 \"A7\"fde|\"D\"f2A f2A|\"D\"f3 f2e|\"D\"def agf|\\n\"Em\"g3 gef|\"Em\"gba gfe|\"A7\"dcB A2a|\"A7\"a^ga b2c|\"D\"d3 d2||\\n\\n\\nX: 181\\nT:Lively Tim\\n% Nottingham Music Database\\nS:Trad, arr Phil Rowe\\nM:6/8\\nK:A\\n|:\"E7\"e|\"A\"a2A cBA|ecA cBA|\"A\"a2A cBA|\"Bm\"BcA \"E\"GFE|\\n\"A\"a2A cBA|\"A\"ecA cBA|\"D\"fga \"Bm\"ecA|\"E7\"dBG \"A\"A2::\\n\"A\"[_E_B]|\"E\"[E2B2]E GFE|\"E\"BGB dcB|\"A\"e2A cBA|cAc efg|\\n\"D\"agf \"A\"efg|\"D\"agf \"A\"ece|\"D\"fga \"Bm\"ecA|\"E7\"dBG \"A\"A2:|\\n\\n\\nX: 182\\nT:On the Trail of the Lonesome Pine\\n% Nottingham Music Database\\nS:Otto Wood, via EF\\nM:6/8\\nK:D\\nf/2e/2|\"D\"d3 A3|\"Bm\"A2B A2F|\"E7\"^G3 -G3|e3 ^d2e|\"A7\"f3 e2c|A3 e3|\"D\"d3 -\"G\"d3|\\\\\\n\"D/f+\"d3 \"A7/e\"f2e|\\n\"D\"d3 A3|\"Bm\"A2B A2F|\"E7\"^G3 -G3|e3 -e2e|\"E7\"e3 B2c|d3 c2B|\"A\"c3 \"E7\"d3|\\\\\\n\"A7\"e3 ^e3|\"D\"f3 -f3|\\nf3 e2d|\"D\"e2f de2-|e3 f2d|\"G\"e3 -e3|e3 d2B|\"G\"d2e ^e2=f|\"F#7\"f3 \"A7\"f2e|\\n\"D\"d3 A3|\"Bm\"A2B A2F|\"E7\"^G3 -G3|e3 ^d2e|\"A7\"f3 e2c|A3 e3|\"D\"d3 -d3|d3 d2:|\\n\\n\\nX: 183\\nT:Longthwaite\\n% Nottingham Music Database\\nS:Chris Dewhurst 1989, via Phil Rowe\\nM:6/8\\nK:Am\\n\"Am\"A3 a3|\"Em\"gee e2d|\"C\"c2g edc|\"G\"Bgd -dBG|\"Am\"A3 \"F\"a3|\"C\"gee e2d|\\\\\\n\"Dm\"c2e \"E7\"dcB| [1\"Am\"A3 -AcB:|\\n [2\"Am\"A3 -\"G7\"A2|||:B|\"C\"c2e -edc|\"G\"Bgd -dBG|\"Am\"A2c -cBA|\"E\"^GeB -BGE|\\n\"F\"F2A -AGF|\"C\"EGc edc|\"Dm\"B2d -\"E7\"dcB|\"Am\"A3 -\"G7\"A2:|\\n\\n\\nX: 184\\nT:Lost My Love\\n% Nottingham Music Database\\nS:McCusker Brothers, via EF\\nY:AB\\nM:6/8\\nK:Am\\nP:A\\nE|\"Am\"ABA \"G7\"AGE|\"C\"c3 c2d|\"C\"efe \"G7\"edc|\"C\"g3 e2\"F\"a|\\n\"C\"gec cde|\"G\"dBG GAB|\"Am\"c2A \"Em\"B2G|\"Am\"cAA A2:|\\nP:B\\na|\"Am\"aba age|\"Em\"gag geg|\"Am\"aba age|\"Em\"g3 e2a|\\n\"C\"gec cde|\"G\"dBG GAB|\"Am\"c2A \"Em\"B2G|\"Am\"cAA A2:|\\n\\n\\nX: 185\\nT:Louisburg\\n% Nottingham Music Database\\nS:EF\\nY:AB\\nM:6/8\\nK:G\\nP:A\\nB/2c/2|\"G\"d2d dBc|\"G\"d2d dBd|\"C\"g2g f2e|\"G\"d3 \"G7/f\"d2B|\\n\"C/e\"c2e \"D7/f+\"edc|\"G\"B2d \"Em\"G2B|\"Am\"A2B \"D7\"cBA|\"G\"G3 G2:|\\nK:D\\nP:B\\nF/2G/2|\"D\"A2d \"A7/e\"c2e|\"D/f+\"d2f agf|\"Em\"e2f \"A7\"gfe|\"D\"d2f \"A7\"afd|\\n\"D\"A2d \"A7\"c2e|\"D\"d2f \"Bm\"agf|\"Em\"e2f \"A7\"gfe|\"D\"d3 d2:|\\n\\nX: 186\\nT:Love, Port and Sherry\\n% Nottingham Music Database\\nS:John Jones, via EF\\nY:AB\\nM:6/8\\nK:D\\nP:A\\nA|\"D\"d3 fed|\"A7\"cea age|\"D\"d3 fed|\"Em\"cdB \"A7\"ABc|\\n\"D\"\"Bm\"d3 fed|\"A\"cea abg|\"Em\"fed \"A7\"cBc|\"D\"dAF D2:|\\nP:B\\nA/2G/2|\"D\"FFF FAF|\"G\"GGG GBG|\"D\"AAA fed|\"A7\"cea ade|\\n\"D\"fed \"A7/e\"gfe|\"D/f+\"agf \"G\"bag|\"D/a\"fed \"A7\"cBc|\"D\"dAF D2:|\\n\\n\\nX: 187\\nT:Luck Penny\\n% Nottingham Music Database\\nY:AABBCC\\nS:Micheal Gorman, via EF\\nM:6/8\\nK:G\\nP:A\\n|:G/2A/2|\"G\"B2G \"D7\"AGF|\"G\"DGG \"D7\"FGA|\"G\"BAG BdB|\"C\"cAG \"D7\"FGA|\\n\"G\"B2G \"D7\"AGF|\"G\"GBd gdB|\"D7\"def \"G\"gdB|\"D7\"cAF \"G\"G2:|\\nP:B\\n|:d|\"G\"d2g gfg|\"G\"b2g \"D7\"fga|\"G\"bag \"D/f+\"agf|\"Em\"def \"D7\"g2a|\\n\"G\"bag \"D/f+\"agf|\"Em\"gfg \"Bm\"fdB|\"C\"def \"G\"gdB|\"D7\"cAF \"G\"G2:|\\nP:C\\n|:G/2A/2|\"G\"BAG GFG|\"G\"DGB DGB|\"F\"AG=F FEF|\"F\"C=FA CFA|\\n\"G\"BGG GFG|\"Am\"cAA A^GA|\"D7\"def \"G\"gdB|\"D7\"cAF \"G\"G2:|\\n\\n\\nX: 188\\nT:The Lucky Linslader\\n% Nottingham Music Database\\nS:Chris Collings, via Phil Rowe\\nM:6/8\\nK:C\\nG|:\"C\"E2F ^F2G|e2c c2G|\"C\"E2G GAG|\"Dm\"F3 -F2E|\"Dm\"D2E F2d|\"G\"c2B B2A|\\\\\\n\"G\"GAG \"G7\"fed| [1\"C\"e6:|\\n [2\"C\"c6||\"Am\"e3 \"E7\"e3|\"Am\"edc A3|aec ABc|\"Dm\"d6|\"G\"d3 d3|\"G\"dcB G3|\\nGBd gGf|\"G\"GeG \"G7\"dBG|\"C\"E2F ^F2G|e2c c2G|\"C7\"EGA _BcB|\\n\"F\"A6|\"F\"f2A A2f|\"C\"e2G G2e|\"G\"dBG \"G7\"GAB|\"C\"c3 -c2||\\n\\n\\nX: 189\\nT:Maggie\\'s Favourite\\n% Nottingham Music Database\\nY:AABB\\nS:Kevin Briggs, via EF\\nM:6/8\\nK:G\\nP:A\\n|:g|\"G\"dBG GBd|\"C\"E2E E2c|\"D7\"AFD DEF|\"G\"G2G G2g|\\n\"G\"dBG Bcd|\"C\"E2E \"Am\"E2c|\"D7\"AFD DEF|\"G\"G3 -G2:|\\nP:B\\n|:g/2a/2|\"G\"bgb \"D\"afd|\"C\"efg gfe|\"G\"dBg dBG|\"D7\"AFD D2g/2a/2|\\n\"G\"bgb \"D\"afd|\"C\"efg gfe|\"D\"faf \"A7\"ge^c|\"D7\"d2d \"G7\"de=f|\\n\"C\"ece \"G\"dBd|\"C\"cac \"G\"BgB|\"C\"Ace \"G\"dBG|\"Am\"FAF \"D7\"DEF|\\n\"G\"GAB \"C\"EFG|\"Am\"ABc \"D7\"def|\"G\"gdB \"D7\"cAF|\"G\"G2G G2:|\\n\\n\\nX: 190\\nT:Major Mackie\\n% Nottingham Music Database\\nS:Kevin Briggs, via EF\\nY:AB\\nM:6/8\\nK:D\\nP:A\\nA|\"D\"ABc dcd|\"G\"B2e e2d|\"A7\"c2a a^ga|\"D\"f2d \"A7\"dcB|\\n\"D\"ABc \"D/f+\"dcd|\"G\"B2e \"E7/g+\"e2d|\"A7\"c2a \"A7/g\"gfe|\"D/f+\"d3 \"A/e\"d2:|\\nP:B\\nd/2e/2|\"D\"f2f def|\"G\"g2g g2f|\"A7\"e2e cde|\"D\"f3 \"A/c+\"a2f|\\n\"Bm\"ddd \"Bm/a\"def|\"Em/g\"g2B \"E7/g+\"e2d|\"A7\"c2a gfe|\"D\"d3 d2:|\\n\\n\\nX: 191\\nT:Mallorca\\n% Nottingham Music Database\\nS:Duke of Windsor, via EF\\nM:6/8\\nK:G\\nd/2c/2|\"G\"BAB GBd|\"C\"ece gfe|\"G\"ded \"Em\"BGB|\"Am\"dcB \"D7\"A2d/2c/2|\\n\"G\"BAB GBd|\"C\"ece gfe|\"G\"d/2g3/2B \"D7\"dcA|\"G\"G3 -G2:|\\nc|\"G\"deg \"C\"gfe|\"G\"dcB \"D7\"B2A|\"G\"Bde dBd|\"Em\"dcB \"D7\"A2d/2c/2|\\n\"G\"BAB GBd|\"C\"ece gfe|\"G\"d/2g3/2B \"D7\"dcA|\"G\"G3 -G2:|\\n\\n\\nX: 192\\nT:Manor Gardens\\n% Nottingham Music Database\\nS:Pauline Wilson, via Phil Rowe\\nM:6/8\\nK:G\\n\"G\"G2F G2A|BAG d2d|\"C\"gfe \"G\"dcB|\"Am\"d2c \"D7\"A2D|\\n\"G\"G2F G2A|\"G\"BAG d2e|\"Am\"fed \"D7\"cBA|\"G\"G3 G3::\\n\"C\"gec gec|\"G\"d2B G3|\"D7\"DFA cdc|\"G\"B2c d3|\\n\"C\"gec gec|\"G\"d2B G2B|\"Am\"dcB \"D7\"AGF|\"G\"G3 G3:|\\n\\n\\nX: 193\\nT:Maple Leaf Jig\\n% Nottingham Music Database\\nS:Trad, arr Phil Rowe\\nM:6/8\\nK:G\\nD|\"G\"B2G G2E|D2B, B,2G|\"D\"F2A AGF|\"G\"G2B BGA|\"G\"B2G \"C\"G2E|\"G\"D2B, B,2G|\\\\\\n\"D\"F2A \"D7\"AGF|\"G\"G3 -G2:|\\nK:D\\n|:F/2G/2|\"D\"A2A A^GA|BA^G A2d|\"A\"d2c \"A7\"c2e|\"D\"e2d dFG|\\nA2A A^GA|\"Dd\"BA^G \"D\"A2d|\"A\"d2c \"A7\"cBc| [1\"D\"d3- d2:|[2\"D\"d3 \"D7\"=c2||\\n\\n\\nX: 194\\nT:Trip To Margate\\n% Nottingham Music Database\\nS:Trad, arr Phil Rowe\\nM:6/8\\nK:F\\n\"F\"fcf agf|\"C\"edc \"Bb\"b3|\"F\"agf \"C\"efg|\"F\"fcB AGF|\\n\"F\"fcf agf|\"C\"edc \"Bb\"b3|\"F\"agf \"C\"efg|\"F\"f3 -f3::\\n\"F\"AFA cBA|\"Gm\"BGB \"C7\"dcB|\"F\"AFA cBA|\"Gm\"BGG \"C7\"G3|\\n\"F\"AFA cBA|\"Bb\"def \"C7\"gab|\"F\"agf \"C\"efg|\"F\"f3 -f3:|\\n\\n\\nX: 195\\nT:Lady Mary Douglas\\n% Nottingham Music Database\\nY:AABAC\\nS:FTB, via EF\\nM:6/8\\nK:D\\nP:A\\n|A/2G/2|\"D\"FGA A2d|\"G\"BGB \"A7\"A2G|\"D\"FGA Adf|\"Em\"f3 \"A7\"e2G|\\n\"D\"FGA A2d|\"G\"BGB \"A\"A2b|\"D\"afd \"A7\"gec|\"D\"d3 D2|\\nP:B\\nf/2g/2|\"D\"aba d\\'2a|\"D\"f3 d2f|\"A\"efe a2e|\"A7\"c3 ABc|\\n\"D\"d2d \"G\"Bcd|\"Em\"e2e \"A7\"cde|\"D\"fga agf|\"Em\"edc \"A7\"BA\\\\\\nP:C\\nG||\\n\\n\\nX: 196\\nT:The Matelot\\n% Nottingham Music Database\\nS:Trad, arr Phil Rowe\\nM:6/8\\nK:D\\nA|\"D\"FED FED|FGA A2A|\"G\"Bcd \"D\"AGF|\"Em\"GEE \"A7\"E2A|\\n\"D\"FED FED|\"D\"FGA A2A|\"G\"Bcd \"A\"edc|\"D\"d3 -d2::\\nA|\"D\"f2f fed|\"A\"e2e e2A|\"G\"Bcd edc|\"Em\"B3 \"A\"A2A|\\n\"D\"f2f fed|\"A\"e2e e2A|\"G\"Bcd edc|\"D\"d3 -d2:|\\n\\n\\nX: 197\\nT:Mazawattee Tea Break\\n% Nottingham Music Database\\nS:Derek Pearce, via Phil Rowe\\nM:6/8\\nK:F\\n\"C7\"e3 |:\"F\"faf dfd|\"Bb\"BdB G2B|\"C\"AB=B c3|\"C7\"cd^d e3|\\n\"F\"faf dfd|\"Bb\"BdB G2B|\"C\"edc \"G7\"=Bcd| [1\"C\"c3 \"C7\"c2e:|\\n [2\"C\"c3 || |:\"C7\"AB=B |\"F\"c2d cAF|\"F7\"_E3 EFE|\"D7\"D^FA cBA|\\n\"Gm\"GBd g3|\"E7\"^G=Bd ^g2g|\"A\"ae^c A2c|\"E7\"=B^cd E^F^G| [1\"A\"A3 :|\\n [2\"A\"A3 -A2A ||\\nK:D\\n|:\"D\"[F2A2d2][FAd][FAd]cB|\"A7\"[G2A2c2][GAc][G3A3c3]|\\n\"A7\"[G2A2c2][GAc][GAc]BA|\"D6\"[F2A2B2][FAB][F3A3B3]|\\n\"D\"[F2A2B2][FAB][FAB]AB|\\n\"A7\"[G2A2c2][GAc][G3A3c3]|[G2A2c2][GAc][GAc]Bc|\\n\"D\"[F3-A3-d3-]\"D\"[F3A3d3]:|\\n\\n\\nX: 198\\nT:Melange\\n% Nottingham Music Database\\nS:Trad, arr Phil Rowe\\nM:6/8\\nK:A\\nB|\"A\"c3 \"D\"A2F|\"A\"EAc e2f|\"A\"e2c \"F#7\"f2c|\"Bm\"def B2c|\"E\"d3 b2a|\\n\"E\"g2f e2B|\"A\"c3 -\"Ad\"cd^d|\"E\"efe \"E7\"e^d=d|\"A\"c3 \"D\"A2F|\"A\"EAc e2f|\\n\"A\"e2c \"F#7\"f2c|\"Bm\"def B2c|\"E\"d3 b2a|g2f e3-|\"E7\"efe dcB|\"A\"A3\\n|:\"E7\"e3 |\"A\"cde \"Ad\"^def|\"A\"e2c A3|\"F#m\"a3 agf|\"Bm\"d3 -d2c|\\n\"E\"Bcd \"Ed\"cde|\"E\"d2b b2a| [1\"E\"g2g \"Ea\"gfe|\"A\"[A3c3]:| [2\"E7\"gbg ebg|\"A\"a3 -a2||\\n\\n\\nX: 199\\nT:Merry Month of May\\n% Nottingham Music Database\\nY:AABAC\\nS:EF\\nM:6/8\\nK:A\\nP:A\\n|E|\"A\"A2A AGA|\"E\"B2c d2e|\"D\"f2f \"A\"ecA|\"B7\"AGA \"E7\"BGE|\\n\"A\"A2A AGA|\"E\"B2c d2e|\"D\"fga \"A\"edc|\"E7\"BAG \"A\"A2:|\\nP:B\\nA|\"Bm\"B2B B2c|\"Bm\"ded \"E7\"c2e|\"A\"a2e a2e|\"A\"cBA e2e|\\n\"Bm\"B2B B2c|\"Bm\"ded \"E7\"c2e|\"A\"a2e a2e|\"Bm\"efe \"E7\"dc\\\\\\nP:C\\nB||\\n\\n\\nX: 200\\nT:Mid-Day Jig\\n% Nottingham Music Database\\nS:Chris Dewhurst 1979, via Phil Rowe\\nM:6/8\\nK:D\\n\"A7\"d2e |\"D\"f2d Adf|\"C\"e2=c Gce|\"G\"d2B GBd|\"D\"A3 A2B|\\n\"C\"=c2G EGc|\"G\"B2G DGB|\"D\"AFD \"A\"GEC|\"D\"D3 ::\\n\"D\"C2D |\"A\"E2E EDE|\"D\"F2F \"Bm\"FEF|\"Em\"G2G \"A\"GFG|\"D\"A3 \"D7\"a3|\\n\"G\"g2f \"Gm\"efg|\"D\"f2d \"Bm\"A2F|\"Em\"Ged \"A\"cBc|\"D\"d3 :|\\n\\n\\nX: 201\\nT:Milford Pavillion\\n% Nottingham Music Database\\nS:Derek Pearce, via Phil Rowe\\nM:6/8\\nK:G\\n\"D7\"d3 |\"G\"b2b gfe|ded B3|\"G\"ded \"Gd\"^cdc|\"Am\"c3 -c2g|\"D7\"a2g fga|\\n\"G\"gag d2g|\"D7\"fga fga|f3 d3|\"G\"b3 gfe|ded B3|\"G\"ded \"Gd\"^cdc|\\n\"Am\"c3 -c2g|\"D7\"a2g fga|\"G\"gag d2d|\"Am\"e2e \"D7\"fef|\"G\"g3 -g2f||\\n\"Am\"e2f \"D7\"e2f|\"G\"deg bag|\"Am\"e2f \"D7\"a2f|\"G\"d3 g2f|\"Am\"e2f \"D7\"e2f|\\n\"G\"deg bag|\"Am\"e2e \"D7\"d2c|\"G\"B3 -B2f|\"Am\"e2f \"D7\"e2f|\"G\"deg bag|\\n\"Am\"e2f \"D7\"a2f|\"G\"d3 g2f|\"Am\"e2f \"D7\"e2f|\"G\"deg bag|\"Am\"edc \"D7\"B2A|\"G\"G3 G3\\\\\\n||\\nK:D\\n\"D\"ABd fed|ABd fed|\\\\\\nK:D\\n\"D\"ABd fed|\"A7\"f2e e3|efe cBA|\\n\"A7\"efe cBA|efe cBc|\"D\"B2A A3|\\\\\\nK:D\\n\"D\"ABd fed|ABd fed|\\nK:D\\n\"D\"ABd fed|\"A7\"f2e e3|efe cBA|\"A7\"efe cBA|A2A B2c|\"D\"d3 ||\\n\\n\\nX: 202\\nT:Miss Bennet\\'s Jig\\n% Nottingham Music Database\\nS:Anon, via EF\\nY:AB\\nM:6/8\\nK:G\\nP:A\\nd|\"G\"g2d BdB|\"G\"G2G GAB|\"C\"c2B A2G|\"Am\"GFE \"D7\"D2d|\\n\"G\"g2d BdB|\"Em\"G2G G2F|\"Am\"EcB \"D7\"AGF|\"G\"G3 -G2:|\\nP:B\\nB,/2C/2|\"G\"D2D DE=F|\"C\"=FEE E2E|\"A7\"E2E EFG|\\n\"D7\"GFF F2D|\"G\"G2D B2G|\"G\"d2B \"G7\"G2D|\"C\"e2c \"D7\"A2F|\"G\"G3 -G2:|\\n\\n\\nX: 203\\nT:The Monaghan Jig\\n% Nottingham Music Database\\nS:Trad, arr Phil Rowe\\nM:6/8\\nK:Em\\nc|:\"Em\"BGE F2E|\"Em\"BGE \"D\"FGA|\"Em\"\"C\"BGE F2E|\"D\"\"Bm7\"AFD FGA|\\n\"Em\"BGE F2E|\"Em\"BGE \"D\"FGA|\"G\"dcB ABG|\"D\"FDF AGF::\\n\"Em\"EGB efg|\"Bm\"fed \"Em\"edB|\"Em\"EGB \"G\"dBG|\"D\"FDF AGF|\\n\"Em\"EGB efg|\"Bm\"fed \"Em\"edB|\"G\"dcB ABG|\"D\"FDF AGF::\\n\"Em\"g2e efe|geg bge|\"Em\"g2e efg|\"D\"fdf agf|\\n\"Em\"g2e efe|geg bge|\"G\"dcB ABG|\"D\"FDF AGF:|\\n\\n\\nX: 204\\nT:Morecambe Bay\\n% Nottingham Music Database\\nY:AAB\\nS:Pat Shuldam-Shaw, via EF\\nM:6/8\\nK:D\\nP:A\\n|:A|\"D\"D2D \"A7\"EDE|\"D\"F2F \"G\"GFG|\"D\"A2d dcd|\"Em\"edB \"A7\"AFE|\\n\"D\"D2D \"A7\"EDE|\"D\"F2F \"G\"GAB|\"A7\"ABc \"Bm\"def|\"A7\"gec \"D\"d2:|\\nP:B\\n|f/2g/2|\"D\"a2a def|\"C\"g2g =cde|\"D\"f2d \"G\"g2f|\"Em\"edB \"A7\"Afg|\"D\"a2a def|\\n\"C\"g2g =cde|\"Bm\"f2d \"Em\"g2f|\"A7\"ecA \"D\"d2f/2g/2|\"F#m\"a2a \"Bm\"def|\\\\\\n\"Em\"g2g \"Am\"=cde|\"D\"f2d \"G\"g2f|\\n\"E7\"edB \"A7\"AFE|\"Bm\"D2D \"A7\"EDE|\"D\"F2F \"G\"GAB|\"F#m\"ABc \"Bm\"def|\"A7\"gec \"D\"d2||\\n\\n\\nX: 205\\nT:Mo\\'s Peerie Boston\\n% Nottingham Music Database\\nS:Tom Anderson, via Phil Rowe\\nM:6/8\\nK:A\\nE|\"A\"A2A \"E\"GAB|\"A\"A2c e2e|\"D\"f2d A2f|\"A\"e3 -e2c|\"Bm\"d2c \"E7\"Bcd|\\n\"A\"e2c \"F#m\"A2c|\"Bm\"B2e G2e|\"E7\"E3 EFG|\"A\"A2A \"E\"GAB|\"A\"A2c \"A7\"e2e|\\\\\\n\"D\"f2d \"B7\"a2f|\\n\"A\"e3 -\"F#m\"e2c|\"Bm\"dff \"E7\"fed|\"A\"cee edc|\"Bm\"dcB \"E7\"e2G|\"A\"A3 -A2e||\\n\"D\"f2d a2f|\"A\"f2e e2e|\"D\"f2e \"Dm\"A2B|\"A\"c3 cBA|\\\\\\n\"D\"dff \"E7\"fed|\\n\"A\"cee edc|\"B7\"B^df afd|\"E7\"e3 \"A7\"e^de|\"D\"f2d def|\"A\"e2c A2c|\\n\"Bm\"B2c d2B|\"E7\"A2G F2E|\"A\"A2A \"E\"GAB|\"A\"A2c \"F#7\"e2e|\"Bm\"f2d \"E7\"B2G|\\\\\\n\"A\"A3 -A2||\\n\\n\\nX: 206\\nT:Mrs Casey\\n% Nottingham Music Database\\nS:Coventry Morris, via EF\\nY:AB\\nM:6/8\\nK:Em\\nP:A\\nB/2A/2|\"Em\"G2E \"D7\"EFE|\"G\"D2B, D2D|\"C\"EFD E2F|\"Am\"c3 \"B7\"B2A|\\n\"Em\"G2E \"D7\"EFE|\"G\"D2B, D2D|\"C\"EFG \"D7\"A2F|\"G\"G3 G2:|\\nP:B\\nD|\"G\"G2A \"D7\"B2c|\"G\"d2e \"D7\"d3|\"G\"G2A \"D7\"B2c|\"G7\"d3 -d2d|\"C\"e2c \"G\"d2B|\\\\\\n\"Am\"c2B \"D\"A2G|\\n\"C\"G2F E2D|\"C\"c3 \"B7\"B2A|\"Em\"G2E \"D7\"EFE|\"G\"D2B, D2D|\"C\"EFG \"D7\"A2F|\"G\"G3 G2:|\\n\\n\\nX: 207\\nT:Mucking of Geordie\\'s Byre\\n% Nottingham Music Database\\nS:Kevin Briggs, via EF\\nY:AB\\nM:6/8\\nK:D\\nP:A\\nA|\"D\"ABA AFA|\"D\"d2e f2a|\"G\"g2e \"D\"f2d|\"G\"e2d Bcd|\\n\"D\"ABA AFA|\"D\"d2e f2g|\"G\"afd \"A\"efe|\"Em\"\"D\"d3 \"A7\"d2:|\\nP:B\\ne/2f/2|\"G\"g2 g gab|\"D\"f2 f fga|\"Em\"\"C\"e2e \"A7\"ede|\"D\"fed \"G\"Bcd|\\n\"D\"ABA AFA|\"D\"d2e f2g|\"G\"afd \"A\"efe|\"Em\"\"D\"d3 \"A7\"d2:|\\n\\n\\nX: 208\\nT:The Muses\\n% Nottingham Music Database\\nY:AABBCC\\nS:Kevin Briggs, via EF\\nM:6/8\\nK:D\\nP:A\\n|:A/2G/2|\"D\"FAd FAd|\"G\"BAB e2d|\"A7\"cBc ABc|\"D\"d2f \"A7\"a2A/2G/2|\\n\"D\"FAd FAd|\"G\"BAB \"Em\"e2d|\"A7\"cBc ABc|\"D\"d3 -d2:|\\nP:B\\n|:a/2g/2|\"D\"faa \"A\"eaa|\"Bm\"ded \"A7\"cBA|\"D\"dcd \"A7\"ede|\\n\"D\"faf \"A7\"e3|\"D\"d3 \"A\"A3|\"Em\"g3 \"Bm\"f3|\"Em\"ede fed|\"A7\"B2c \"D\"d2:|\\nP:C\\n|:c|\"Bm\"B^AB BAB|\"Em\"efg \"F#7\"f3|\"Em\"egf \"F#7\"edc|\"Bm\"B2c \"F#7\"F3|\\n\"Bm\"B^AB BAB|\"Em\"efg \"F#7\"f3|\"Em\"egf \"A7\"edc|\"D\"d3 -d2:|\\n\\n\\nX: 209\\nT:My Wife\\'s a Wanton Wee Thing\\n% Nottingham Music Database\\nY:AABB\\nS:EF\\nM:6/8\\nK:D\\nP:A\\n|:f/2e/2|\"D\"d2A BdA|\"D\"d3 A2B|\"C\"=cdc cGE|\"C\"=c3 E2c|\\n\"D\"d2A BdA|\"D\"d3 A2G|\"D\"FDF \"C\"E=CE|\"D\"DED D2:|\\nP:B\\n|:F/2G/2|\"D\"ABA FDF|\"D\"A3 =c3|\"C\"G=cG ECE|\"C\"G3 B3|\"D\"AdA FDF|\"D\"f3 \"A7\"a2g|\\n\"D\"fdf \"A7\"ece|\"D\"ded \"A7\"dfg|\"D\"aba fdf|\"D\"aba fdf|\"C\"gag e=ce|\\n\"C\"gag e=ce|\"D\"aba fdf|\"D\"aba \"G\"gab|\"D\"fga \"A7\"gec|\"D\"d3 d2:|\\n\\n\\nX: 210\\nT:Nancy Dawson\\n% Nottingham Music Database\\nS:EF\\nM:6/8\\nK:G\\nD|\"G\"G2G G2B|\"G\"d2B G2B|\"Am\"A2B A2G|\"Am\"A2G \"D7\"FED|\"G\"G2G G2B|\\n\"G\"d2B G2B|\"Am\"A2G F2E|\"D\"D3 D3|\"D\"A2B A2B|\"D\"A2G FED|\"G\"d2e d2e|\\n\"G\"d2c BAG|\"C\"c2B c2d|\"Am\"e2f g2e|\"D7\"d2c B2A|\"G\"G3 G2||\\n\\n\\nX: 211\\nT:Nantwich Fair\\n% Nottingham Music Database\\nS:Trad, arr Phil Rowe\\nM:6/8\\nK:D\\n|:d|\"D\"d2A A2d|\"A\"e2A A2e|\"D\"fgf efd|\"A\"e3 -e2A|\\n\"G\"B2B BAG|\"D\"A2A AGF|\"G\"GAG \"D\"FED|\"A\"E3 -E2::\\nA|\"A\"A2E EFG|\"D\"F2D D2d|\"D7\"d2A AB=c|\"G\"B3 -B2f|\\n\"Em\"g2f efd|\"A\"cde \"D\"A2A|\"G\"Bcd \"A\"ecA|\"D\"d3 -d2:|\\n\\n\\nX: 212\\nT:The Naughty \\'Noochie\\n% Nottingham Music Database\\nS:Bob McQuillen Feb 1974, via Phil Rowe\\nM:6/8\\nK:G\\nd|\"G\"g2g dBd|\"G\"g2g \"D7\"d2c|\"G\"Bcd \"D7\"cBA|\"G\"BG2 -G2d|\"G\"g2g dBd|\\n\"G\"gab \"D\"a2g|\"D\"aba \"A7\"gfe|\"D\"fd2 -\"G7\"d2d|\"C\"e2e \"G\"d2d|\"Am\"cdc \"G\"B2B|\\\\\\n\"D7\"cBA \"G\"BAG|\\n\"D7\"A2F D2d|\"G\"g2g d2d|\"C\"cde \"G\"d2d|\"G\"gab \"D7\"aga|\"G\"bg2 -g2B||\\n\"Em\"e2e \"Bm\"d2d|\"Am\"cdc \"Em\"B2B|\"Em\"BcB \"Bm7\"AGF|\"Em\"GE2 -E2B|\"Em\"e2e \"Bm\"d2d|\\n\"Am\"cdc \"Em\"B2B|\"Em\"BcB \"Am\"AGA|\"B7\"cB2 -B2B|\"C\"c2c \"Bm\"B2B|\"C\"ccc \"Bm\"B2B|\\\\\\n\"Am\"cBA \"Em\"BAG|\\n\"Am\"A2G \"B7\"F2B|\"Em\"e2e \"Bm\"d2d|\"Am\"cdc \"Em\"B2B|\"Bm\"BcB \"B7\"AGF|\"Em\"GE2 -E2||\\n\\n\\nX: 213\\nT:Ninepins\\n% Nottingham Music Database\\nY:AAB\\nS:Trad, via EF\\nM:6/8\\nK:D\\nP:A\\n|:d/2e/2|\"D\"f2f f2f|\"A7\"efe \"D\"d2d|\"A7\"c2d ecA|\"D\"d2e fde|\\n\"D\"f2f f2f|\"A7\"efe \"D\"def|\"G\"g2f \"Em\"e2d|\"A7\"cBc \"D\"d2:|\\nK:A\\nP:B\\n|:c/2d/2|\"A\"e2e cBA|\"D\"def \"E7\"e2e|\"A\"efe cBA|\"D\"def \"E7\"e2e|\"A\"a2a \"E\"g2g|\\n\"D\"f2f \"A\"e2e|\"E7\"d2d \"A\"c2c|\"E7\"BAB \"A7\"A3|\\nK:D\\n\"D\"a2a a2a|\"A7\"gag \"D\"f3|\"A7\"e2f gec|\\n\"D\"f2g a3|\"D\"a2a a2a|\"A7\"gag \"D\"fga|\"G\"b2a \"Em\"g2f|\"A7\"edc \"D\"d2:|\\n\\n\\nX: 214\\nT:Workshop Jig\\n% Nottingham Music Database\\nS:Trad, arr Phil Rowe\\nM:6/8\\nK:C\\n\"G7\"G^F=F |\"C\"E3 B,3|C3 E3|\"C\"A2G G2^F|G6|\"C\"E3 B,3|C2E A2G|\"G7\"G6|B,6|\\\\\\n\"G7\"D3 ^C3|\\nD2A, F2E|\"G7\"D3 ^CDE|D6|\"D7\"D2^D E2F|^F2c B2A|\"G\"G6-|G3 \"G7\"G^F=F|\"C\"E3 B,3|\\nC3 E3|\"C\"A2G G2^F|G6|\"C\"e3 c3|G3 E3|\"F\"B2A A2^G|A6|\"Dm\"f2e d2^c|\"Dm\"d3 \"G7\"G3|\\n\"C\"e2d cBA|G6|\"F\"A2c cBA|\"C\"G2e edc|\"G7\"BAG FED|\"C\"C6||\\n\\n\\nX: 215\\nT:North Skelton 1, v 1\\n% Nottingham Music Database\\nS:Trad, via EF\\nM:6/8\\nK:C\\n\"C\"ede G2G|\"F\"A2A \"G7\"G3|\"C\"ede G2G|\"G7\"A2B \"C\"c3|\"C\"ede G2G|\\n\"F\"A2A \"G7\"G3|\"C\"ede G2G|\"F\"A2B \"G7\"c2d|\"C\"e2c \"G\"d2B|\"Am\"c2c \"Em\"BAG|\\n\"Am\"e2c \"G7\"d2d|\"C\"e2f \"C7\"g3|\"F\"a2f \"C\"g2e|\"G7\"f2d \"C\"e3|\"C\"ede G2G|\\\\\\n\"G7\"A2B \"C\"c3||\\n\\n\\nX: 216\\nT:North Skelton 1, v 2\\n% Nottingham Music Database\\nS:Trad, via EF\\nM:6/8\\nK:C\\n\"C\"edc G2G|\"F\"A2A \"G7\"G3|\"C\"efg G2G|\"G7\"A2B \"C\"c3|\"C\"edc G2G|\"F\"AcA \"G7\"Gdg|\\n\"C\"ec\\'a \"C\"gec|\"F\"A2B \"G7\"c2d|\"C\"efe \"G\"dgd|\"Am\"cdc \"Em\"BAG|\"Am\"efe \"G\"dGd|\\n\"C\"e2f \"C7\"g3|\"F\"ac\\'a \"C\"gec|\"G7\"fgf \"C\"e3|\"C\"gec G2G|\"G7\"A2B \"C\"c3||\\n\\n\\nX: 217\\nT:North Skelton 1, v 3\\n% Nottingham Music Database\\nS:Trad, via EF\\nM:6/8\\nK:C\\n\"C\"ede G2G|\"F\"Aca \"G7\"g3|\"C\"ede gcG|\"G7\"A2B \"C\"c3|\"C\"ede g2G|\\n\"F\"Aca \"G7\"gab|\"C\"c\\'ba \"C\"gfe|\"F\"d3 \"G7\"c2d|\"C\"e3 \"G\"d3|\"Am\"cdc \"Em\"BAG|\\n\"Am\"e3 \"G\"f3|\"C\"def \"C7\"g3|\"F\"a2c\\' \"C\"gec|\"G7\"f2g \"C\"e3|\"C\"cde \"F\"f2d|\\\\\\n\"G7\"g3 \"C\"c3||\\n\\n\\nX: 218\\nT:North Skelton 2, v 1\\n% Nottingham Music Database\\nS:Trad, via EF\\nM:6/8\\nK:G\\n\"G\"ded B2d|\"D7\"c2B A2F|\"G\"GAG G2B|\"D7\"d3 A3|\"G\"ded B2g|\\n\"C\"f2e c2e|\"G\"ded \"D7\"c2A|\"G\"G3 G3|\"G\"B3 BcB|\"C\"e3 e3|\"D7\"A3 Ace|\\n\"G\"d3 \"D7\"d3|\"G\"ded B2g|\"C\"f2e c2e|\"G\"ded \"D7\"c2A|\"G\"G3 G3||\\n\\n\\nX: 219\\nT:North Skelton 2, v 2\\n% Nottingham Music Database\\nS:Trad, via EF\\nM:6/8\\nK:G\\n\"G\"ded gdB|\"D7\"c2B A2F|\"G\"G2A B2c|\"D7\"d3 A3|\"G\"ded gbg|\\n\"C\"f2e c2e|\"G\"ded \"D7\"e2f|\"G\"g3 G3|\"G\"BAB Bcd|\"C\"e3 E3|\"D7\"ABA ABc|\\n\"G\"d3 \"D7\"D3|ded bgd|\"C\"f2e c2e|\"G\"ded \"D7\"e2f|\"G\"g3 G3||\\n\\n\\nX: 220\\nT:Aux Bois De Norwich or Norwich Woods\\n% Nottingham Music Database\\nS:Bob McQuillen 19 July 1974, via Phil Rowe\\nM:6/8\\nK:G\\nBc|\"G\"d2B GBc|\"G\"dge \"D7\"dBc|\"G\"d2B GFG|\"Am\"A2B \"D7\"cBc|\\n\"G\"d2B GBc|\"G\"dge dBd|\"C\"ege \"D7\"dBA|\"G\"BGG G::\\nBd|\"Em\"e2B \"Am\"ABc|\"Em\"B2e efg|\"Am\"aba \"Em\"gfe|\"Bm\"fef dBd|\\n\"Em\"e2B \"Am\"ABc|\"Em\"Bee edc|\"Bm\"BAB dBd|\"Em\"e3 -e:|\\n\\n\\nX: 221\\nT:Nutting Girl\\n% Nottingham Music Database\\nY:AAB\\nS:Kevin Briggs, via EF\\nM:4/4\\nK:A\\nM:6/8\\nP:A\\n|:E|\"A\"A2c e2e|\"E7\"e2d B2G|\"A\"A2B \"E7\"c2d|\"A\"e3 e2c|\"D\"dcd \"E7\"Bcd|\\\\\\n\"A\"cec \"F#m\"ABc|\"Bm\"d2B \"E7\"A2G|\"A\"A3 A2:|\\nP:B\\n|:A|\"D\"A2d d2f|\"A\"f2e ecA|\"D\"A2d d2f|\"A/c+\"e3 \"E7/b\"ecB|\"A\"A2a \"D\"a2f|\\n\"A\"f2e \"F#m\"edc|\"Bm\"B2A \"Bm/a\"B2c|\"E7/g+\"e3 c2B|\"A\"AFE A2A|\"A\"A3 A2c| \"E7\"BGE B2B|\\n\"E7\"B3 Bcd|\"A\"edc edc|\"D\"agf edc|\"A\"AFE \"D\"A2A|\"A\"A3 A2:|\\n\\n\\nX: 222\\nT:Off She Goes\\n% Nottingham Music Database\\nS:Trad, via EF\\nY:AB\\nM:6/8\\nK:D\\nP:A\\nA|\"D\"F2A \"G\"G2B|\"A7\"ABc \"D\"d3|\"D\"F2A \"G\"G2B|\"D\"AFD \"A7\"E3|\"D\"F2A \"G\"G2B|\\\\\\n\"A7\"ABc \"D\"d2e|\"D\"\"Bm\"f2d \"Em\"g2f|\"A7\"edc \"D\"d2:|\\nP:B\\ng|\"D\"faf def|\"Em\"gbg \"A7\"efg|\"D\"faf def|\"A7\"ecA A2g|\\n\"D\"faf def|\"Em\"gbg \"A\"efg|\"D\"\"Bm\"fed \"Em\"g2f|\"A7\"edc \"D\"d2:|\\n\\n\\nX: 223\\nT:Oh Dear, What Can The Matter Be\\n% Nottingham Music Database\\nS:Trad, via EF\\nY:ABCDEFGH\\nM:6/8\\nK:G\\nP:A\\nBc|\"G\"d3 d3|\"G\"dBg dBG|\"Am\"c3 c3|\"D7\"cAB cBA|\"G\"d3 d3|\"G\"dBg dBG|\\\\\\n\"Am\"EAc \"D7\"BcA|\"G\"G4||\\nP:B\\nBc|dBc dBc|dBg dBG|cAB cAB|cAB cBA|\\ndBc dBc|dBg dBG|EAc BcA|G4||\\nP:C\\nBc|dB/2c/2d/2B/2 gB/2c/2d/2B/2|dB/2c/2d/2B/2 e/2d/2c/2B/2A/2G/2|\\ncA/2B/2c/2A/2 aA/2B/2c/2A/2|cA/2B/2c/2A/2 a/2g/2f/2e/2d/2^c/2|\\\\\\ndB/2c/2d/2B/2 gB/2c/2d/2B/2|\\ndB/2c/2d/2B/2 e/2d/2c/2B/2A/2G/2|EAc BcA|G4||\\nP:D\\nBc|d/2c/2B/2c/2d/2B/2 d/2c/2B/2c/2d/2B/2|dBg dBG|\\\\\\nc/2B/2A/2B/2c/2A/2 c/2B/2A/2B/2c/2A/2|\\ncAa gfe|d/2c/2B/2c/2d/2B/2 d/2c/2B/2c/2d/2B/2|dBg dBG|EAc BcA|G4||\\nP:E\\nBc|dBG DGB|d/2G/2B/2d/2g/2d/2 b/2a/2g/2f/2e/2d/2|ecA EFG|\\\\\\nF/2D/2F/2A/2d/2A/2 a/2g/2f/2e/2d/2^c/2|\\ndBG DGB|d/2G/2B/2d/2g/2d/2 b/2a/2g/2f/2e/2d/2|EAc BcA|G4||\\nP:F\\nBc|d2b B2g|GBd DGB|A2a A2e|DFA cBc|\\nd2b B2g|GBd DGB|EAc BcA|G4||\\nP:G\\nBc|e/2d/2c/2B/2A/2G/2 e/2d/2c/2B/2A/2G/2|B/2G/2B/2d/2g/2d/2 b/2a/2g/2f/2e/2d/2\\\\\\n|\\nf/2e/2d/2c/2B/2A/2 f/2e/2d/2c/2B/2A/2|F/2D/2F/2A/2d/2A/2 a/2g/2f/2e/2d/2^c/2|\\ne/2d/2c/2B/2A/2G/2 e/2d/2c/2B/2A/2G/2|B/2G/2B/2d/2g/2d/2 b/2a/2g/2f/2e/2d/2|\\\\\\nEAc BcA|G4||\\nP:H\\nBc|d3/2B/2d/2B/2 e3/2B/2e/2B/2|d3/2B/2d/2c/2 BAG|c3/2A/2c/2A/2 a3/2b/2a/2g/2|\\nf3/2g/2f/2e/2 d3/2e/2d/2^c/2|d3/2B/2d/2B/2 e3/2B/2e/2B/2|d3/2B/2d/2c/2 BAG|\\\\\\nEAc BcA|G4||\\n\\n\\nX: 224\\nT:One For The Pot\\n% Nottingham Music Database\\nS:Chris Dewhurst 1982, via Phil Rowe\\nM:6/8\\nK:Am\\n\"Am\"Acd e2a|\"Dm\"f2a \"Am\"e2a|\"Dm\"def \"Am\"ecA|\"B7\"BcA \"E7\"B3|\\n\"Am\"Acd e2a|\"Dm\"f2a \"Am\"e2c|\"Dm\"def \"E\"e2^G|\"Am\"BAA A3::\\n\"Dm\"A2A BAB|\"Am\"c2d ecA|\"B7\"B2^d ^f2a|\"E7\"^gbg e^fg|\\n\"A7\"a^g=g \"D\"^fed|\"Dm\"g^f=f \"Am\"edc|\"Dm\"def \"E7\"e2^G|\"Am\"BAA A3:|\\n\\n\\nX: 225\\nT:Orange Rogue\\n% Nottingham Music Database\\nY:LALABA\\nS:McCusker Brothers, via EF\\nM:6/8\\nK:Em\\nP:L\\n|B|\\nP:A\\n\"Em\"\"C\"e/2f/2ge \"D\"\"G\"dBA|\"Em\"GEF G2A|\"G\"BAB \"D\"def|\"G\"g2b \"D\"agf|\\n\"Em\"\"C\"e/2f/2ge \"D\"\"G\"dBA|\"Em\"GEF G2A|\"G\"BAB \"D\"dBA|[1\"Em\"e3 -e2B:|[2\"Em\"e3 -e2||\\nP:B\\nf|\"Em\"g2e \"D\"a2f|\"Em\"g2B BAB|\"Em\"g2e \"D\"a2f|\"Em\"g3 B2f|\\n\"Em\"g2e \"D\"a2f|\"G\"gfe \"D\"fed|\"G\"BAB \"D\"def|\"Em\"g2b \"D\"agf||\\n\\n\\nX: 226\\nT:Orcadian\\n% Nottingham Music Database\\nS:Kevin Briggs, via EF\\nY:AB\\nM:6/8\\nK:D\\nP:A\\nf/2g/2|\"D\"aba \"A7/e\"faf|\"D/f+\"dfd \"G\"BdB|\"D\"ABA d2e|\"Em\"fgf \"A\"e2f/2g/2|\\n\"D\"aba \"F#m\"faf|\"Bm\"dfd \"E7/g+\"BdB|\"A7\"A2f edc|\"D\"d3 d2:|\\nP:B\\nd/2e/2|\"D\"f2A fed|\"G\"g2B g2B|\"D\"ABA d2e|\"Em\"faf \"A7\"ede|\\n\"D\"f2A fed|\"G\"g2B g2B|\"D/a\"A2f \"A7\"edc|\"D\"d3 d2:|\\n\\n\\nX: 227\\nT:Over The Hills\\n% Nottingham Music Database\\nS:Trad, arr Phil Rowe\\nM:6/8\\nK:Em\\nd/2^c/2|\"Em\"BGE EDE|BAB d^cB|\"D\"AFD DED|AFA d^cd|\\n\"Em\"BGE EDE|BAB d^cd|\"Em\"edB \"D\"AFD|\"Em\"EFE E2::\\n(3B/2c/2d/2|\"Em\"efe edB|\"Em\"ede \"A7\"gfe|\"D\"ded dAF|EFA d^cd|\\n\"Em\"efe edB|\"Em\"ede \"A7\"gfe|\"D\"d^cB AFD|\"Em\"EFE E2(3B/2c/2d/2|\\n\"Em\"efe edB|\"Em\"ede \"A7\"gfe|\"D\"ded dAF|EFA d^cd|\\n\"Em\"efe edB|\"G\"gbg \"D\"faf|\"Em\"edB \"D\"AFD|\"Em\"EFE E2:|\\n\\n\\nX: 228\\nT:Oyster Girl\\n% Nottingham Music Database\\nS:EF\\nY:AB\\nM:6/8\\nK:G\\nP:A\\nB/2c/2|\"G\"ded B2G|\"D7\"A2F DEF|\"G\"G2G BGB|\"Am\"d2c \"D7\"A3|\\n\"G\"ded Bdg|\"C\"f2e c2e|\"G\"d2B \"D7\"cBA|\"G\"G3 G2:|\\nP:B\\nd/2c/2|\"G\"Bcd Bcd|\"C\"e2c edc|\"D7\"ABc ABc|\"G\"d2B d2B|\\n\"G\"ded Bdg|\"C\"f2e c2e|\"G\"d2B \"D7\"cBA|\"G\"G3 G2:|\\n\\n\\nX: 229\\nT:Paddy Carey\\n% Nottingham Music Database\\nS:Join the Band, via EF\\nY:AB\\nM:6/8\\nK:D\\nP:A\\nA|\"D\"d2d dcd|\"G\"B2d \"D\"A3|\"A7\"ABc \"D\"def|\"G\"g2e \"A7\"cBc|\\n\"D\"d2d dcd|\"G\"B2d \"D\"A3|\"A7\"ABc \"D\"def|\"A7\"gec \"D\"d2:|\\nP:B\\nA|\"D\"d2e f2f|\"D\"fgf fed|\"Em\"e2d e2d|\"Em\"e2d \"A7\"e2f|\\n\"D\"d2e f2f|\"D\"fgf fed|\"Em\"e2d \"A7\"e2f|\"D\"d3 d2:|\\n\\n\\nX: 230\\nT:Paddy the Dandy\\n% Nottingham Music Database\\nS:Jimmy MacKay, via EF\\nY:AB\\nM:6/8\\nK:A\\nP:A\\nF|\"A\"EAA cBA|\"A\"eAA cBA|\"D\"aga \"A\"ecA|\"Bm\"Bdc \"E7\"BAF|\\n\"A\"EAA cBA|\"A\"eAA cBA|\"D\"aga \"A\"ecA|\"E7\"BAG \"A\"A2:|\\nP:B\\nc|\"A\"eaa caa|\"E\"bab agf|\"A\"eaa caa|\"E7\"bc\\'b agf|\\n\"A\"eaa caa|\"E\"bab gfe|\"D\"fga \"A\"ecA|\"E7\"BAG \"A\"A2:|\\n\\n\\nX: 231\\nT:Paddy Whack\\n% Nottingham Music Database\\nS:EF\\nY:AB\\nM:6/8\\nK:G\\nP:A\\nd|\"G\"GBd gfg|\"C\"edc \"D7\"BcA|\"G\"GBd \"A7\"efg|\"D7\"fdd def|\\n\"G\"gbg \"D\"afd|\"C\"cde \"G\"dBG|\"Em\"GAB \"D7\"cAd|\"G\"BGG G2:|\\nP:B\\nG/2A/2|\"G\"BGB \"C\"c2e|\"G\"dBG \"D7\"A2G|\"G\"GBd \"A7\"efg|\"D7\"fdd def|\\n\"G\"gbg \"D\"afd|\"C\"cde \"G\"dBG|\"Em\"GAB \"D7\"cAd|\"G\"BGG G2:|\\n\\n\\nX: 232\\nT:Pat\\'s Parlour\\n% Nottingham Music Database\\nS:Trad, arr Phil Rowe\\nM:6/8\\nK:D\\nf/2e/2|\"D\"dAA A2d|\"G\"BdB \"D\"A2A|\"D\"dcd \"Em\"efg|\"D\"fed \"A7\"eag|\\n\"D\"fAA A2d|\"G\"BdB \"A7\"A2g|\"D\"fed \"A7\"Adc|\"D\"d3 -d2::\\nf/2g/2|\"D\"afd dcd|faf d2f|\"A7\"g2e \"D\"f2d|\"A7\"eAA ABc|\\n\"D\"dAA A2d|\"G\"BdB \"A7\"A2g|\"D\"fed \"A7\"Adc|\"D\"d3 -d2:|\\n\\n\\nX: 233\\nT:The Perfect Cure\\n% Nottingham Music Database\\nS:EF\\nY:AB\\nM:6/8\\nK:D\\nP:A\\nA/2G/2|\"D\"FGA D2d|\"A7\"cde A2G|\"D\"FGA \"E7\"D2F|\"A7\"E3 EAG|\\n\"D\"FGA D2d|\"A7\"cde A2G|\"D\"FGA \"A7\"ABc|\"D\"d3 d2:|\\nP:B\\nd/2e/2|\"D\"fed \"A\"e2d|\"Em\"cdB \"A7\"A2e|\"D\"fed \"A\"c2d|\"Em\"e3 \"A7\"a3|\\n\"D\"fed \"A\"e2d|\"Em\"cdB \"A\"A2B|\"G\"ABA \"A7\"B2c|\"D\"d3 d2:|\\n\\n\\nX: 234\\nT:Pet of the Pipers\\n% Nottingham Music Database\\nS:Kevin Briggs, via EF\\nY:AB\\nM:6/8\\nK:A\\nP:A\\nE|\"A\"A2A cBA|\"A\"ecA aec|\"A\"A2A cBA|\"D\"GFE \"E7\"dcB|\\n\"A\"A2A cBA|\"A\"ecA aec|\"D\"fga \"A\"ecA|\"E7\"dBG \"A\"A2:|\\nP:B\\ne|\"A\"aga \"D\"fga|\"B7/f+\"fba \"E7\"gfe|\"A\"aga \"D\"fga|\"E7\"bag \"A\"a2(3e/2f/2g/2|\\n\"A\"agf edc|\"D\"fed \"A\"cBA|\"D\"fga \"A\"ecA|\"E7\"dBG \"A\"A2:|\\n\\n\\nX: 235\\nT:Pete\\'s Peerie Boat\\n% Nottingham Music Database\\nY:AAB\\nS:Tommy Anderson, via EF\\nM:6/8\\nK:D\\nP:A\\n|:A|\"D\"d2D D2D|\"Em\"EFG \"A7\"ABc|\"D\"dcd \"E7\"Bed|\"A7\"cAA ABc|\\n\"D\"d2D D2D|\"Em\"EFG \"A7\"ABc|\"D\"d2A \"A7\"GFE|\"D\"FDD D2:|\\nP:B\\n|:A|\"D\"dcd fed|\"A\"cBc edc|\"Bm\"BAB dcB|\"F#m\"A3 -A2F|\"G\"GFG BAG|\\n\"D\"F2A d3|\"E7\"E2^G B3|\"A7\"C2E A2A|\"D\"dcd fed|\"A\"cBc edc|\"Bm\"BAB dcB|\\n\"F#m\"A3 -A2F|\"G\"GFG BAG|\"D\"F2A \"A\"a2g|\"Bm\"fed \"A7\"Adc|\"D\"d3 -d2:|\\n\\n\\nX: 236\\nT:Pine Cones\\n% Nottingham Music Database\\nY:AAB\\nS:John Lagden, via EF\\nM:6/8\\nK:D\\nP:A\\n|:A|\"D\"d2B A2d|\"A7\"edc \"D\"d2a|\"G\"b2a \"A7\"gfe|\"D\"f2d \"A7\"B2A|\\n\"D\"d2B A2d|\"A7\"edc \"D\"d2A|\"G\"BAG \"D\"FAF|\"A7\"E3 \"D\"D2:|\\nP:B\\nA|\"D\"F2A ABA|\"D\"F2A d2e|\"D\"f2d \"G\"gfe|\"D\"f2d \"A7\"B2A|\"D\"F2A ABA|\\n\"D\"d2e f2d|\"G\"gfe \"D\"faf|\"A7\"e3 \"D\"d2A|\"D\"F2A ABA|\"D\"F2A d2e|\"D\"f2d \"G\"gfe|\\n\"D\"f2d \"A7\"B2A|\"D\"F2A ABA|\"D\"d2e f2a|\"G\"bag \"D\"faf|\"A7\"e3 \"D\"d2||\\n\\n\\nX: 237\\nT:Piper\\'s Fancy\\n% Nottingham Music Database\\nS:Kevin Briggs, via EF\\nP:AB\\nM:6/8\\nK:D\\nP:A\\nA|\"D\"dcd d2f|\"D\"dcd d2f|\"A7\"ecA Ace|\"A7\"ecA ABc|\\n\"D\"dcd d2f|\"D\"dcd d2f|\"A7\"ecA ABc|\"D\"d3 d2:|\\nP:B\\nf/2g/2|\"D\"a2f a2f|\"D\"ded dfa|\"Em\"b2g b2g|\"Em\"efe \"A7\"efg|\\n\"D\"a2f a2f|\"Bm\"def d2f|\"A7\"ecA ABc|\"D\"d3 d2:|\\n\\n\\nX: 238\\nT:Pizza and Apple Pies\\n% Nottingham Music Database\\nS:Mike Richardson 23.3.89, via Phil Rowe\\nM:6/8\\nK:G\\nG2A |\"G\"B2B BAG|\"B\"A2A AGF|\"C\"G2G GAB|\"G\"D3 G2F|\"C\"E2E EFG|\\n\"G\"D2D DGA|\"A\"BcB BAG|\"D\"A3 G2A|\"G\"B2B BAG|\"B\"A2A AGF|\\n\"C\"G2G GAB|\"G\"D3 G2F|\"C\"E2E EFG|\"G\"D2D DGB|\"A\"ABc \"D\"DEF|\"G\"G3 G2F||\\n\"Em\"E2E GFE|\"B\"F2F AGF|\"Em\"E^DE G2A|\"B\"B3 ^D3|\"Em\"E2E GFE|\\n\"B\"F2F AGF|\"Em\"EFE \"Am\"C2E|\"B\"B,3 ^D3|\"Em\"E2E GFE|\"B\"F2F AGF|\"Em\"E^DE G2A|\\n\"G\"B3 GAB|\"C\"c2e \"Am\"edc|\"G\"B2d \"Em\"dcB|\"Am\"ABc \"D\"DEF|\"G\"G3 ||\\n\\n\\nX: 239\\nT:Platnix\\n% Nottingham Music Database\\nS:Pauline Wilson, via Phil Rowe\\nM:6/8\\nK:G\\n\"G\"d2d d^cd|e2B BAG|\"C\"E2E \"Cm\"_E2E|\"G\"D6|\"Am\"c2c \"D7\"cBA|\\n\"G\"B2A G2B|\"A7\"A2G F2G|\"D7\"A6|\"G\"d2d d^cd|e2B BAG|\\n\"C\"c2B c2d|e3 g2e|\"G\"d2d B2d|\"C\"e2d \"G\"B2G|\"Am\"E2G \"D7\"F2A|\"G\"G6||\\n\"C\"c3 e3|g2g g2e|\"G\"d2e d2B|d6|\"Am\"A2^G A2B|\"D7\"c2d e2c|\"G\"B2^A B2c|\"G7\"d3 G3|\\n\"C\"c3 e3|g2g g2e|\"G\"d2e d2B|\"Em\"e6|\"Am\"A2B \"D7\"c2e|\"G\"d2B \"Em\"g2e|\\\\\\n\"Am\"d2B \"D7\"cBA|\"G\"G6||\\n\\n\\nX: 240\\nT:The Pleated Plaidie\\n% Nottingham Music Database\\nS:Dennis Salter, via Phil Rowe\\nM:6/8\\nK:A\\ne2d |\"A\"c2e \"E7\"B2e|\"A\"A2A GFE|\"D\"F2A d2f|\"E7\"eBc dcB|\"A\"c2e \"E7\"B2e|\\n\"A\"Ace a3|\"B7\"bfb agf|\"E7\"efe gfe|\"A\"c2e \"E7\"B2e|\"A\"A2A GFE|\"D\"F2A d2f|\\n\"E7\"g3 efg|\"A\"a2a \"D\"agf|\"A\"efe ece|\"Bm\"f2f \"E7\"gfg|\"A\"a3 \"A7\"ag=g||\\n\"D\"f2f def|\"A\"e2e c2c|\"Bm\"dcd \"E7\"fed|\"A\"c3 -c3|\"Bm\"Bcd \"E7\"fed|\\n\"A\"c2e A2c|\"B7\"B^da gBf|\"E7\"e3 e2=f|\"D\"f2f def|\"A\"e2e cde|\\n\"Bm\"d2c \"B7\"BcA|\"E7\"GA^A B2=c|\"A\"^c2e \"E7\"B2e|\"A\"Ace a2a|\"B7\"b2b \"E7\"gfe|\\\\\\n\"A\"a3 ||\\n\\n\\nX: 241\\nT:Pop Goes the Wheezle\\n% Nottingham Music Database\\nS:Trad, via EF\\nM:6/8\\nK:G\\nD|\"G\"G2B \"D7\"A2c|\"G\"BdB \"D7\"G2D|\"G\"G2B \"D7\"ABc|\"G\"B3 \"D7\"G2D|\"G\"G2B \"D7\"A2c|\\n\"G\"BdB G3|\"C\"e3 \"D7\"A2c|\"G\"B3 G3|\"Em\"g2f e2g|\"D\"faf d3|\\n\"Em\"g2f efg|\"Bm\"f3 d3|\"C\"c2B c2d|\"C\"e2f g3|\"G\"g3 \"D7\"A2c|\"G\"B3 G2:|\\n\\n\\nX: 242\\nT:Portland Fancy\\n% Nottingham Music Database\\nY:ABCD\\nS:FTB 2/48, via EF\\nM:6/8\\nK:A\\nP:A\\nE|\"A\"E2A E2A|\"A\"EAB c2c|\"D\"dcd \"E7\"Bcd|\"A\"e2c \"D\"BAF|\\n\"A\"E2A E2A|\"A\"EAB c2c|\"D\"dcd \"E7\"cEG|\"A\"AEc Ace|\\nP:B\\n\"A\"a3 \"D\"agf|\"A\"ecf e3|\"E7\"dBe d3|\"A\"cde \"D\"f2e|\"A\"a3 \"D\"agf|\\n\"A\"ecf e3|\"E7\"edB EFG|\"A\"AEc AFG|\\\\\\nK:D\\nP:C\\n\"D\"ABc d2e|\"D\"f2g a3|\"A7\"efg AB/2c/2d/2e/2|\"D\"f2d \"A7\"AFG|\\nK:D\\n\"D\"ABc d2e|\"D\"f2g a3|\"A7\"efg ABc|\"D\"d3 -d3|\\nP:D\\n|:\"D\"F2A F2A|\"D\"FAd f3|\"A\"ece gec|\"D\"dfe \"A7\"d2(3c/2B/2A/2|\\n\"D\"F2A F2A|\"D\"FAd f3|\"A7\"ece gec|\"D\"d3 -d3:|\\n\\n\\nX: 243\\nT:Princess Margaret\\n% Nottingham Music Database\\nS:Otto Wood, via EF\\nM:6/8\\nK:G\\nD|\"G\"G2A BAG|\"D7\"F2A c2e|\"G\"d2B gfg|\"D\"baf d2d|\"C\"e2c gfe|\\n\"G\"d2g B2d|\"Am/c\"c2B \"A7/c+\"A2G|\"D7\"F2A d2D|\"G\"G2A BAG|\"D7\"F2A c2e|\"G\"d2B gfg|\\n\"D\"baf d2d|\"C\"e2c gfe|\"G\"d2g \"Em\"B2d|\"Am\"c2A \"D7\"def|\"G\"g3 g2g|\\n\"D7\"f2g afd|\"G\"g2a b3|\"C\"c\\'2a \"G/b\"b2g|\"Am\"a2g \"D\"fed|\"C\"c2d edc|\"G\"B2c d3|\\n\"A7\"^c2A a2g|\"D7\"fgf edc|\"G\"B2c dBG|\"C\"c2d e3|\"A7\"^c2d ecA|\\n\"D7\"d2e f3|\"G\"gfg dcB|\"Am\"e^de cBA|\"D7\"ded cBA|\"G\"G3 G2||\\n\\n\\nX: 244\\nT:Quaker\\'s Wife\\n% Nottingham Music Database\\nS:Sam Sherry via Marlene\\nM:6/8\\nK:G\\nd|\"G\"gab d2b|\"C\"c\\'ba \"D\"bge|\"G\"gab \"Em\"deg|\"D\"aba a2d|\\n\"G\"gab d2b|\"C\"c\\'ba \"D\"bge|\"G\"gab \"D\"d2e|\"G\"gdB G2:|\\ng/2a/2|\"G\"bgg aga|\"G\"bgg age|\"G\"gab \"Em\"deg|\"D\"aba a2g/2a/2|\\n\"G\"bgg aga|\"G\"bgg age|\"G\"gab \"D\"d2e|\"G\"gdB G2:|\\nd|\"G\"ggg \"D\"aga|\"Em\"bge \"D\"dBG|\"G\"ggg gab|\"D\"aba a3|\\n\"Em\"gag \"D\"fgf|\"C\"efe \"D\"dBA|\"G\"GAB \"D\"D2E|\"C\"GGG \"Em\"G2:|\\n\\n\\nX: 245\\nT:The Quaker\\'s Wife\\n% Nottingham Music Database\\nS:EF\\nY:AB\\nM:6/8\\nK:D\\nP:A\\nA|\"D\"def A2f|\"G\"g2f \"A7\"e2A|\"D\"def A2A|\"G\"B3 \"A7\"d2A|\\n\"D\"def Adf|\"G\"agf \"A7\"e2A|\"D\"def AFA|\"G\"B3 \"D\"d2:|\\nP:B\\nA|\"D\"d2f a2f|\"G\"b2g \"A7\"a2f|\"D\"def agf|\"D\"f3 \"D7\"a3|\"G\"b2g \"A7\"efg|\\\\\\n\"D\"a2f \"Bm\"d2A|\"D\"def AFA|\"G\"B3 \"D\"d2:|\\n\\n\\nX: 246\\nT:Queen Victoria\\n% Nottingham Music Database\\nS:Otto Wood, via EF\\nM:6/8\\nK:A\\nc/2d/2|\"A\"e2d cea|\"D\"g2f \"A\"e3|\"F#m\"cfe \"Bm\"d3|\"E7\"Bed \"A\"c2d|\"A\"e2d cea|\\n\"D\"g2f \"A\"e3|\"Bm\"fBc \"E7\"dBe|\"A\"A3 -Aef|\\\\\\nK:E\\n\"E\"geg b2a|\"E\"gef g2b|\\n\"B7\"b2f fga|\"E\"g2f \"B7\"eBe|\"E\"geg b2a|\"E\"gef g2b|\"B7\"b2f fgf|\\n\"E\"e3 -ede|\\\\\\nK:A\\n\"A\"e2d cea|\"D\"g2f \"A\"e3|\"F#m\"cfe \"Bm\"d3|\"E7\"Bed \"A\"c2d|\"A\"e2d cea|\\n\"D\"g2f \"A\"e3|\"Bm\"fBc \"E7\"dBe|\"A\"A3 -Ade|\\\\\\nK:D\\n\"D\"fAd f2a|\"Em\"g2f e3|\"A7\"ace a2b|\\n\"D\"a2g \"A7\"f3|\"D\"fAd f2a|\"G\"gfg b3|\"D\"agf \"A7\"eBc|\"D\"d3 -d2||\\n\\n\\nX: 247\\nT:Queen\\'s Fancy\\n% Nottingham Music Database\\nS:Trad, arr Phil Rowe\\nM:6/8\\nK:D\\n\"D\"d2f a2f|\"G\"b2g \"D\"afd|\"Bm\"def \"Em\"g2e|\"D\"fed \"A7\"cBA|\"G\"B2d \"D\"A2d|\\\\\\n\"G\"G2d \"D\"F2d|\"E7\"E2d \"A7\"cde|\"D\"d3 -d3::\\n\"A\"e2c ABc|\"D\"d2e fed|\"A\"e2c ABc|\"D\"dAG FED|\\n\"A\"e2c ABc|\"D\"d2e fed|\"Em\"gfe bag|\"A7\"fge \"D\"d3:|\\n\\n\\nX: 248\\nT:The Railway\\n% Nottingham Music Database\\nS:Trad, arr Phil Rowe\\nM:6/8\\nK:G\\nD|\"G\"G2G GBd|g2d d2d|\"Am\"e2d c2B|\"D7\"ABG FED|\\n\"G\"G2G GBd|\"G\"g2d d2d|\"C\"edc \"G\"BAG|\"D7\"A3 \"G\"G2::\\nd|\"G\"b2b b2a|g2g g2d|\"C\"e2d efg|\"D7\"a2g fed|\\n\"Bm\"bbb b2a|\"Em\"ggg g2d|\"A7\"efg \"D7\"agf|\"G\"g3 -g2:|\\n\\n\\nX: 249\\nT:Rake Maker\\'s Jig\\n% Nottingham Music Database\\nS:Brian Jenkins, via Phil Rowe\\nM:6/8\\nK:G\\ndc|\"G\"B2B B^AB|D3 -DGB|\"G\"deB deB|\"Am\"c3 -ccB|A2A A^GA|\\n\"D\"F2F F2E|\"D7\"DFA de^A|\"G\"B3 -\"D7\"Bdc|\"G\"B2B B^AB|D3 -DGA|\"G\"B2B \"G7\"Bcd|\\n\"C\"e3 -eef|\"C#d\"ge^c ^Agf|\"G\"edB Gfe|\"A\"dDc \"D7\"B2A|\"G\"G3 -\"B7\"GGF||\\n\"Em\"E2E G2A|B3 -B2B|\"Am\"c2c \"D7\"cdA|\"G\"B3 -B2B|\"Am\"A2A \"D\"ABc|\"Bm\"d2B \"Em\"G2B|\\n\"A\"A2g f2e|\"D\"d3 -\"D7\"ddc|\"G\"B2B B^AB|\"G\"D3 -DGB|\"G\"deB deB|\\n\"Am\"c3 -ccB|\"D7\"A2A ABc|\"Bm\"d2B \"Em\"G2D|\"Am\"E2c \"D7\"B2A|\"G\"G3 -Gzz||\\n\\n\\nX: 250\\nT:Ralph Page Jig\\n% Nottingham Music Database\\nS:Ken Hillyer, via Phil Rowe\\nM:6/8\\nK:D\\n\"D\"d3 \"A\"ABc|\"D\"d3 \"A\"ABc|\"D\"d2c d2f|a3 -agf|\"G\"g3 -gfe|\"D\"f3 -fed|\\\\\\n\"Em\"e2g \"A7\"ABc|\"D\"d3 d3::\\n\"D\"f3 d3|\"D7\"f^ef d3|\"G\"g2f \"Em\"e2d|\"A\"c2B A3|\"D7\"f3 d3|\"Em\"gfg g2^g|\\\\\\n\"A7\"a2g f2e|\"D\"d3 d3:|\\n\\n\\nX: 251\\nT:Ran-Tan\\n% Nottingham Music Database\\nY:AABBCC\\nS:Whitby 1989, via EF\\nM:6/8\\nK:A\\nP:A\\n|:e|\"A\"agf \"E7\"efg|\"A\"aga f2e|\"D\"fed \"A\"cde|\"E7\"dcB c2A|\\n\"A\"agf \"E7\"efg|\"A\"aga f2e|\"D\"fed \"A\"cde|\"E7\"dcB \"A\"A2:|\\nP:B\\n|:B|\"A\"c2c ABc|\"E\"c2B -B2c|\"D\"d2d Bcd|\"A\"f2e -\"E7\"e2d|\\n\"A\"c2c ABc|\"E7\"c2B -B2e|\"E7\"efe dcB|\"A\"A3 -A2:|\\nK:Am\\nP:C\\n|:e|\"Am\"edc Bcd|\"Dm\"f2e -\"Am\"e2e|\"Am\"e2c d2c|\"E7\"cB2 B2d|\\n\"E7\"dcB Bcd|\"E7\"fe2 e2e|\"E7\"efe dcB|\"Am\"A3 -A2:|\\n\\n\\nX: 252\\nT:Rattlebones\\n% Nottingham Music Database\\nS:Upton, via EF\\nY:AB\\nM:6/8\\nK:G\\nP:A\\nd/2d/2|\"G\"dBB BAG|\"D\"AGA \"Em\"BGE|\"G\"DGG GBd|\"C\"edB \"D\"Add|\\n\"Em\"dBB BAG|\"D\"AGA \"Em\"BGE|\"G\"DGG GAB|\"D7\"AGF \"G\"G2:|\\nP:B\\nB/2A/2|\"G\"GBd g2d|\"C\"edB \"D7\"BAG|\"G\"GBd g2d|\"C\"edB \"D\"A2-A|\\n\"Em\"GBd g2d|\"G\"edB ABd|\"C\"ege \"G\"dBG|\"D7\"AGA \"G\"G2:|\\n\\n\\nX: 253\\nT:Red Cigar\\n% Nottingham Music Database\\nS:Ralph Page, via EF\\nY:AB\\nM:6/8\\nK:G\\nP:A\\nD|\"G\"GFG \"D7/a\"BAG|\"G/b\"dBd \"C\"g3|\"G\"d2e \"Em\"dcB|\"A7\"ABG \"D7\"FED|\\n\"G\"GFG \"D7/a\"BAG|\"G/b\"dBd \"C\"g3|\"G\"d2e \"Em\"dcB|\"D7\"AGF \"G\"G2:|\\nP:B\\nd|\"G\"g3 \"D\"f3|\"C\"efg \"G\"dBG|\"G\"G2A Bdc|\"Am\"BAG \"D\"A3|\\n\"Em\"g3 \"Bm\"f3|\"C\"efg \"G\"dBG|\"C\"cde \"G\"dcB|\"D7\"AGF \"G\"G2:|\\n\\n\\nX: 254\\nT:Red Leciester\\n% Nottingham Music Database\\nS:Chris Dewhurst 1980, via Phil Rowe\\nM:6/8\\nK:D\\n\"(A7)\"F2G |\"D\"A3/2B/2A f2a|A3/2B/2A F2A|\"D\"f3/2e/2d faf|\"Em\"e3 e2f|\\\\\\n\"A\"g3/2a/2g e2g|\\n\"A\"c2e Ace|\"Em\"g3/2f/2g \"A\"bag|\"D\"f3 \"A7\"F2G|\"D\"A3/2B/2A f2a|A3/2B/2A F2A|\\\\\\n\"D\"f3/2e/2d faf|\\n\"Em\"e3 e2f|\"A\"g3/2a/2g e2g|\"A\"c2e A2B|\"Em\"c3/2B/2A \"A7\"GFE|\"D\"D3 Adf||\\n\"D\"a3 f3|d2f A3|\"D\"A3/2d/2f agf|\"Em\"e3 e2f|\"A\"g3 e3|\"A\"c2e A3|\\n\"Em\"g3/2f/2g \"A\"bag|\"D\"f3 \"A\"Adf|\"D\"a3 f3|d2f A3|\"D7\"A3/2B/2=c def|\\n\"G\"g3 g2a|b2d d\\'3/2c\\'/2b|\"D\"a3/2f/2d \"Bm\"A2f|\"Em\"g3/2e/2c \"A\"ABc|\"D\"d3 ||\\n\\n\\nX: 255\\nT:Red Stocking\\n% Nottingham Music Database\\nS:Kevin Briggs, via EF\\nY:AB\\nM:6/8\\nK:G\\nP:A\\n(3D/2E/2F/2|\"G\"GBA G2B|\"G\"def \"D7\"gdB|\"G\"GBA G2B|\"D7\"AFD AFD|\\n\"G\"GBA G2B|\"G\"def gfg|\"C\"ecA \"G\"dBG|\"D7\"FEF \"G\"G2:|\\nP:B\\nB/2d/2|\"Em\"efe edB|\"Em\"def gfg|\"Em\"efe edB|\"D\"dBA A2d|\\n\"Em\"efe edB|\"Em\"def gfg|\"C\"ecA \"G\"dBG|\"D7\"FEF \"G\"G2:|\\n\\n\\nX: 256\\nT:Red Stocking\\n% Nottingham Music Database\\nS:Sam Sherry via Marlene\\nY:ABC\\nM:6/8\\nK:G\\nP:A\\n|:d|\"Em\"gaa bge|\"Em\"gaa bge|\"D\"dBA ABA|\"D\"dBA Add|\\n\"Em\"gaa bge|\"Em\"gaa bge|\"G\"dBG GAG|[1\"G\"dBG \"D\"Gd:|[2 \"G\"dBG \"D\"Gdd||\\nP:B\\n\"Em\"efe edB|\"Em\"def gfe|\"D\"dBA ABA|\"D\"dBA Add|\\n\"Em\"efe edB|\"Em\"def gfe|\"G\"dBG GAG|\"G\"dBG \"D\"Gdd:|\\nP:C\\n\"C\"cec \"G\"BdB|\"D\"AGA \"Em\"BGE|\"D\"dBA ABA|\"D\"dBA Add|\\n\"C\"cec \"G\"BdB|\"D\"AGA \"Em\"BGE|\"G\"dBG GAG|\"G\"dBG \"D\"Gdd:|\\n\\n\\nX: 257\\nT:Reg\\'s Cigar\\n% Nottingham Music Database\\nS:Ralph Page, via Phil Rowe\\nM:6/8\\nK:G\\nD|\"G\"GFG BAG|dBd g3|\"D\"d2e \"G\"dcB|\"A7\"ABG \"D\"FED|\\n\"G\"GFG BAG|\"G\"dBd \"Em\"g3|\"Am\"d2e dcB|\"D7\"AGF \"G\"G2::\\nB/2d/2|\"G\"g3 \"D\"f3|\"C\"efg \"G\"dBG|\"G\"G2A Bdc|\"Am\"BAG \"D7\"A2d|\\n\"Em\"g3 \"Bm\"f3|\"C\"efg \"G\"dBG|\"C\"cde \"G\"dcB|\"D7\"AGF \"G\"G2:|\\n\\n\\nX: 258\\nT:Stool of Repentance\\n% Nottingham Music Database\\nS:KCC p20, via EF\\nY:AB\\nM:6/8\\nK:G\\nP:A\\nd|:\"G\"g2d B2d|\"C\"gfe \"G\"dcB|\"C\"gee e2d|\"C\"ege \"D7\"e2d|\\n\"G\"g2d B2d|\"C\"gfe \"G\"dcB|\"C\"c2d e2d|\"C\"egB \"D7\"A2G:|\\nP:B\\n\"G\"BGG dGG|\"G\"BGG dcB|\"Am\"cAA eAA|\"Am\"cAA \"D7\"edc|\\n\"G\"BGG dGG|\"G\"BGG dcB|\"C\"c2d e2d|\"C\"egB \"D7\"A2G:|\\n\\n\\nX: 259\\nT:The Rocking Horse\\n% Nottingham Music Database\\nS:Chris Dewhurst 1978, via Phil Rowe\\nM:6/8\\nK:C\\n\"G7\"E2D |\"C\"C2c \"F\"ABc|\"C\"GAG GFE|\"F\"F2A \"C\"GFE|\"Dm\"FEF \"G\"DED|\\n\"C\"C2c \"F\"ABc|\"C\"GAG \"Am\"GFE|\"Dm\"DEF \"G\"GAB|\"C\"c3 :|\\n\"C\"cBc |\"G\"d2d dcd|\"C\"e2e \"Am\"ede|\"Dm\"f2f \"G\"def|\"C\"g3 \"C7\"efg|\"F\"a2a fga|\\n\"C\"g2e \"Am\"cde|\"Dm\"fed cBA|\"G7\"G3 e2d|\"C\"c2c \"C7\"GA_B|\"F\"A2c FGA|\\n\"C\"GEC \"D7\"CB,C|\"G\"D3 \"G7\"G2F|\"C\"E2G CDE|\"F\"F2A \"Dm\"Ddc|\"G\"BAG FED|\"C\"C3 ||\\n\\n\\nX: 260\\nT:Roddy Miller\\'s Jig\\n% Nottingham Music Database\\nS:Bob McQuillen March 1977, via Phil Rowe\\nM:6/8\\nK:G\\nB|\"G\"d2B d2B|ded BAG|\"A7\"ABA G2E|\"D7\"D3 -D2B|\"G\"d2B d2B|\\n\"G\"ded BAG|\"Em\"EFG A2B|\"A7\"A3 -\"D7\"A2B|\"G\"d2B d2B|ded BAG|\"D\"ABA \"C\"G2E|\\n\"G\"D3 -\"G7\"DB,D|\"C\"ECE GFE|\"G\"DGB d2d|\"Am\"edc \"D7\"B2A|\"G\"G3 -G2A||\\n\"Em\"B2A \"Bm\"B2A|\"Em\"Bcd \"Am\"edc|\"G\"BcB \"D\"AGF|\"Em\"E3 -\"B7\"E2A|\"Em\"B2A B2A|\\\\\\n\"Bm\"Bcd \"C\"edc|\\n\"G\"BcB \"Am\"ABc|\"B7\"B3 -B2d|\"Em\"ede \"G\"dBG|\"Bm\"AGF \"Em\"E2d|\"C\"ede \"G\"dBG|\\n\"Am\"ABc \"Bm\"B2d|\"C\"ede \"D\"fef|\"Em\"gfg \"D\"aga|\"G\"bag \"Bm7\"fed|\"Em\"e3 -e2||\\n\\n\\nX: 261\\nT:The Rogue\\'s March\\n% Nottingham Music Database\\nS:Trad, arr Phil Rowe\\nM:6/8\\nK:G\\n\"G\"B2B Bcd|\"C\"e2e e3|\"G\"d2d -d2e|\"D\"d2c B2A|\"G\"B2B Bcd|\"C\"e2e e3|\"G\"def gdB|\\\\\\n\"D7\"A3 \"G\"G3::\\n\"G\"g3 \"D\"f3|\"C\"e3 \"D7\"def|\"G\"g3 \"D\"f3|\"C\"e3 \"D7\"d2c|\"G\"B2B Bcd|\"C\"e2e e3|\\\\\\n\"G\"def gdB|\"D7\"A3 \"G\"G3:|\\n\\n\\nX: 262\\nT:The Rollicking Irishman\\n% Nottingham Music Database\\nS:Trad, arr Phil Rowe\\nM:6/8\\nK:D\\nA|\"D\"dAF DFA|\"D\"ded \"A\"cBA|\"Em\"dcd \"A\"efg|\"D\"fdf \"A\"ecA|\\n\"D\"dAF DFA|\"D\"ded \"A\"cBA|\"Em\"dcd \"A\"efg|\"D\"fdd d2::\\ne|\"D\"fdf fga|\"A\"ecA ABc|\"Bm\"dcd \"E7\"Bcd|\"A\"cAA A3|\\n\"G\"BGB Bcd|\"D\"AFD \"Bm\"DFA|\"Em\"dcd \"A7\"efg|\"D\"fdd d2:|\\n\\n\\nX: 263\\nT:Rolling Off A Log\\n% Nottingham Music Database\\nS:Trad, arr Phil Rowe\\nM:6/8\\nK:C\\nce|\"C\"g2^f \"F\"a2=f|\"C\"gec cBc|\"G7\"dBG GAB|\"C\"cd^d ef^f|\\n\"C\"g2^f \"F\"a2=f|\"C\"gec cBc|\"G7\"dBG GAB| [1\"C\"cge c:|\\n [2\"C\"c2zc2z||\\nK:G\\n|:\"G\"Bdg gfg|Bdg gfg|\"D\"fga agf|\"D\"age d^c=c|\\nK:G\\n\"G\"Bdg gfg|Bdg gfg|\"D\"fga agf| [1\"G\"g2z\"D7\"edc:|[2\"G\"g3 g||\\n\\n\\nX: 264\\nT:Rory O\\'More\\n% Nottingham Music Database\\nS:Trad, arr Phil Rowe\\nM:6/8\\nK:A\\n\"A\"eAA cAA|\"A\"eAA \"D\"f3|\"A\"edc cBA|\"E\"G2B Bcd|\\n\"A\"eAA cAA|\"A\"ece \"D\"fed|\"E\"cee efg|\"A\"aec A3::\\n\"F#m\"agf f2c|\"Bm\"dcB \"F#m\"A2G|\"F#m\"FGA ABc|\"E\"cfe efg|\\n\"F#m\"agf f2c|\"Bm\"dcB \"F#m\"A2G|\"F#m\"FGA ABc|\"E\"cfe e3:|\\n\\n\\nX: 265\\nT:Rosin The Beau\\n% Nottingham Music Database\\nS:EF\\nY:AB\\nM:6/8\\nK:G\\nP:A\\nD|\"G\"G2G BAG|\"G\"d3 \"C\"efg|\"G\"dBG GAB|\"Em\"E3 \"D7\"E2D|\\n\"G\"G2G BAG|\"G\"d3 \"C\"efg|\"G\"dBG \"D7\"ABA|\"G\"G3 G2:|\\nP:B\\nd|\"G\"dBd def|\"C\"g2e g2e|\"G\"dBG GAB|\"Em\"E3 \"D7\"E2D|\\n\"G\"G2G BAG|\"G\"d3 \"C\"efg|\"G\"dBG \"D7\"ABA|\"G\"G3 G2:|\\n\\n\\nX: 266\\nT:Rushwick\\n% Nottingham Music Database\\nS:Pauline Wilson, via Phil Rowe\\nM:6/8\\nK:G\\n\"G\"G2F G2A|B2A B2c|\"G\"ded BAG|\"D7\"A6|A2^G A2B|\"D7\"A2F D2B|\\n\"A7\"ABA EFG|\"D7\"F6|\"G\"G2F G2A|B2A B2c|\"G7\"ded BAG|\\n\"C\"e6|\"G\"g2d e2B|\"Am\"dcB A2e|\"D7\"dcB AGF|\"G\"G6||\\n\"Em\"E2B B2c|\"Bm\"B2A G2F|\"Em\"G2A \"A7\"B2^c|\"D\"d3 -d2^d|\"Em\"e2f g2e|\"D\"f2d d2f|\\n\"Em\"e2B \"Bm\"B2d|\"Em\"e3 -e2f|\"G\"g2f e2d|B2d G2B|\"C\"c2B c2e|\\n\"Am\"g3 -g2d|\"G\"g2d e2B|\"Am\"dcB A2e|\"D7\"dcB AGF|\"G\"G6||\\n\\n\\nX: 267\\nT:Saddle The Pony\\n% Nottingham Music Database\\nS:Trad, arr Phil Rowe\\nM:6/8\\nK:G\\n\"G\"GBA G2B|\"D7\"def \"G\"gdB|GBA G2B|\"D7\"AFD AFD|\\n\"G\"GBA G2B|\"D7\"def \"Em\"gfg|\"C\"ege \"D7\"dBA|\"G\"BGG G3::\\n\"Em\"efe edB|\"D\"def \"G\"gfg|\"Em\"efe edB|\"Bm\"dBA ABd|\\n\"Em\"efe edB|\"D\"def \"G\"gfg|\"C\"ege \"D7\"dBA|\"G\"BGG G3:|\\n\\n\\nX: 268\\nT:Sailor\\'s Wife\\n% Nottingham Music Database\\nS:EF\\nY:AB\\nM:6/8\\nK:Dm\\nP:A\\nF/2E/2|\"Dm\"DEF E2D|\"Dm\"d2e f2g|\"F\"agf \"C/e\"edc|\"F\"AcA \"C/e\"GEC|\\n\"Dm\"DEF \"A7\"E2D|\"Dm\"d2e \"Dm/f\"f2g|\"Gm\"agf \"A7\"ed^c|\"Dm\"d3 d2:|\\nP:B\\nd/2e/2|\"F\"fga fga|\"F\"fga agf|\"C\"ecg ecg|\"C\"ecg gfe|\\n\"Dm\"fga agf|\"C\"efg gfe|\"Dm\"def \"A7\"ed^c|\"Dm\"d3 d2:|\\n\\n\\nX: 269\\nT:Sally Hunter\\n% Nottingham Music Database\\nS:Trad, arr Phil Rowe\\nM:6/8\\nK:D\\nA|\"D\"DFA d2A|\"G\"B2A \"D\"d2A|\"G\"Bcd \"Em\"egf|\"A7\"efd cBA|\\n\"D\"DFA d2A|\"G\"B2A Bcd|\"Em\"egf \"A7\"edc|\"D\"d3 -d2:|\\ng|\"D\"fed \"A\"g2e|\"D\"a2f \"G\"b2g|\"D\"fef def|\"A7\"efd cBA|\"D\"fed \"A\"g2e|\\n\"D\"a2f \"G\"b2g|\"D\"fga \"A7\"Adc|\"D\"d3 -d2g|\"D\"fed \"A\"g2e|\"D\"a2f \"G\"b2g|\"D\"fef def\\\\\\n|\\n\"A7\"efd cBA|\"D\"AFA d2A|\"G\"B2A Bcd|\"Em\"egf \"A7\"edc|\"D\"d3 -d2||\\n\\n\\nX: 270\\nT:A Pinch Of Saltire\\n% Nottingham Music Database\\nS:Dennis Salter, via Phil Rowe\\nM:6/8\\nK:A\\ne|\"A\"A2A ABc|\"Bm\"dB2 \"E7\"e2d|\"A\"c2A AGA|\"C\"=GEE \"E7\"^GEE|\\n\"A\"A2A ABc|\"Bm\"dfe \"E7\"B2d|\"A\"cBA \"G\"B=G2|\"A\"A3 -A2:|\\nc|\"D\"d2d def|\"A\"e2d c3|\"Bm\"d2c \"E7\"B3|\"A7\"cd^d ecA|\"D\"d2d def|\"A\"e2d c3|\\n\"B7\"BaB gBf|\"E7\"efd cdB|\"A\"ecA \"A7\"ecA|\"D\"dff \"E7\"egg|\"A\"aec aec|\\n\"C\"=ge=c \"E7\"^ged|\"A\"c2c cBA|\"D\"df2 \"E7\"eg2|\"A\"ace \"E7\"efg|\"A\"a3 -a2||\\n\\n\\nX: 271\\nT:Colonel Sanders\\' March\\n% Nottingham Music Database\\nS:Bob McQuillen April 1976, via Phil Rowe\\nM:6/8\\nK:G\\nD|\"G\"G2G \"D7\"AGF|\"G\"G2B \"D7\"G2A|\"G\"B2B \"D7\"cBA|\"G\"B2c \"D7\"BBc|\"G\"d2g \"D7\"dBc|\\n\"G\"d2g \"D7\"d2c|\"G\"BAG GFG|\"D7\"A2F DEF|\"G\"G2G \"D7\"AGF|\"G\"G2B \"D7\"G2A|\\\\\\n\"G\"B2B \"D7\"cBA|\\n\"G\"B2c \"D7\"BBc|\"G\"d2g \"D7\"dBc|\"G\"d2g \"D7\"d2c|\"G\"BAG \"D7\"AGF|\"G\"G3 -G2A||\\n\"G\"B2B \"D7\"cBA|\"G\"B2G DBc|\"D\"d2d \"A\"ed^c|\"D\"d2B \"G7\"GBd|\"C\"e2d efg|\\n\"G\"d2c Bcd|\"Am\"e2d \"D7\"c2B|\"G\"BAG \"D\"FED|\"G\"B2B \"D7\"cBA|\"G\"B2G DBc|\\n\"D\"d2d \"A\"ed^c|\"D\"d2B \"G7\"GBd|\"C\"e2d efg|\"G\"d2B G2g|\"D7\"fed cBA|\"G\"G3 -G2||\\n\\n\\nX: 272\\nT:Sarah\\'s Jig\\n% Nottingham Music Database\\nS:Bob McQuillan, via Phil Rowe\\nM:6/8\\nK:D\\n\"D\"DEF \"A\"EFG|\"D\"F2D DFG|\"D\"AFA \"G\"B2c|\"D\"d3 -d2A|\"G\"Bcd dcB|\\n\"D\"A2d AFG|\"D\"A2d \"Bm\"AGF|\"Em\"E2F \"A7\"GFE|\"D\"DEF \"A\"EFG|\"D\"F2D DFG|\\n\"D\"AFA \"G\"B2c|\"D\"d3 -\"A\"d2e|\"D\"fgf \"A\"efe|\"Bm\"ded \"F#m\"cBA|\"G\"Bcd \"A7\"ecA|\\\\\\n\"D\"d3 -d3\\n|:\"D\"fgf fed|\"A\"ecA Ade|\"D\"fgf fed|\"A7\"ecA A2G|\\n\"D\"FGA \"G\"GAB|\"A\"ABc \"G\"dcB|\"Em\"Agf \"A7\"edc|\"D\"d3 -d3:|\\n\\n\\nX: 273\\nT:Scollys\\n% Nottingham Music Database\\nS:Trad, arr Phil Rowe\\nM:6/8\\nK:D\\nA|\"D\"dfe d2A|\"D\"dfe d2A|\"D\"d2A d2f|a6|\"G\"gfg bag|\\n\"D\"fed A2f|\"Em\"efe dcB|\"A7\"ABA GFE|\"D\"dfe d2A|\"D\"dfe d2A|\\n\"D\"d2A d2f|a6|\"G\"gfg bag|\"D\"fed A2F|\"Em\"GAB \"A7\"ABc|\"D\"d3 ||\\nf2g |\"D\"afd AFA|\"D\"afd AFA|\"D\"agf \"G\"bag|\"D\"afd AFA|\\n\"A7\"gec Ace|\"A7\"gfe \"B7\"b2a|\"Em\"gfe dcB|\"A\"ABA \"A7\"GFE|\\n\"D\"afd AFA|\"D\"afd AFA|\"D\"agf \"G\"bag|\"D\"afd AFA|\\n\"G\"GFG BAG|\"D\"FAd fag|\"Em\"fed \"A7\"Adc|d3 -d2||\\n\\n\\nX: 274\\nT:Scotsbroome Jig\\n% Nottingham Music Database\\nS:Mike Richardson 16.12.89, via Phil Rowe\\nM:6/8\\nK:D\\nA3 |\"D\"d2e fed|\"G\"BGB \"D\"A2A|\"D\"d2e \"Bm\"fga|\"Em\"agf \"A\"e2=f|\\n\"D\"fed AFA|\"G\"BGB \"D\"A2A|\"D\"d2d \"A\"edc|\"D\"d3 ::\\nDFA |\"C\"=c3 \"G\"B3|\"D\"ABA F2D|\"A\"EFG GFE|\\n\"D\"DFA d2A|\"G\"B3 B3|\"D\"ABA F2D|\"A\"EFG GFE|\"D\"D3 :|\\n\\n\\nX: 275\\nT:Scottish Reform\\n% Nottingham Music Database\\nY:AAB\\nS:Kevin Briggs, via EF\\nM:6/8\\nK:D\\nP:A\\n|:F/2G/2|\"D\"ABA AFA|\"D\"d2d \"G\"dcB|\"D\"ABA \"Bm\"AGF|\"Em\"EGF \"A7\"EFG|\\n\"D\"ABA AFA|\"D\"d2d def|\"G\"gfg \"A7\"eag|\"D\"fdd d2:|\\nP:B\\nf/2g/2|\"D\"afd def|\"G\"gba \"A7\"gfe|\"D\"afd \"Em\"g2f|\"A7\"ecA A2f/2g/2|\\n\"D\"afd def|\"G\"gba \"A7\"gfe|\"G\"gfg \"A7\"eag|\"D\"fdd \"A7\"dfg|\\n\"D\"afd def|\"G\"gba \"A7\"gfe|\"D\"afd \"Em\"g2f|\"A7\"ecA ABc|\\n\"D\"dfd \"A\"ecA|\"G\"BdB \"D\"AFD|\"G\"GFG \"A7\"EAG|\"D\"FDD D2|\\n\\n\\nX: 276\\nT:Scrabble On Sunday ?\\n% Nottingham Music Database\\nS:John Goodacre 1984, via Phil Rowe\\nM:6/8\\nK:Em\\n\"Em\"E2G E2G|\"Em\"BAG \"D\"FGA|\"Em\"E2G E2G|\"Em\"BAF \"G\"G3|\\n\"C\"E2G E2G|\"Bm\"BAG FGA|\"D\"FAF \"Em\"EGE|\"Bm\"F2D \"Em\"E3::\\n\"Bm\"B2F B2F|\"Bm\"dcB \"A\"AcA|\"Bm\"B2F B2F|\"Bm\"dcB \"F#m\"A3|\\n\"Bm\"B2F B2F|\"Bm\"dcB \"A\"AcA|\"Bm\"dcB \"F#m\"AGF|\"Em\"EGA B3:|\\n\\n\\nX: 277\\nT:Northern Hospitality Jig or Seamus Plagiarism\\n% Nottingham Music Database\\nS:Mike Richardson 16.12.89, via Phil Rowe\\nM:6/8\\nK:C\\n\"C\"cGE FED|\"C\"CEC \"G\"DB,G,|\"C\"CEG \"Am\"ceg|\"Dm\"fdc \"G\"BAB|\\n\"C\"cGE FED|\"C\"CEC \"G\"DB,G,|\"C\"CEG ceg|\"G\"fdB \"C\"c3::\\n\"Am\"ABc cBA|\"E\"^G2E \"Am\"A2E|\"Dm\"FED DEF|\"Am\"E2C A,2C|\\n\"E\"B,CD DCB,| [1\"Am\"A,CE ABc|\"E\"B2^G \"B\"^FGF|\"E\"E3 E2^G:|\\n [2\"Am\"A,CE Ace|\"F\"fed \"E\"c2B|\"Am\"A3 \"G\"G3||\\n\\n\\nX: 278\\nT:I Do Like To Be Beside The Seaside\\n% Nottingham Music Database\\nS:Toby Bennett, via EF\\nM:6/8\\nK:C\\ng2^g |\"C\"a3 g2e|\"C\"d2c B2c|\"G7\"g3 g3|\"G7\"g3 g2^g|\"C\"a3 g2e|\"C\"d2c B2c|\"F\"a3 a3\\\\\\n|\\n\"F\"a3 a2^a|\"G7\"b3 a2f|\"G7\"e2d ^c2d|\"C\"a3 g3|\"C\"f3 e2^d|\"D7\"e3 d3|\"D7\"e3 d^cd|\\\\\\n\"G7\"e3 d3|\"G7\"B3 g2^g|\\n\"C\"a3 g2e|\"C\"d2c B2c|\"G7\"g3 g3|\"G7\"g3 g2^g|\"C\"a3 g2e|\"C\"d2c B2c|\"F\"a3 a3|\\\\\\n\"F\"a3 a2^a|\\n\"F#7\"b2^a b2a|\"B7\"b3 a2f|\"Em\"a2g a2g|\"A7\"a2g f2e|\"D7\"d3 a3|\"G7\"a2e d2e|\\\\\\n\"C\"c3 c3|c3 ||\\n\\n\\nX: 279\\nT:The Self\\n% Nottingham Music Database\\nY:AABA\\nS:FTB 1/41, via EF\\nM:6/8\\nK:G\\nP:A\\n|:B/2c/2|\"G\"d^cd BGB|\"D7\"cBc AFD|\"G\"DGG \"D7\"FGA|\"G\"BGB \"D7\"ABc|\\n\"G\"d^cd \"Em\"BGB|\"Am\"cBc \"D7\"AFD|\"G\"DGG \"D7\"FGA|\"G\"BGG G2:|\\nP:B\\n|:B/2d/2|\"C\"gfe \"G\"dBd|\"Am\"ecA \"G\"Bcd|\"Am\"ecA \"G\"dBG|\"A7\"GAG \"D\"AFD|\\n\"C\"gfe \"G\"dBd|\"Am\"ecA \"G\"Bcd|\"C\"efg \"Am\"fag|\"D\"fdd d2:|\\n\\n\\nX: 280\\nT:Seven Stars\\n% Nottingham Music Database\\nS:Thomas Hardy Collection via Yetties, via Phil Rowe\\nM:6/8\\nK:D\\n\"D\"d2A A2F|\"G\"GAB \"D\"A3|\"G\"Bcd \"A\"efg|\"D\"fed \"A\"cBA|\\n\"D\"d2A A2F|\"G\"GAB \"D\"A3|\"G\"Bcd \"Em\"efg| [1\"A\"Adc \"D\"d3:|[2\"A\"Adc \"D\"d2||\\n|:f|\"A\"e2A A2f|\"A\"efg \"D\"f3|\"A\"efg \"D\"fed|\"A\"cec A3|\\n\"G\"BGB \"D\"AFA|\"G\"BGB \"D\"AFA|\"G\"Bcd \"Em\"efg|\"A7\"Adc \"D\"d2:|\\n\\n\\nX: 281\\nT:Sgiandubh\\n% Nottingham Music Database\\nS:Ms L Dolman, via EF\\nM:6/8\\nK:Em\\nG/2F/2|\"Em\"E2e e2B|\"G\"dBd \"D\"AFD|\"Em\"E2e e2B|\"C\"efg \"Bm7\"f2e|\\n\"Em\"E2e e2B|\"G\"dBd \"D\"AFD|\"G\"G3 \"B7\"A3|\"Em\"BGE E2\\n:: A|\"Em\"B2E EFG|\"D\"FED AFD|\"Em\"B2E EFG|\"G\"BcA \"Em\"BGE|\\n\"Em\"B2E EFG|\"D\"FED AFD|\"G\"GAB \"D\"AGF|\"Em\"BGE E2A||\\n\"Em\"B2E EFG|\"D\"FED AFD|\"Em\"B2E EFG|\"G\"BcA \"Em\"BGE|\\n\"G\"BdB \"D\"AdG|\"D\"FAd AFD|\"G\"GAB \"D\"FGA|\"Em\"BGE E2:|\\n\\n\\nX: 282\\nT:Shafters Shindig\\n% Nottingham Music Database\\nS:Chris Dewhurst 1979, via Phil Rowe\\nM:6/8\\nK:A\\n\"(E7)\"e2d |\"A\"cec A2c|\"E\"BdB G2B|\"A\"Ace \"D\"agf|\"A\"e3 \"E\"e2d|\"A\"cec A2c|\\n\"E\"BeB G2A|\"F#m\"B2B \"B7\"AGF|\"E\"E3 \"E7\"e2d|\"A\"cec A2c|\"E\"BdB G2B|\"A\"Ace \"D\"agf|\\n\"A\"e3 -e2c|\"Bm\"dfd BdB|FBF DEF|\"E\"G2B EFG|\"A\"A3 -A2E||\\n\"A\"c3 -c2E|c3 -c2E|\"A\"c2c edc|\"Bm\"B3 -B2E|\"E\"B3 -B2E|\"E\"B3 -B2c|\\n\"Bm\"d2e \"E\"fed|\"A\"c3 -c2E|c3 -c2e|\"A\"A3 -Ace|\"A7\"=g2g gfe|\\n\"D\"f3 a3|\"Dm\"=faf d2f|\"A\"eae c2e|\"Bm\"gfe \"E\"dcB|\"A\"A3 -A2||\\n\\n\\nX: 283\\nT:Shafters Shindig\\n% Nottingham Music Database\\nS:Chris Dewhurst 1979, via Phil Rowe\\nM:6/8\\nK:A\\n\"(E7)\"e2d |\"A\"cec A2c|\"E\"BdB G2B|\"A\"Ace \"D\"agf|\"A\"e3 \"E\"e2d|\"A\"cec A2c|\\n\"E\"BeB G2A|\"F#m\"B2B \"B7\"AGF|\"E\"E3 \"E7\"e2d|\"A\"cec A2c|\"E\"BdB G2B|\"A\"Ace \"D\"agf|\\n\"A\"e3 -e2c|\"Bm\"dfd BdB|FBF DEF|\"E\"G2B EFG|\"A\"A3 -A2E||\\n\"A\"c3 -c2E|c3 -c2E|\"A\"c2c edc|\"Bm\"B3 -B2E|\"E\"B3 -B2E|\"E\"B3 -B2c|\\n\"Bm\"d2e \"E\"fed|\"A\"c3 -c2E|c3 -c2e|\"A\"A3 -Ace|\"A7\"=g2g gfe|\\n\"D\"f3 a3|\"Dm\"=faf d2f|\"A\"eae c2e|\"Bm\"gfe \"E\"dcB|\"A\"A3 -A2||\\n\\n\\nX: 284\\nT:Shandon Bells\\n% Nottingham Music Database\\nS:Kevin Briggs, via EF\\nY:AB\\nM:6/8\\nK:D\\nP:A\\nB|\"D\"AFD DFA|\"D\"ded \"A\"cBA|\"Em\"BGE EGA|\"Em\"B2A \"A7\"Bcd|\\n\"D\"AFD DFA|\"D\"ded \"A\"cBA|\"Em\"Bcd \"A7\"ecA|\"D\"d3 d2:|\\nP:B\\ng|\"D\"f2d ded|\"D\"faa afd|\"A\"cAA eAA|\"A\"cAc \"A7\"efg|\\n\"D\"f2d ded|\"D\"faa afd|\"G\"Bcd \"A7\"ecA|\"D\"d3 d2:|\\n\\n\\nX: 285\\nT:Shane\\'s Fancy\\n% Nottingham Music Database\\nS:NPTB, via EF\\nY:AB\\nM:6/8\\nK:G\\nP:A\\nd|\"G\"G2G d2d|\"C\"efg \"D7\"f2(3d/2e/2f/2|\"G\"g2g \"C\"c2e|\"G\"dBG \"D7\"FED|\\n\"G\"G2G d2d|\"C\"efg \"D7\"f2(3d/2e/2f/2|\"G\"g2g \"C\"c2e|\"G\"dBG G2:|\\nP:B\\ng/2a/2|\"G\"b3 gab|\"D\"a3 def|\"Em\"g3 efg|\"Bm\"f3 Bcd|\"C\"e2g \"G/b\"d2g|\\\\\\n\"D/a\"c2g \"G\"B2g|\"Em\"BAG \"C\"DGE|\"G\"G3 G2:|\\n\\n\\nX: 286\\nT:Sheards of Foula\\n% Nottingham Music Database\\nS:Peter Kennedy, via EF\\nY:AB\\nM:6/8\\nK:G\\nP:A\\nD|\"G\"G2G G2B|\"C\"edB \"D\"A2B|\"Em\"G2G G2A|\"Em\"BAG \"D7\"E2D|\\n\"G\"G2G G2B|\"C\"edB \"D\"A2B|\"Em\"G2G GAB|\"Bm\"d3 d2:|\\nP:B\\nd|\"D7\"def \"G\"g2d|\"C\"edB \"D\"A2B|\"Em\"G2G G2A|\"Em\"BAG E3|\\n\"D7\"def \"G\"g2d|\"C\"edB \"D\"A2B|\"Em\"G2G GAB|\"Bm\"d3 d2:|\\n\\n\\nX: 287\\nT:The Old Horned Sheep or The Humours Of Donnybrook\\n% Nottingham Music Database\\nS:Trad, arr Phil Rowe\\nM:6/8\\nK:G\\n(3d/2e/2f/2|\"G\"g2G GFG|\"C\"EGG \"G\"DGG|\"G\"g2G GFG|\"A7\"EAG \"D7\"FED|\\n\"G\"g2G GFG|\"C\"EGG \"G\"DGG|\"C\"EGG \"D7\"FGA| [1\"G\"BGG G2:|\\n[2\"G\"BGG G2D|||:\"G\"Bdd dBG|Bdd d2G|\"G\"Bdd dBG|\"Am\"cBc \"D7\"A2c|\\n\"G\"Bdd dBG|\"G\"Bdd \"D7\"def|\"Em\"gfe dcB|\"Am\"ABG \"D7\"FED:|\\n\\n\\nX: 288\\nT:Shetland Boston\\n% Nottingham Music Database\\nS:Geoff Bocking, via EF\\nM:6/8\\nK:D\\nf/2g/2|\"D\"aba \"A7/e\"a2f|\"D/f+\"ded \"G\"d2B|\"D\"ABA A2F|\"Em\"A3 \"A7\"Afg|\\\\\\n\"D\"aba \"A7/e\"a2f|\\n\"D/f+\"ded \"G\"d2B|\"D\"ABA Adf|\"Em\"e3 \"A7\"efg|\"D\"aba \"A7/e\"a2f|\"D/f+\"ded \"G\"d2B|\\n\"D\"ABA A2F|\"D\"A3 \"D7\"A3|\"G\"Bcd dcB|\"D\"Adf \"Bm\"a2a|\"Em\"bag \"A7\"f2e|\\n\"D\"d3 A2F|\"D\"D3 DFA|\"D/f+\"d3 d2c|\"G\"B^AB d2B|\"A7\"ABA GFE|\"D\"D3 DFA|\\n\"Bm\"d3 d2c|\"Em\"BcB A2F|\"A7\"E3 F2E|\"D\"D3 DFA|\"D/f+\"d3 d2c|\"G\"B^AB d2B|\\n\"D7\"A3 A3|\"G\"Bcd dcB|\"D\"Adf \"Bm\"a2a|\"Em\"bag \"A7\"f2e|\"D\"d3 d2||\\n\\n\\nX: 289\\nT:New Rigged Ship\\n% Nottingham Music Database\\nS:Trad, arr Phil Rowe\\nM:6/8\\nK:D\\nA|\"D\"dcd d2f|dcd d2f|\"A\"ecA Ace|ecA ABc|\\n\"D\"dcd d2f|\"D\"dcd \"A\"ecA|\"G\"Bcd \"A7\"edc|\"D\"d3 -d2::\\nf/2g/2|\"D\"a2f a2f|\"Bm\"ded dfa|\"Em\"b2g b2g|\"A7\"efe efg|\\n\"D\"a2f a2f|\"Bm\"def \"D\"d2f|\"A7\"ecA ABc|\"D\"d3 -d2:|\\n\\n\\nX: 290\\nT:Silver Roses For June\\n% Nottingham Music Database\\nS:Chris Dewhurst 1983, via Phil Rowe\\nM:6/8\\nK:D\\n\"A7\"d2e |\"D\"fed A2d|\"G\"B2d \"D\"A2d|\"G\"Bcd \"D\"Ade|\"E7\"faf \"A\"e3|\\n\"D\"fed A2d|\"G\"B2d \"D\"A2d|\"Em\"B2d \"A7\"cde|\"D\"d3 ::\\n\"D\"ded |\"A\"cde A2e|\"D\"d2f A2f|\"E7\"e^de ef^g|\\n\"A\"a3 f2g|\"D\"aba fed|\"G\"c2B g2B|\"D\"A2d \"A\"cde|\"D\"d3 :|\\n\\n\\nX: 291\\nT:Sir Watkin\\'s Jigg\\n% Nottingham Music Database\\nS:Johnson 1750 (John Lagden), via EF\\nY:AB\\nM:6/8\\nK:G\\nP:A\\nd|\"C\"efg \"D\"afd|\"Em\"g3 \"Bm\"d3|\"C\"ecc \"G\"dBB|\"D\"cAA \"G\"G3|\\n\"G\"DGA B2G|\"G\"DGA B2G|\"G\"Bcd \"C\"c2B|\"D\"A3 -A2:|\\nP:B\\nA|\"D\"FGA AFD|\"D\"A3 \"G\"d3|\"D\"AFF \"A7\"GEE|\"D\"D3 zG/2A/2B/2c/2|\\\\\\n\"G\"d3 GA/2B/2c/2d/2|\\n\"Am\"e3 AB/2c/2d/2e/2|\"Bm\"f3 Bc/2d/2e/2f/2|\"Em\"g3 \"D\"d2c|\"G\"BGG \"D7\"cAA|\\\\\\n\"G\"G3 -G2:|\\n\\n\\nX: 292\\nT:Slashers\\n% Nottingham Music Database\\nS:FTB, via EF\\nY:AB\\nM:6/8\\nK:D\\nP:A\\nA|\"D\"ded dAF|\"Em\"ABA \"A7\"ABc|\"D\"ded dAF|\"Em\"Eee \"A7\"e2f|\\n\"D\"ded dAF|\"Em\"ABA \"A7\"Aag|\"D\"fef \"G\"dBA|\"D\"Bdd d2:|\\nP:B\\nA|\"D\"dfa afd|\"A7\"cde ecA|\"D\"dfa afd|\"D\"faa \"A7\"a2A|\\n\"D\"dfa afd|\"A7\"cde eag|\"D\"fef \"G\"dBA|\"D\"Bdd d2:|\\n\\n\\nX: 293\\nT:Smash the Windows\\n% Nottingham Music Database\\nY:AAB\\nS:EF\\nM:6/8\\nK:D\\nP:A\\n|:A|\"D\"DED F2A|\"D\"d2f \"A\"ecA|\"G\"G2B \"D/f+\"F2A|\"Em\"E2F \"A7\"GFE|\\n\"D\"DED F2A|\"Bm\"d2f \"A\"ecA|\"G\"Bgf \"A7\"edc|\"D\"d3 d2:|\\nP:B\\n|f/2g/2|\"D\"a2f d2f|\"D\"A2a agf|\"Em\"g2e c2e|\"A7\"A2g gfe|\"D\"f2d \"A7/e\"g2e|\\\\\\n\"D/f+\"a2f \"G\"bag|\\n\"D/a\"fed \"A7\"edc|\"D\"d3 \"A7\"dfg|\"D\"agf fed|\"D\"Adf agf|\"Em\"gfe edc|\\n\"A7\"Ace gfe|\"D\"fed \"A7/e\"gfe|\"D/f+\"agf \"G\"bag|\"D/a\"fed \"A7\"edc|\"D\"d3 d2|\\n\\n\\nX: 294\\nT:Soldiers Dance\\n% Nottingham Music Database\\nS:Kevin Briggs, via EF\\nY:AB\\nM:6/8\\nK:A\\nP:A\\nE|\"A\"A2A AGA|\"E7\"B2B e2c|\"A\"A2A AGA|\"Bm\"GBG \"E7\"EFG|\\n\"A\"A2A AGA|\"E\"B2B e2d|\"F#m\"cBA \"E7\"BAG|\"A\"A3 A2:|\\nP:B\\nc/2d/2|\"A\"e2e cde|\"D\"f2f f3|\"E7\"g2g efg|\"A\"ace \"D\"agf|\\n\"A\"efe cde|\"D\"fga agf|\"A/e\"edc \"E7\"BAG|\"A\"A3 A2:|\\n\\n\\nX: 295\\nT:Solomon Levi\\n% Nottingham Music Database\\nS:Trad, arr Phil Rowe\\nM:6/8\\nK:C\\nE2F |\"C\"G2G G2G|G2G G2G|\"F\"A2A A2A|A3 -A2A|\"G\"B2B B2B|B2B B2A| [1\"C\"A2G G2A|G3 :|\\n[2\"G\"G2G A2B|\"C\"c3 -c3||\"E7\"e3 Bcd|\"Am\"c3 A3|\"E7\"efe dcB|\"Am\"A6|\"D7\"d3 ABc|\\n\"G\"B3 G3|\"D7\"ded cBA|\"G7\"GAG FED|\"C\"G2G G2G|G2G G2G|\\n\"F\"A2A A2A|A3 -A2A|\"G\"B2B B2B|B2B B2A|\"G\"G2G A2B|\"C\"c3 ||\\n\\n\\nX: 296\\nT:The Spaceman\\n% Nottingham Music Database\\nS:Trad, arr Phil Rowe\\nM:6/8\\nK:G\\nD|\"G\"d2^c d2B|\"D7\"c2B c2A|\"G\"B2^A B2G|\"D\"A2F D2D|\"C\"E2G\\n%P:3\\nc2e|\"G\"d2B \"C\"G2c|\"G\"B2G \"D7\"A2F|\"G\"G3 G2D|\"G\"dBG DGB|dBG d3|\"D7\"\\n%P:3\\nA2^G A2G|A2F D3|\"G\"dBG DGB|dBG d3|\"C\"E2A \"D\"D2F|\"G\"G3 \"G7\"G3||\\n\"C\"ecG EGc|ecG e3|\"G\"dBG DGB|dBG d3|\\n\"A7\"^cAG EGA|^c2A B2c|\"D\"d3 \"A7\"^c3|\"D7\"c3 A3|\"G\"dBG DGB|\\ndBG d3|\"D7\"A2^G A2G|A2F D3|\"G\"dBG DGB|dBG d3|\"Am\"\\n%P:3\\nc2B \"D\"A2B|\"G\"G3 -G2||\\n\\n\\nX: 297\\nT:Spencefield Lane\\n% Nottingham Music Database\\nS:Chris Dewhurst 1980, via Phil Rowe\\nM:6/8\\nK:Am\\nE|\"Am\"e2d cBc|A2E A^GA|\"E\"B2E B^GB|efe dcB|\\n\"Am\"A2B cBc|\"Dm\"d2e g2f|\"Am\"e2A \"E\"AB^G|\"Am\"A3 -A2::\\nA|\"A\"e2A A^ce|\"Dm\"f2e d2c|\"G\"B2G GBd|\"C\"e2d c2B|\\n\"F\"A2F Ace|\"Dm\"d2c BAB|\"Am\"c2A \"E\"AB^G|\"Am\"A3 -A2:|\\n\\n\\nX: 298\\nT:Spider Island\\n% Nottingham Music Database\\nS:JP/AFJC Jerry Robichaud, via EF\\nM:6/8\\nK:D\\nF/2G/2|\"D\"ABA FAd|\"D\"f2d \"A7\"AFG|\"D\"ABA FAd|\"A\"c3 cAB|\"A\"c2c cBA|\\n\"Em\"g2g gfe|\"A7\"c2c cBA|\"D\"f3 \"A7\"fFG|\"D\"ABA FAd|\"D\"f2d \"A7\"AFG|\\n\"D\"ABA FAd|\"A\"c3 cAB|\"A\"c2c cBA|\"Em\"g/2a/2g/2f/2g eAB|\"A7\"ceg fce|\\n\"D\"d3 d2d|\"D\"ded c2d|\"D\"b2a \"A7\"f2d|\"D\"ded \"Bm\"c2B|\"Em\"g3 gAB|\"A\"c2c cBA|\\n\"Em\"g2g gfe|\"A7\"c2c cBA|\"D\"f3 -\"A7\"f2A|\"D\"ded c2d|\"D\"b2a \"A7\"f2d|\\\\\\n\"D\"ded \"Bm\"c2B|\\n\"Em\"g3 gAB|\"A\"c2c cBA|\"Em\"g/2a/2g/2f/2g cAB|\"A7\"ceg f2e|\"D\"d3 d2:|\\n\\n\\nX: 299\\nT:Sprig of Shillelah\\n% Nottingham Music Database\\nS:KCC p21, via EF\\nY:AB\\nM:6/8\\nK:G\\nP:A\\nD|\"G\"DGG GFG|\"D7\"AcB AGF|\"G\"Gdd \"G7\"dcB|\"C\"AcB \"D7\"AGF|\"G\"GAB \"C\"EFG|\\\\\\n\"D7\"DEF \"G\"G2:|\\nP:B\\nG|\"G\"BGB dBd|\"C\"ece \"D7\"d2c|\"G\"BGB dBd|\"C\"ece \"D7\"d2c|\"G\"BBB BAG|\\n\"D7\"AcB AGF|\"G\"Gdd \"G7\"dcB|\"C\"AcB \"D7\"AGF|\"G\"GAB \"C\"EFG|\"D7\"DEF \"G\"G2:|\\n\\n\\nX: 300\\nT:Come Up The Back Stairs\\n% Nottingham Music Database\\nS:Trad, arr Phil Rowe\\nM:6/8\\nK:G\\nD|\"G\"D2B B2A|AGF G2d|\"D\"d2F FEF|\"G\"A2G GFE|\\nD2B B2A|\"G\"AGF G2d|\"D\"d2F FEF|\"G\"G3 -G2::\\ng|\"G\"gfg bge|edB d3|\"G\"gfg \"Em\"bge|\"G\"edB \"D7\"d3|\\n\"G\"g2g gab|\"C\"e2e efg|\"D7\"d2d def|\"G\"agf g2:|\\n\\n\\nX: 301\\nT:Starry Night for a Ramble\\n% Nottingham Music Database\\nY:AABA\\nS:EF\\nM:6/8\\nK:D\\nP:A\\n|g| \"D\"f2d A2F|\"G\"G3 B2B|\"D\"A2d \"E7\"c2d|\"A7\"e3 efg|\\n\"D\"fed A2F|\"G\"G2A BcB| \"D\"A2d \"A7\"c2e|\"D\"d3 d2:|\\nP:B\\ne/2f/2|\"G\"g2g gfe|\"D\"f2f fed|\"Em\"e2e efg|\"A\"a3 a2f|\\n\"G\"gag gfe|\"D\"fgf fed|\"Em\"efe efg|\"A7\"a3 g2||\\n\\n\\nX: 302\\nT:Steamboat Quickstep\\n% Nottingham Music Database\\nS:Lesley Dolman, via EF\\nY:AB\\nM:6/8\\nK:A\\nP:A\\ne|\"A\"a2e c2A|\"A\"Ace a3|\"D\"agf \"A\"edc|\"Bm\"Bcd \"E7\"cBA|\\n\"A\"a2e c2A|\"A\"Ace a3|\"D\"agf \"A\"edc|\"E7\"edB \"A\"A2:|\\nP:B\\nB|\"A\"c2e efe|\"A\"efe c2A|\"D\"d2f fga|\"D\"fga \"E7\"f2e|\\n\"A\"c2e efe|\"A\"efe c2A|\"D\"agf \"A\"edc|\"E7\"edB \"A\"A2:|\\n\\n\\nX: 303\\nT:The Stone Court\\n% Nottingham Music Database\\nS:RSCDS 23, via EF\\nM:6/8\\nK:D\\nA|\"D\"d2d \"A7\"edc|\"D\"d2A F2A|\"D\"d2d \"A7\"edc|\"D\"d3 d2d|\"A7\"e2A ABA|\\n\"D\"f2A ABA|\"A\"c2e \"E7\"B2e|\"A7\"A3 ABc|\"D\"d2d \"A7\"edc|\"D\"d2A F2A|\\n\"D\"d2d \"A7\"edc|\"D\"d3 \"D7\"d2f|\"G\"g2e \"A7\"Beg|\"D\"f2d \"Bm\"A2F|\"Em\"ABA \"A7\"GFE|\\\\\\n\"D\"D3 \"A7\"A3|\\n\"D\"AFA d2F|\"G\"GFG \"A7\"E2G|\"D\"FAd f2F|\"A\"A3 -A2A|\"G\"B2B Bcd|\\n\"D\"A2F d2F|\"A\"E2A \"E7\"^GAB|\"A\"A3 \"A7\"A2A|\"D\"AFA d2F|\"G\"GFG \"A7\"E2G|\"D\"F2A d2e|\\n\"D7\"f3 f2f|\"G\"g2e \"A7\"Beg|\"D\"f2d \"Bm\"A2F|\"Em\"ABA \"A7\"ABc|\"D\"d3 d2||\\n\\n\\nX: 304\\nT:Stratfield Saye\\n% Nottingham Music Database\\nS:Pauline Wilson, via Phil Rowe\\nM:6/8\\nK:G\\n\"G\"g2d e2B|\"D7\"d2G AGA|\"G\"B3 d3-|\"D7\"d6|\"G\"g2d e2B|\"G\"d2G AGF|\"Em\"E6|e6|\\n\"Am\"a2e f2c|\"Em\"e2A BAB|\"Am\"c3 e3-|e3 c2B|\"A7\"A2B ^c2e|a2f efe|\"D7\"d6-|d6||\\n\"G\"g2d e2B|\"D7\"d2G AGA|\"G\"B3 d3-|d3 B2A|\"G7\"G2A B2d|\"G7\"g2e dBG|\"C\"A6-|A3 A3|\\n\"Am\"e2d e2f|\"D7\"a2g f2e|\"G\"ded B2d|\"E\"f3 -f2e|\"Am\"A2B c2d|\"D7\"e2g fga|\"G\"g6-|\\\\\\ng6||\\n\\n\\nX: 305\\nT:Summer Lightning\\n% Nottingham Music Database\\nS:John Goodacre 1984, via Phil Rowe\\nM:6/8\\nK:D\\n\"A7\"F2E F2G|\"D\"A2G F3|\"A7\"F2E F2G|\"Em\"E3 -\"A7\"E3|\"A7\"F2E F2G|\"D\"A2G F3|\\\\\\n\"A7\"EGE C2E|\"D\"D3 -D3::\\n\"A7\"GcG cGc|\"D\"ABc dAF|\"A7\"GcG cGc|\"A7\"ABc \"D\"d3|\\n\"A7\"GcG cGc|\"D\"ABc dAF|\"Em\"BGE \"D\"AFD| [1\"A7\"GEC \"D\"F3:|[2\"A7\"GEc \"D\"d3||\\n\\n\\nX: 306\\nT:Swallowtail\\n% Nottingham Music Database\\nS:EF\\nY:AB\\nM:6/8\\nK:Em\\nP:A\\nE/2F/2|\"Em\"GEE BEE|\"Em\"GEE BAG|\"D\"FDD ADD|\"D\"d^cd AGF|\\n\"Em\"GEE BEE|\"Em\"GEE B2^c|\"D\"d^cd AGF|\"Em\"GEE E2:|\\nP:B\\nB|\"Bm\"B^cd \"Em\"e2f|\"Em\"e2f edB|\"Bm\"B^cd \"Em\"e2f|\"Em\"edB \"D\"d3|\\n\"Bm\"B^cd \"Em\"e2f|\"Em\"e2f edB|\"D\"d^cd AGF|\"Em\"GEE E2:|\\n\\n\\nX: 307\\nT:Sweets of May\\n% Nottingham Music Database\\nY:AABBCC\\nS:Kevin Briggs, via EF\\nM:6/8\\nK:G\\nP:A\\n|:d/2c/2|\"G\"B2G \"D7\"AFD|\"G\"GAG \"D7\"Gdc|\"G\"B2G GAB|\"C\"cBc \"D7\"d2c|\\n\"G\"B2G \"D7\"AFD|\"G\"GAG \"D7\"Gdc|\"G\"B2G \"D7\"AFD|\"G\"G3 -G2:|\\nP:B\\n|:A|\"Am\"ABA A2G|\"Em\"E2F G2\"E\"^G|\"Am\"ABA c2d|\"Dm\"e2d \"E7\"c2B|\\n\"Am\"ABA A2G|\"Em\"E2F G2\"E\"^G|\"Am\"A2A \"G\"BAG|\"Am\"A3 -A2:|\\nP:C\\n|:(3A/2B/2c/2|\"D\"d3 dcd|\"D\"D3 DED|\"Am\"c3 cBc|\"D7\"D3 DEF|\"G\"G2D \"D7/a\"G2A|\\\\\\n\"G/b\"B2G \"C\"B2c|\"D7\"d2D DEF|\"G\"G3 -G2:|\\n\\n\\nX: 308\\nT:Swimming In The Gutter\\n% Nottingham Music Database\\nS:Trad, arr Phil Rowe\\nM:6/8\\nK:Gm\\n(3A/2B/2^c/2|:\"Dm\"d3 AFA|d3 AFA|\"Dm\"d^cd fed|\"Gm\"eba \"A7\"gfe|\\n\"Dm\"d3 AFA|d3 AFA|\"Gm\"def \"A7\"gag| [1\"Dm\"fdd d3:|[2\"Dm\"fdd \"C7\"dcB||\\n|:\"F\"Acf fef|ac\\'a fcf|\"Bb\"dbd \"F\"cac|\"Gm\"Bag \"C7\"ecB|\\n\"F\"Acf fef|ac\\'a fcf|\"Bb\"dbd \"F\"cac| [1\"C7\"ede \"F\"fcB:|[2\"C7\"ede \"F\"f3||\\n\\n\\nX: 309\\nT:Swine Jig\\n% Nottingham Music Database\\nS:Trad, arr Phil Rowe\\nM:6/8\\nK:G\\ndc|\"G\"B2d GAB|\"C\"c2e \"D7\"ABc|\"G\"B2d BAG|\"D7\"A3 -Adc|\\n\"G\"B2d GAB|\"C\"c2e gfe|\"A7\"e2d ^cde|\"D\"d3 -d::\\ngf|\"C\"e2c e2c|\"C\"cde \"G\"d3|Bcd c2B|\"D7\"A3 -Adc|\\n\"G\"B2d GAB|\"C\"c2e \"Am\"ABc|\"D\"B2c \"D7\"ABA|\"G\"G3 -G:|\\n\\n\\nX: 310\\nT:The Sylph\\n% Nottingham Music Database\\nS:FTB, via EF\\nM:6/8\\nK:D\\nB|\"D\"AFA dfa|\"D\"agf \"A7\"e2g|\"D\"fag fed|\"A7\"cde e2A|\\n\"D\"AFA dfa|\"D\"agf \"A7\"efg|\"D\"fad \"A7\"eac|\"D\"ded d2:|\\nE|\"D\"DFA \"G\"dcB|\"D\"AGF E2D|\"D\"FAD FAD|\"Em\"EFE \"A7\"EFG|\\n\"D\"DFA \"G\"dcB|\"G\"BAG \"A7\"FED|\"D\"fad \"A7\"eac|\"D\"ded d2:|\\n\\n\\nX: 311\\nT:Tam\\'s Hunting Horn\\n% Nottingham Music Database\\nS:AA, via EF\\nY:AB\\nM:6/8\\nK:C\\nP:A\\n|:(3G/2G/2G/2|\"C\"ceG ceG|\"C\"c2e g2g|\"F\"a2a \"C\"g2e|\"Dm\"d3 -d2G|\\n\"G\"BdG BdG|\"G7\"B2d f2f|\"G7\"g2f e2d| [1\"C\"e3 \"G7\"e2:|[2\"C\"c3 c2||\\nP:B\\n|:d/2c/2|\"G7\"BGG d2B|\"C\"cGG e2c|\"F\"fcA cfa|\\n\"G7\"g3 -g2G|\"C\"gec gec|\"C\"G2c cdc|\"G7\"B2G GBd|\"C\"c3 c2:|\\n\\n\\nX: 312\\nT:Down the Tannoch Road\\n% Nottingham Music Database\\nS:AA, via EF\\nY:AB\\nM:6/8\\nK:D\\nP:A\\nd|\"D\"AFG A2d|\"G\"c2B B2B|\"A7\"BEF G2c|\"D\"B2A \"A7\"A2A|\\n\"D\"AFG A2d|\"Em\"e2B Bed|\"A7\"c2B ABc|\"D\"d3 d2:|\\nP:B\\ne|\"D\"f2d Adf|\"Em\"g2e \"A7\"Ace|\"D\"f2d Adf|\"E7\"efd \"A7\"cBA|\\n\"D\"f2d Adf|\"Em\"g2e \"A7\"Ace|\"D\"faf \"A7\"gec|\"D\"edd d2:|\\n\\n\\nX: 313\\nT:Scarce O\\' Tatties\\n% Nottingham Music Database\\nS:MacLeod, via Phil Rowe\\nM:6/8\\nK:Am\\n\"Am\"Aee efg|\"Em\"edB dBG|\"Am\"Aee efg|\"Em\"edB \"Am\"A3|\\n\"Am\"aAA \"G\"gAA|\"F#m\"fAA \"Em\"eAA|\"Am\"Aee efg|\"Em\"edB \"Am\"A3::\\n\"Am\"aeg a2e|\"Em\"g2f \"Am\"eAA|\"Am\"aeg a2e|\"Em\"g2f e3|\\n\"Am\"eee A2A|\"D\"dff fee|\"Am\"Aee efg|\"Em\"edB \"Am\"A3:|\\n\\n\\nX: 314\\nT:Tenpenny Bit\\n% Nottingham Music Database\\nS:EF\\nY:AB\\nM:6/8\\nK:Am\\nP:A\\nc/2d/2|\"Am\"eAA eAA|\"G\"BAB GBd|\"Am\"eAA eAA|\"G\"de^f gfg|\\n\"Am\"eAA eAA|\"G\"BAB GBd|\"C\"\"Am\"de^f \"G/b\"\"G\"gBB|\"Am\"\"F\"BAA A2:|\\nP:B\\nB|\"Am\"A2a aga|\"G\"bge dBG|\"Am\"\"F\"A2a aga|\"G\"bge g3|\\n\"Am\"A2a aga|\"G\"bge dBd|\"C\"\"F\"edB \"G/b\"\"F\"gBB|\"Am\"\"G\"BAA A2:|\\n\\n\\nX: 315\\nT:Terry Teehan\\'s\\n% Nottingham Music Database\\nS:Trad, arr Phil Rowe\\nM:6/8\\nK:D\\n\"Em\"e3 B2A|GFE B2E|\"D\"FED A2A|d2D A2D|\"Em\"e3 B2A|GFE B2E|\"D\"FED F2A|\"Em\"F2E E3\\\\\\n:|\\n\"Em\"B2e ede|\"D\"f2a afa|\"Bm\"baf a2f|\"D\"e2d B2A|\"Em\"B2e ede|\\n\"D\"f2a afa|\"Bm\"baf a2f|\"Em\"e3 e2d|\"Em\"B2e ede|\"D\"f2a afa|\"Bm\"baf a2f|\\n\"D\"e2d B2A|\"D\"faf f2e|\"Bm\"ded B2A|\"D\"FED F2A|\"Em\"F2E E3||\\n\\n\\nX: 316\\nT:Teviot Bridge\\n% Nottingham Music Database\\nY:AAB\\nS:Athole p 134, via EF\\nM:6/8\\nK:A\\nP:A\\n|:f|\"A\"ecA E2A|\"D\"F2A \"A\"E2A|\"A\"EFE E2c|\"Bm\"d2c \"E7\"B2f|\\n\"A\"ecA E2A|\"D\"F2A \"A\"E2c|\"D\"d2f \"A\"ecA|\"E7\"B3 \"A\"A2:|\\nP:B\\n|f|\"A\"ecA Ace|\"D\"fgf fga|\"A\"ecA AcA|\"E7\"BGE E2f|\\n\"A\"ecA Ace|\"D\"agf \"A\"edc|\"D\"d2f \"A\"ecA|\"E7\"B3 \"A\"A2f|\\n\"A\"ecA Ace|\"D\"fgf fga|\"A\"ecA AcA|\"E7\"BGE E2f|\\n\"A\"ece \"D\"fdf|\"D\"agf \"A\"edc|\"D\"dfa \"A\"ecA|\"E7\"B3 \"A\"A2||\\n\\n\\nX: 317\\nT:The Wonder\\n% Nottingham Music Database\\nS:Jimmy MacKay, via EF\\nY:AB\\nM:6/8\\nK:A\\nP:A\\nE|\"A\"AAA cAA|\"D\"dBB \"A\"cAa|\"A\"efe edc|\"Bm\"cBB \"E7\"B2E|\\n\"A\"AAA cAA|\"D\"dBB \"A\"cAa|\"D\"efe \"E7\"e2d|\"A\"cAA A2:|\\nP:B\\ne|\"A\"eee \"D\"fga|\"A\"eee \"D\"fga|\"A\"efe edc|\"Bm\"Bbb \"E7\"b3|\\n\"A\"eee \"D\"fga|\"A\"eee \"D\"fga|\"A\"efe \"E7\"e2d|\"A\"cAA A2:|\\n\\n\\nX: 318\\nT:Thursday Night\\n% Nottingham Music Database\\nS:EF\\nY:AB\\nM:6/8\\nK:A\\nP:A\\nE|\"A\"A2E A2c|\"A\"e2e ece|\"D\"fga \"A/c+\"e2c|\"Bm\"e3 \"E\"efg|\\n\"D\"agf d2f|\"A\"fec A2e|\"Bm\"efe \"E7\"dcB|\"A\"A3 A2:|\\nP:B\\n(3A/2c/2e/2|\"A\"a2e g2e|\"A\"fec \"E7\"Ace|\"A\"a2e g2e|\"Bm\"fec \"E7\"B3|\\n\"A\"\"C#m\"a2e g2e|\"A\"fec Acd|\"Bm\"efe \"E7\"dcB|\"A\"A3 A2:|\\n\\n\\nX: 319\\nT:Tobin\\'s Favourite\\n% Nottingham Music Database\\nS:Trad, arr Phil Rowe\\nM:6/8\\nK:D\\nFE|\"D\"D3/2F/2A d3/2c/2d|\"A7\"e3/2c/2A c3/2d/2e|\"D\"f3/2e/2f \"G\"g3/2f/2g|\\\\\\n\"A\"e3/2c/2A \"A7\"G3/2F/2E|\\n\"D\"D3/2F/2A d3/2c/2d|\"A7\"e3/2c/2A c3/2d/2e|\"D\"f/2g/2af \"A7\"g3/2e/2c|\\\\\\n\"A7\"e3/2d/2c \"D\"d::\\nfe|\"D\"d3/2f/2a a3/2g/2f|\"A\"e/2f/2ge \"A7\"e3/2f/2g|\"D\"f3/2e/2f \"G\"g3/2f/2g|\\\\\\n\"A\"e3/2c/2A \"A7\"G3/2F/2E|\\n\"D\"D3/2F/2A d3/2c/2d|\"A7\"e3/2c/2A c3/2d/2e|\"D\"f/2g/2af \"A7\"g3/2e/2c|\\\\\\n\"A7\"e3/2d/2c \"D\"d:|\\n\\n\\nX: 320\\nT:Tripping Upstairs\\n% Nottingham Music Database\\nS:Trad, arr Phil Rowe\\nM:6/8\\nK:D\\nA|:\"D\"FAA \"G\"GBB|\"D\"FAd fed|\"A7\"cBc ABc|\"D\"dfe \"G\"dcB|\\n\"D\"FAA \"G\"GBB|\"D\"FAd fed|\"A7\"cBc ABc|\"D\"dfe d3::\\n\"Bm\"dBB fBB|dBd fed|\"A\"cAA eAA|cBc edc|\\n\"Bm\"dBB fBB|dBd fed|\"A7\"cBc ABc|\"D\"dfe d3:|\\n\\n\\nX: 321\\nT:Turnpike Side\\n% Nottingham Music Database\\nS:Trad, arr Phil Rowe\\nM:6/8\\nK:D\\nA|\"D\"d2d \"A\"c2A|\"G\"BdB \"D\"AGF|\"G\"G2e \"D\"F2d|\"Em\"E2d \"A\"cBc|\\n\"D\"d2d \"A\"c2A|\"G\"BdB \"D\"AGF|\"Em\"G2e \"D\"F2d|\"A\"cBc \"D\"d2::\\nA|\"D\"d2f a2b|afd a2f|\"A\"A2c e2f|ecA e2c|\\n\"D\"d2f a2b|\"D\"afd \"Bm\"a2f|\"Em\"gbg \"D\"faf|\"A\"edc \"D\"d2:|\\n\\n\\nX: 322\\nT:Wakefield Hunt\\n% Nottingham Music Database\\nS:Thompson 1779, via Phil Rowe\\nM:6/8\\nK:G\\nB2c |:\"G\"d3 B2c|dBG E2D|\"C\"EFG \"G\"D2B|\"Am\"c2B \"D7\"A2G|\\n\"G\"d3 B2c|dBG E2D|\"C\"EFG \"G\"D2c|\"D7\"BcA \"G\"G3::\\n\"G\"dBG \"Am\"ecA|\"G\"dBG E2D|\"C\"EFG \"G\"D2B|\"Am\"c2B \"D7\"A2G|\\n\"G\"dBG \"Am\"ecA|\"G\"dBG E2D|\"C\"EFG \"G\"D2c|\"D7\"BcA \"G\"G3::\\n\"G\"D2D \"C\"E2E|\"G\"D2B c2B|\"Am\"Ace \"G\"dBG|\"D7\"F2G A3|\"G\"D2D \"C\"E2E|\"G\"D2B c2B|\\\\\\n\"Am\"Ace dec|\"D7\"BcA \"G\"G3:|\\n\\n\\nX: 323\\nT:Walking To Heel\\n% Nottingham Music Database\\nS:John Goodacre 1985, via Phil Rowe\\nM:6/8\\nK:D\\n\"D\"d2A -\"A7\"A2F-|\"D\"F2E D3|\"D\"DEF \"A7\"E2D|\"D\"DEF \"A7\"E2B/2c/2|\"D\"d2A -\"A7\"A2F-\\\\\\n|\"D\"F2E D3|\"Em\"EFG \"A7\"F2E|\"D\"D3 D3::\\n\"D\"A3 \"A7\"G3|\"D\"FGF \"A7\"E3|\"D\"A2G FGA|\"G\"B2G -GFE|\"D\"A3 \"A7\"G3|\"D\"FGF \"A7\"E3|\\\\\\n\"Em\"B2G -\"A7\"GEC|\"D\"D3 D3:|\\n\\n\\nX: 324\\nT:The Wandle\\n% Nottingham Music Database\\nS:Pauline Wilson, via Phil Rowe\\nM:6/8\\nK:G\\n\"G\"d2B \"Em\"e2B||\"G\"ded BGE|D6|\"Am\"c2A \"D\"d2B|\"Am\"c2A \"D\"d2B|\"A7\"A^GA B2^c|\\\\\\n\"D7\"d6|\\n|\"G\"ded BGE|D6|\"Am\"c2A \"D\"d2B|\"Am\"c2A d2c|\"G\"BdB \"Em\"G2B|\"Am\"ABA \"D7\"DEF|\"G\"G6\\\\\\n||\\n\"C\"g3 -g2f|g2f efe|\"G\"d2e d2c|B3 -B2B|\"Am\"c2d c2B|\"D7\"A3 -A2A|\"G\"d2e d2B|\\\\\\n\"G7\"G3 -GBd|\\n\"C\"g3 -g2f|g2f efe|\"G\"d2e d2c|\"G\"B6|\"Am\"cdc A2B|\"D7\"c2d e2f|\"G\"g2d \"D7\"B2d|\\\\\\n\"G\"G6||\\n\\n\\nX: 325\\nT:Jig from the Water Music\\n% Nottingham Music Database\\nY:AABBCCDD\\nS:G F Handel, via EF\\nM:6/8\\nK:G\\nP:A\\n|:D|\"G\"G2B \"D7\"A2c|\"G\"Bcd \"D7\"G2A|\"G\"Bcd \"C\"cde|\"D\"d3 d2d|\\n\"C\"e2A \"D7\"ABc|\"G\"d2G GAB|\"C\"cdc \"G\"BAB|\"D\"A3 A2:|\\nP:B\\n|:A|\"Am\"A2A A2B|\"Am\"cde A2c|\"Am\"e2e \"D7\"e2f|\"G\"g2G \"D7\"G2A|\\n\"G\"BAG \"C\"c3-|\"Am\"cBA \"D7\"d2c|\"G\"BcB \"D7\"AGA|\"G\"G3 G2:|\\nK:Bb\\nP:C\\n|:d|\"Gm\"g2G g2G|\"Gm\"gab g2f|\"Cm\"edc \"D7\"BcA|\"Gm\"Bcd GAB|\\n\"Cm\"cde \"F\"ABc|\"Bb\"F2b \"Eb\"a2g|\"Cm\"fed \"F7\"cBc|\"Bb\"B3 B2:|\\nP:D\\n|:f|\"Bb\"b2B b2B|\"F\"ABc F2d|\"Gm\"g2G g2G|\"D7\"^FGA D2d|\\n\"Cm\"edc \"Gm\"BAG|\"D\"^f=ef \"Cm\"g=f_e|\"D7\"dcB AGA|\"Gm\"G3 G2:|\\n\\n\\nX: 326\\nT:The Weaver and His Wife\\n% Nottingham Music Database\\nS:AA, via EF\\nY:AB\\nM:6/8\\nK:A\\nP:A\\nF|:\"A\"E2E EAB|\"A\"c3 A3|\"A\"c3 A2c|\"Bm\"edc \"E7\"B3|\"E7\"E2E EBc|\\n\"E7\"d3 B3|\"E7\"E2e dcB|[1\"A\"ABA \"E7\"AGF:|[2\"A\"A3 A3||\\nP:B\\n\"A\"EAc e3|\"A\"EAe c3|\"A\"EAc edc|\"Bm\"d3 -dBc|\\n\"E7\"ded BdB|\"E7\"\"F#m\"G3 \"D\"\"Bm\"F3|\"E7\"E2e dcB|[1\"A\"ABA \"E7\"AGF:|[2\"A\"A3 A2||\\n\\n\\nX: 327\\nT:The Weaver and His Wife\\n% Nottingham Music Database\\nS:Andrew Rankine, via EF\\nY:AB\\nM:6/8\\nK:A\\nP:A\\n|:E|\"A\"E2E EAB|\"A\"c3 A3|\"A\"c3 A2c|\"F#m\"edc \"Bm\"B3|\"E7\"E2E EBc|\"E7\"d3 B3|\\\\\\n\"E7\"E2e dcB| [1\"A\"A3 A2:|[2\"A\"A3 -A2G/2F/2||\\nP:B\\n|\"A\"EAc e3|\"A\"EAe c3|\"A\"EAc edc|\"E\"d3 -d2c/2d/2|\"E\"ded BdB|\\n\"E\"G3 F3|\"E\"E2e dcB|\"A\"A3 -\"E7\"A2G/2F/2|\"A\"EAc e3|\"A\"EAe c3|\"A\"EAc edc|\\n\"E\"d3 -d2c/2d/2|\"E\"ded BdB|\"F#m\"G3 \"Bm\"F3|\"E7\"E2e dcB|\"A\"A3 -A2||\\n\\n\\nX: 328\\nT:Wellington\\'s Advance\\n% Nottingham Music Database\\nS:Trad, arr Phil Rowe\\nM:6/8\\nK:Am\\nE|\"Am\"EAA A^GA|cBA c2d|\"C\"efe e^fg|\"G\"dBG G^FG|\\n\"Am\"EAA A^GA|\"Am\"cBA c2d|\"E7\"efe dcB|\"Am\"cAA A2::(3e/2^f/2g/2|\\n\"Am\"aee aee|aed cBA|\"G\"BAB g^fe|dBG G^FG|\\n\"Am\"eaa a^ga|\"C\"egg g^fg|\"E7\"efe dcB|\"Am\"cAA A2:|\\n\\n\\nX: 329\\nT:When Daylight Shines\\n% Nottingham Music Database\\nY:AABBCC\\nS:Kevin Briggs, via EF\\nM:6/8\\nK:G\\nP:A\\n|:d|\"G\"gfe dcB|\"D7\"d2c A2B|\"Am\"cBc \"D7\"e2d|\"G\"B3 GBd|\\n\"G\"gfe dcB|\"D7\"d2c A2B|\"Am\"cBc \"D7\"e2F|\"G\"G3 -G2:|\\nP:B\\n|:D|\"G\"G2A B2c|\"G\"d3 B2d|\"C\"e2d \"D7\"c2d|\"G\"B3 G2D|\"G\"G2A B2c|\"G\"d3 g2g|\\\\\\n\"D7\"fed cBA|\"G\"G3 -G2:|\\nP:C\\n|:d|\"G\"dcB BAG|\"D7\"F2A e2c|\"G\"ded \"D7\"c2d|\"G\"B3 GBd|\\n\"G\"dcB BAG|\"D7\"F2A e2c|\"Em\"d2B \"D7\"dcA|\"G\"G3 -G2:|\\n\\n\\nX: 330\\nT:Irish Whiskey\\n% Nottingham Music Database\\nS:Trad, arr Phil Rowe\\nM:6/8\\nK:G\\nB|\"G\"G3 \"C\"g2e|\"G\"dBG \"D\"AFD|\"G\"G3 \"C\"g2e|\"G\"dBG \"D\"A2B|\\n\"G\"G3 \"C\"g2e|\"G\"dBG GAB|\"C\"cde \"G\"dcB|\"D7\"cBA \"G\"G2::\\nB|\"Em\"eBe gbg|eBe gbg|\"Em\"eBe \"Bm\"g2a|\"Em\"bag \"D\"agf|\\neBe gbg|\"Em\"eBe \"Bm\"g2a|\"Em\"bag \"D\"agf| [1\"Em\"e3 -e2:|[2\"Em\"e3 \"D7\"d2||\\n\\n\\nX: 331\\nT:Whitby Workshop\\n% Nottingham Music Database\\nS:Gordon Tyrall via Jacquie \\\\& Ellen\\nM:6/8\\nK:Am\\n\"Am\"ABA e2d|e^fg e2d|\"G\"B2G GBG|\"G\"dBG \"E7\"B2e|\\n\"Am\"ABA e2d|e^fg e2d|e2d g2\"G\"G|\"Am\"BAA A3||\\n\"Am\"aba g2e|edg e2d|\"G\"B2G GBG|\"G\"dBG B2d|\\ngag e2d|\"G\"dBg \"E7\"e2d|e2d g2\"G\"G|\"Am\"BAA A3||\\n\"Am\"AAA eAe|\"Am\"AgA eAd|\"G\"B2G GBG|\"G\"dBG G2e|\\n\"Am\"AAA eAe|\"Am\"AgA eAd|e2d g2\"G\"G|\"Am\"BAA A3||\\n\"Am\"a2a \"Em\"egg|\"D\"^fdd e2f|\"G\"g2g egg|\"Am\"e2A \"G\"BGG|\\n\"Am\"AAA eAe|\"Am\"AgA eAd|e2d g2\"G\"G|\"Am\"BAA A3||\\n\\n\\nX: 332\\nT:Whose\\n% Nottingham Music Database\\nS:Country Dance Manual, via EF\\nY:AB\\nM:6/8\\nK:G\\nP:A\\n(3D/2E/2F/2|\"G\"G2G \"D7\"FEF|\"G\"G3 D2D|\"C\"E2E c2B|\"D\"A3 A2D|\"C\"E2c cBc|\\\\\\n\"G\"d2B \"Em\"G2E|\"Am\"D2c \"D7\"B2A|\"G\"G3 G2:|\\nP:B\\nB/2c/2|\"G\"d2d ded|\"A7\"^c3 A2B|\"D7\"c2c cdc|\"G\"B3 Bcd|\"C\"e2c \"D7\"Ace|\\\\\\n\"G\"d2B \"Em\"G2E|\"Am\"D2c \"D7\"B2A|\"G\"G3 G2:|\\n\\n\\nX: 333\\nT:Wideford Hill\\n% Nottingham Music Database\\nS:Trad, arr Phil Rowe\\nM:6/8\\nK:A\\nE|\"A\"A,B,A, C2E|\"D\"DED F2A|\"A\"EFE \"E7\"A2B|\"A\"c3 \"A7\"ABc|\"D\"d2F A2d|\\n\"A\"c2E A2c|\"B7\"BcB AGF|\"E7\"EFE DCB,|\"A\"A,B,A, C2E|\"D\"DED F2A|\\n\"A\"EFE \"E7\"A2B|\"A\"c3 \"A7\"ABc|\"D\"d2F A2d|\"A\"c2E A2c|\"E7\"B2E G2B|\"A\"A3 -A2e||\\n\"A\"a2e \"D\"faf|\"A\"e2c ABc|\"E7\"d2B \"A\"cec|\"E7\"B2G E2e|\"A\"a2e \"D\"faf|\\n\"A\"e2c \"F#m\"ABc|\"E7\"d2E G2B|\"A\"A3 A2e|\"A\"a2e \"D\"faf|\"A\"e2c ABc|\"Bm\"d2B \"A\"cec|\\n\"E7\"B2G E3|\"D\"FGA \"E\"GAB|\"F#m\"Aag \"E7\"fed|\"A\"cAc \"E7\"BGB|\"A\"A3 -A2||\\n\\n\\nX: 334\\nT:The Widow Magee\\n% Nottingham Music Database\\nS:Trad, arr Phil Rowe\\nM:6/8\\nK:G\\nD|\"G\"GAG \"C\"g2e|\"G\"dBG A2G|\"Am\"E2A ABc|\"Am\"BAG \"D7\"E2D|\\n\"G\"GAG \"C\"g2e|\"G\"dBG Bcd|\"C\"efg \"G\"dBd|\"D7\"cBA \"G\"G2:|\\nd|\"C\"e2e \"G\"d2B|\"Em\"g2g \"Bm\"f2d|\"Em\"gag \"Bm\"f2d|\"A7\"e3 \"D7\"d2d|\"C\"e2e \"G\"d2B|\\\\\\n\"Em\"g2g \"Bm\"f2d|\\n\"Em\"g2g \"A7\"f2e|\"D7\"ded cBA|\"G\"GAG \"C\"g2e|\"G\"dBG A2G|\"Am\"E2A ABc|\\n\"Am\"BAG \"D7\"E2D|\"G\"GAG \"C\"g2e|\"G\"dBG Bcd|\"C\"efg \"G\"dBd|\"D7\"cBA \"G\"G2||\\n\\n\\nX: 335\\nT:My Wife\\'s A Wanton Wee Thing\\n% Nottingham Music Database\\nS:For Pat\\'s Tradition, via Phil Rowe\\nM:6/8\\nK:D\\nf/2e/2|\"D\"d2A dfe|d3 A2B|\"C\"=cdc cGE|=c3 E2^c|\\n\"D\"d2A dfe|\"D\"d3 \"A7\"A2G|\"D\"FDF \"C\"E=CE|\"D\"D3 -D2::\\nF/2G/2|\"D\"ABA FDF|\"Am\"A3 =c3|\"C\"G=cG ECE|\"G\"G3 B3|\\n\"D\"AdA FDF|\"D\"A3 \"A7\"g3|\"D\"fdf \"A7\"ece|\"D\"d3 -d2f/2g/2||\\n\"D\"aba fdf|aba fdf|\"C\"gag e=ce|gag e=ce|\\n\"D\"aba fdf|\"D\"aba \"G\"gab|\"D\"fga \"A7\"gec|\"D\"d3 -d2:|\\n\\n\\nX: 336\\nT:Cleveland Park\\n% Nottingham Music Database\\nS:Wolfstone, Arr EF/HJF\\nM:6/8\\nK:Dm\\nAde fed|Bde fed|=Bde fed|ege fed|\\nAde fed|Bde fed|ege c2g|gfe dz2:|\\ndfa d\\'af|gab afd|Bdf Adf|fed ^cde|\\ndfa d\\'af|gab afd|Bdf Aef|ed^c dz2|\\ndfa d\\'af|gab afd|Bdf Adf|fed ^cde|\\nAde fed|Bde fed|ege c2g|gfe dz2||\\n\\n\\nX: 337\\nT:Banks of the Allan\\n% Nottingham Music Database\\nS:Wolfstone, Arr EF/HJF\\nM:6/8\\nK:D\\n\"D\"F3 \"A7/e\"FED|\"D/f+\"FAA A2d|\"G\"Bdd \"D/f+\"Add|\"G\"Bdd \"A7\"Add|\\n\"D\"F3 \"A7/e\"FED|\"D/f+\"FAA A2d|\"G\"BdB \"D/f+\"AFD|\"Em\"FEE \"A\"E3:|\\n\"D\"f3 fed|\"Bm\"faa \"A\"a2f|\"D/g\"fgf fed|\"Em\"gbb \"A7\"bag|\\n\"D\"fga \"A/c+\"eff|\"Bm\"dff fed|\"G\"BdB \"D/f+\"AFD|\"Em\"FEE \"A\"E3:|\\n\\n\\nX: 338\\nT:Kenny Gilles of Portnalong\\n% Nottingham Music Database\\nS:Wolfstone, Arr EF/HJF\\nY:AABCCD\\nM:6/8\\nK:A\\nP:A\\n|:\"A\"A3 e2c|\"A\"efa f2e|\"D\"faa \"A\"AAA|\"D\"fec \"E\"cBB|\\n\"A\"\"F#m\"A3 e2c|\"A\"efa f2e|\"D\"eff \"A\"fec|\"E\"BAA \"A\"A3:|\\nP:B\\n\"A\"a3 AAA|\"A\"cea fee|\"D\"faa \"A\"AAA|\"D\"fec \"E\"cBB|\"A\"a3 AAA|\\n\"A\"cea fee|\"D\"eff \"A\"fec|\"E\"BAA \"A\"A3|\"A\"a3 AAA|\"A\"cea fee|\"D\"faa \"A\"AAA|\\n\"D\"fec \"E\"cBB|\"F#m\"A3 e2c|\"A\"efa f2e|\"D\"eff \"A\"fec|\"E\"BAA \"A\"A3|\\nP:C\\n|:\"A\"AAA cBc|\"A\"AeA fee|\"D\"faa \"A\"AAA|\"D\"fec \"E\"cBB|\\n\"A\"\"F#m\"AAA cBc|\"A\"AeA fee|\"D\"eff \"A\"fec|\"E\"BAA \"A\"A3:|\\nP:D\\n\"A\"c2e aga|\"A\"Ace fee|\"D\"faa \"A\"AAA|\"D\"fec \"E\"cBB|\\n\"A\"c2e aga|\"A\"Ace fee|\"D\"eff \"A\"fec|\"E\"BAA \"A\"A3|\\n\"A\"c2e aga|\"A\"Ace fee|\"D\"faa \"A\"AAA|\"D\"fec \"E\"cBB|\\n\"F#m\"AAA cBc|\"A\"AeA fee|\"D\"eff \"A\"fec|\"E\"BAA \"A\"A2||\\n\\n\\nX: 339\\nT:Art Wooten\\'s Quadrille\\n% Nottingham Music Database\\nS:Trad, arr Phil Rowe\\nM:6/8\\nK:Bb\\nB,|\"Bb\"B,DF BAB|\"Bb\"BdB \"F7\"F2E|\"Bb\"DFB \"D7\"AcB|\"G7\"G3 -\"Cm\"GcB|\"F7\"AFA cAc|\\ne2c A2G|\"F7\"FAc ed^c|\"Bb\"d3 \"F7\"d2B,|\"Bb\"B,DF BAB|\"Bb\"BdB \"F7\"F2E|\\\\\\n\"Bb\"DFB \"D7\"AcB|\\n\"Eb\"G3 -GcB|\"F7\"AFA cAc|e2c A2G|\"F7\"FAc ecA|\"Bb\"B3 B2f||\\n\"Eb\"g2g/2^f/2 \"Ed\"g2g/2=e/2|\"Bb\"fdB \"F7\"F2E|\"Bb\"DFB \"Bb7\"AcB|\"Eb\"G3 -G3|\\\\\\n\"Cm\"g3 g2a|\\ngec A2G|\"F7\"FAc edc|\"Bb7\"d3 -d2f|\"Eb\"g2g/2^f/2 \"Ed\"g2g/2=e/2|\\\\\\n\"Bb\"fdB \"F7\"F2E|\\n\"Bb7\"DFB \"D7\"AcB|\"Eb\"G3 -G3|\"Cm\"g3 g2a|gec A2G|\"F7\"FAc ecA|\"Bb\"B3 -B3||\\n\\n\\nX: 340\\nT:Christmas Day in da Morning\\n% Nottingham Music Database\\nS:Trad, arr Phil Rowe\\nM:6/8\\nK:D\\n\"D\"f2d f3|\"A\"e2d c2A|\"G\"B2G d2c|BG2 G3|\"A\"e2f g2f|e2d c2B|\\n\"A\"ABA ABc|\"D\"d3 d2e|\"D\"fa2 a3|\"A\"e2d c2A|\"G\"B2G d2c|\\nBG2 G3|\"A\"e2f g2f|e2d c2B|\"A\"ABA ABc|\"D\"d3 d3\\n|:\"Em\"e3 (4edef|g3 B3|\"D\"A2A A2A|B2=c d2B|\"Em\"e3 (4edef|g3 B3|\"D\"A2e dB2|\\\\\\n\"Am\"A3 A3:|\\n'"
            ]
          },
          "execution_count": 3,
          "metadata": {},
          "output_type": "execute_result"
        }
      ],
      "source": [
        "input_text"
      ]
    },
    {
      "cell_type": "code",
      "execution_count": 4,
      "metadata": {
        "colab": {
          "base_uri": "https://localhost:8080/"
        },
        "id": "opHPnNJdtUKF",
        "outputId": "6ecde3bd-ba95-4330-a16f-f04e93861d63"
      },
      "outputs": [
        {
          "data": {
            "text/plain": [
              "129665"
            ]
          },
          "execution_count": 4,
          "metadata": {},
          "output_type": "execute_result"
        }
      ],
      "source": [
        "len(input_text)"
      ]
    },
    {
      "cell_type": "code",
      "execution_count": 5,
      "metadata": {
        "colab": {
          "base_uri": "https://localhost:8080/",
          "height": 36
        },
        "id": "LIm6agC7eWuN",
        "outputId": "7a021b5a-9e05-4780-d582-4f75d7342388"
      },
      "outputs": [
        {
          "data": {
            "application/vnd.google.colaboratory.intrinsic+json": {
              "type": "string"
            },
            "text/plain": [
              "'X: 1\\nT:A and D\\n% Nottingham Music Database\\nS:EF\\nY:AB\\nM:4/4\\nK:A\\nM:6/8\\nP:A\\nf|\"A\"ecc c2f|\"A\"ecc c2f|\"A\"'"
            ]
          },
          "execution_count": 5,
          "metadata": {},
          "output_type": "execute_result"
        }
      ],
      "source": [
        "input_text [:100]"
      ]
    },
    {
      "cell_type": "markdown",
      "metadata": {
        "id": "4Vs-iPo6eV_t"
      },
      "source": [
        "# **4. Data Preprocessing**\n",
        "\n",
        "\n",
        "- In this step we will make the data into the desired format.\n",
        "- We will be converting each and every character into a integer.\n",
        "- Then we will create a dictionary of it."
      ]
    },
    {
      "cell_type": "code",
      "execution_count": 6,
      "metadata": {
        "id": "ZqW5Mn4HiIlz"
      },
      "outputs": [],
      "source": [
        "def generate_keys(text):\n",
        "    #Charecter to index dictionary\n",
        "    char_to_idx = {ch:idx for idx,ch in enumerate(sorted(list(set(text))))}\n",
        "\n",
        "    #Index to character dicrionary\n",
        "    idx_to_char = {idx:ch for ch,idx in char_to_idx.items()}\n",
        "\n",
        "    #Printing the charecter lengths\n",
        "    print(\"length of the  charecter to index \",len(char_to_idx))\n",
        "    print(\"length of the  index to charecter \",len(idx_to_char))\n",
        "    return char_to_idx,idx_to_char"
      ]
    },
    {
      "cell_type": "code",
      "execution_count": 7,
      "metadata": {
        "colab": {
          "base_uri": "https://localhost:8080/"
        },
        "id": "zLCUHyqtl0Vf",
        "outputId": "42f22df7-03c1-431a-bd52-97c749e8ed54"
      },
      "outputs": [
        {
          "name": "stdout",
          "output_type": "stream",
          "text": [
            "length of the  charecter to index  86\n",
            "length of the  index to charecter  86\n"
          ]
        }
      ],
      "source": [
        "# Genarating the charecter to index and index to charecter values\n",
        "char_to_idx, idx_to_char = generate_keys(input_text)"
      ]
    },
    {
      "cell_type": "markdown",
      "metadata": {
        "id": "zih4sOMCs1WR"
      },
      "source": [
        "# **5. Batch genaration**\n",
        "\n",
        "\n",
        "- In this section we will be genarating batches in order to train our model.\n",
        "- We can see that the **length is 129,665**\n",
        "- We will be using a **batch size of 16** and a **sequence length of 64**\n",
        "- Hence, the **number of batches** are going to be **((129,665/16)/ 64)** = 126\n",
        "- Now since it is a sequence data we will divide the 1st **8104 char in 126 batches** , each batches will have these char in the 1st row.\n",
        "- Similarly from **8105 - 16209th** chars will be divided into 126 batches (each batch will have 64 sequence) and will be added at the 2nd row of each batches\n",
        "- This is how at **8104th interval** we will take char and divide them into batches and put them in respective rows of batches\n",
        "- So we will have the **row wise continuation of the sequence** for different batches.  \n",
        "- In this way we can keep the sequence information in the text data."
      ]
    },
    {
      "cell_type": "code",
      "execution_count": 8,
      "metadata": {
        "colab": {
          "base_uri": "https://localhost:8080/",
          "height": 423
        },
        "id": "0CW6QX7CxMiV",
        "outputId": "fd263b56-2115-4f5f-e12f-b3c9ff9fa8bd"
      },
      "outputs": [
        {
          "data": {
            "text/html": [
              "\n",
              "\n",
              "  <div id=\"df-8cfe374a-81e2-4181-86d6-3eba5a14c972\">\n",
              "    <div class=\"colab-df-container\">\n",
              "      <div>\n",
              "<style scoped>\n",
              "    .dataframe tbody tr th:only-of-type {\n",
              "        vertical-align: middle;\n",
              "    }\n",
              "\n",
              "    .dataframe tbody tr th {\n",
              "        vertical-align: top;\n",
              "    }\n",
              "\n",
              "    .dataframe thead th {\n",
              "        text-align: right;\n",
              "    }\n",
              "</style>\n",
              "<table border=\"1\" class=\"dataframe\">\n",
              "  <thead>\n",
              "    <tr style=\"text-align: right;\">\n",
              "      <th></th>\n",
              "      <th>keys</th>\n",
              "      <th>values</th>\n",
              "    </tr>\n",
              "  </thead>\n",
              "  <tbody>\n",
              "    <tr>\n",
              "      <th>0</th>\n",
              "      <td>\\n</td>\n",
              "      <td>&lt;built-in method values of dict object at 0x7a...</td>\n",
              "    </tr>\n",
              "    <tr>\n",
              "      <th>1</th>\n",
              "      <td></td>\n",
              "      <td>&lt;built-in method values of dict object at 0x7a...</td>\n",
              "    </tr>\n",
              "    <tr>\n",
              "      <th>2</th>\n",
              "      <td>!</td>\n",
              "      <td>&lt;built-in method values of dict object at 0x7a...</td>\n",
              "    </tr>\n",
              "    <tr>\n",
              "      <th>3</th>\n",
              "      <td>\"</td>\n",
              "      <td>&lt;built-in method values of dict object at 0x7a...</td>\n",
              "    </tr>\n",
              "    <tr>\n",
              "      <th>4</th>\n",
              "      <td>#</td>\n",
              "      <td>&lt;built-in method values of dict object at 0x7a...</td>\n",
              "    </tr>\n",
              "    <tr>\n",
              "      <th>...</th>\n",
              "      <td>...</td>\n",
              "      <td>...</td>\n",
              "    </tr>\n",
              "    <tr>\n",
              "      <th>81</th>\n",
              "      <td>x</td>\n",
              "      <td>&lt;built-in method values of dict object at 0x7a...</td>\n",
              "    </tr>\n",
              "    <tr>\n",
              "      <th>82</th>\n",
              "      <td>y</td>\n",
              "      <td>&lt;built-in method values of dict object at 0x7a...</td>\n",
              "    </tr>\n",
              "    <tr>\n",
              "      <th>83</th>\n",
              "      <td>z</td>\n",
              "      <td>&lt;built-in method values of dict object at 0x7a...</td>\n",
              "    </tr>\n",
              "    <tr>\n",
              "      <th>84</th>\n",
              "      <td>|</td>\n",
              "      <td>&lt;built-in method values of dict object at 0x7a...</td>\n",
              "    </tr>\n",
              "    <tr>\n",
              "      <th>85</th>\n",
              "      <td>~</td>\n",
              "      <td>&lt;built-in method values of dict object at 0x7a...</td>\n",
              "    </tr>\n",
              "  </tbody>\n",
              "</table>\n",
              "<p>86 rows × 2 columns</p>\n",
              "</div>\n",
              "      <button class=\"colab-df-convert\" onclick=\"convertToInteractive('df-8cfe374a-81e2-4181-86d6-3eba5a14c972')\"\n",
              "              title=\"Convert this dataframe to an interactive table.\"\n",
              "              style=\"display:none;\">\n",
              "\n",
              "  <svg xmlns=\"http://www.w3.org/2000/svg\" height=\"24px\"viewBox=\"0 0 24 24\"\n",
              "       width=\"24px\">\n",
              "    <path d=\"M0 0h24v24H0V0z\" fill=\"none\"/>\n",
              "    <path d=\"M18.56 5.44l.94 2.06.94-2.06 2.06-.94-2.06-.94-.94-2.06-.94 2.06-2.06.94zm-11 1L8.5 8.5l.94-2.06 2.06-.94-2.06-.94L8.5 2.5l-.94 2.06-2.06.94zm10 10l.94 2.06.94-2.06 2.06-.94-2.06-.94-.94-2.06-.94 2.06-2.06.94z\"/><path d=\"M17.41 7.96l-1.37-1.37c-.4-.4-.92-.59-1.43-.59-.52 0-1.04.2-1.43.59L10.3 9.45l-7.72 7.72c-.78.78-.78 2.05 0 2.83L4 21.41c.39.39.9.59 1.41.59.51 0 1.02-.2 1.41-.59l7.78-7.78 2.81-2.81c.8-.78.8-2.07 0-2.86zM5.41 20L4 18.59l7.72-7.72 1.47 1.35L5.41 20z\"/>\n",
              "  </svg>\n",
              "      </button>\n",
              "\n",
              "\n",
              "\n",
              "    <div id=\"df-0f19bfd5-6469-40fa-bcad-dd48ff7ef6e6\">\n",
              "      <button class=\"colab-df-quickchart\" onclick=\"quickchart('df-0f19bfd5-6469-40fa-bcad-dd48ff7ef6e6')\"\n",
              "              title=\"Suggest charts.\"\n",
              "              style=\"display:none;\">\n",
              "\n",
              "<svg xmlns=\"http://www.w3.org/2000/svg\" height=\"24px\"viewBox=\"0 0 24 24\"\n",
              "     width=\"24px\">\n",
              "    <g>\n",
              "        <path d=\"M19 3H5c-1.1 0-2 .9-2 2v14c0 1.1.9 2 2 2h14c1.1 0 2-.9 2-2V5c0-1.1-.9-2-2-2zM9 17H7v-7h2v7zm4 0h-2V7h2v10zm4 0h-2v-4h2v4z\"/>\n",
              "    </g>\n",
              "</svg>\n",
              "      </button>\n",
              "    </div>\n",
              "\n",
              "<style>\n",
              "  .colab-df-quickchart {\n",
              "    background-color: #E8F0FE;\n",
              "    border: none;\n",
              "    border-radius: 50%;\n",
              "    cursor: pointer;\n",
              "    display: none;\n",
              "    fill: #1967D2;\n",
              "    height: 32px;\n",
              "    padding: 0 0 0 0;\n",
              "    width: 32px;\n",
              "  }\n",
              "\n",
              "  .colab-df-quickchart:hover {\n",
              "    background-color: #E2EBFA;\n",
              "    box-shadow: 0px 1px 2px rgba(60, 64, 67, 0.3), 0px 1px 3px 1px rgba(60, 64, 67, 0.15);\n",
              "    fill: #174EA6;\n",
              "  }\n",
              "\n",
              "  [theme=dark] .colab-df-quickchart {\n",
              "    background-color: #3B4455;\n",
              "    fill: #D2E3FC;\n",
              "  }\n",
              "\n",
              "  [theme=dark] .colab-df-quickchart:hover {\n",
              "    background-color: #434B5C;\n",
              "    box-shadow: 0px 1px 3px 1px rgba(0, 0, 0, 0.15);\n",
              "    filter: drop-shadow(0px 1px 2px rgba(0, 0, 0, 0.3));\n",
              "    fill: #FFFFFF;\n",
              "  }\n",
              "</style>\n",
              "\n",
              "    <script>\n",
              "      async function quickchart(key) {\n",
              "        const containerElement = document.querySelector('#' + key);\n",
              "        const charts = await google.colab.kernel.invokeFunction(\n",
              "            'suggestCharts', [key], {});\n",
              "      }\n",
              "    </script>\n",
              "\n",
              "      <script>\n",
              "\n",
              "function displayQuickchartButton(domScope) {\n",
              "  let quickchartButtonEl =\n",
              "    domScope.querySelector('#df-0f19bfd5-6469-40fa-bcad-dd48ff7ef6e6 button.colab-df-quickchart');\n",
              "  quickchartButtonEl.style.display =\n",
              "    google.colab.kernel.accessAllowed ? 'block' : 'none';\n",
              "}\n",
              "\n",
              "        displayQuickchartButton(document);\n",
              "      </script>\n",
              "      <style>\n",
              "    .colab-df-container {\n",
              "      display:flex;\n",
              "      flex-wrap:wrap;\n",
              "      gap: 12px;\n",
              "    }\n",
              "\n",
              "    .colab-df-convert {\n",
              "      background-color: #E8F0FE;\n",
              "      border: none;\n",
              "      border-radius: 50%;\n",
              "      cursor: pointer;\n",
              "      display: none;\n",
              "      fill: #1967D2;\n",
              "      height: 32px;\n",
              "      padding: 0 0 0 0;\n",
              "      width: 32px;\n",
              "    }\n",
              "\n",
              "    .colab-df-convert:hover {\n",
              "      background-color: #E2EBFA;\n",
              "      box-shadow: 0px 1px 2px rgba(60, 64, 67, 0.3), 0px 1px 3px 1px rgba(60, 64, 67, 0.15);\n",
              "      fill: #174EA6;\n",
              "    }\n",
              "\n",
              "    [theme=dark] .colab-df-convert {\n",
              "      background-color: #3B4455;\n",
              "      fill: #D2E3FC;\n",
              "    }\n",
              "\n",
              "    [theme=dark] .colab-df-convert:hover {\n",
              "      background-color: #434B5C;\n",
              "      box-shadow: 0px 1px 3px 1px rgba(0, 0, 0, 0.15);\n",
              "      filter: drop-shadow(0px 1px 2px rgba(0, 0, 0, 0.3));\n",
              "      fill: #FFFFFF;\n",
              "    }\n",
              "  </style>\n",
              "\n",
              "      <script>\n",
              "        const buttonEl =\n",
              "          document.querySelector('#df-8cfe374a-81e2-4181-86d6-3eba5a14c972 button.colab-df-convert');\n",
              "        buttonEl.style.display =\n",
              "          google.colab.kernel.accessAllowed ? 'block' : 'none';\n",
              "\n",
              "        async function convertToInteractive(key) {\n",
              "          const element = document.querySelector('#df-8cfe374a-81e2-4181-86d6-3eba5a14c972');\n",
              "          const dataTable =\n",
              "            await google.colab.kernel.invokeFunction('convertToInteractive',\n",
              "                                                     [key], {});\n",
              "          if (!dataTable) return;\n",
              "\n",
              "          const docLinkHtml = 'Like what you see? Visit the ' +\n",
              "            '<a target=\"_blank\" href=https://colab.research.google.com/notebooks/data_table.ipynb>data table notebook</a>'\n",
              "            + ' to learn more about interactive tables.';\n",
              "          element.innerHTML = '';\n",
              "          dataTable['output_type'] = 'display_data';\n",
              "          await google.colab.output.renderOutput(dataTable, element);\n",
              "          const docLink = document.createElement('div');\n",
              "          docLink.innerHTML = docLinkHtml;\n",
              "          element.appendChild(docLink);\n",
              "        }\n",
              "      </script>\n",
              "    </div>\n",
              "  </div>\n"
            ],
            "text/plain": [
              "   keys                                             values\n",
              "0    \\n  <built-in method values of dict object at 0x7a...\n",
              "1        <built-in method values of dict object at 0x7a...\n",
              "2     !  <built-in method values of dict object at 0x7a...\n",
              "3     \"  <built-in method values of dict object at 0x7a...\n",
              "4     #  <built-in method values of dict object at 0x7a...\n",
              "..  ...                                                ...\n",
              "81    x  <built-in method values of dict object at 0x7a...\n",
              "82    y  <built-in method values of dict object at 0x7a...\n",
              "83    z  <built-in method values of dict object at 0x7a...\n",
              "84    |  <built-in method values of dict object at 0x7a...\n",
              "85    ~  <built-in method values of dict object at 0x7a...\n",
              "\n",
              "[86 rows x 2 columns]"
            ]
          },
          "execution_count": 8,
          "metadata": {},
          "output_type": "execute_result"
        }
      ],
      "source": [
        "import pandas as pd\n",
        "pd.DataFrame({\"keys\":char_to_idx.keys(),\"values\":char_to_idx.values})"
      ]
    },
    {
      "cell_type": "code",
      "execution_count": 9,
      "metadata": {
        "id": "5Us8UJElqvxh"
      },
      "outputs": [],
      "source": [
        "# Here we are genarating respective batches to fit into the model\n",
        "def generate_batchs(T, vocab_size):\n",
        "    length = T.shape[0] # length = 129665\n",
        "    batch_char = int(length / batch_size);\n",
        "    for start in range(0, 126*64,64):\n",
        "        X = np.zeros((batch_size, batch_sequence))\n",
        "        Y = np.zeros((batch_size, batch_sequence, vocab_size))\n",
        "\n",
        "        # Getting each batch index and column index\n",
        "        for batch_index in range(0,batch_size):\n",
        "            for col_index in range(0,batch_sequence):\n",
        "              X[batch_index, col_index] = T[batch_char * batch_index + start + col_index]\n",
        "              Y[batch_index, col_index, T[batch_char * batch_index + start + col_index+1]] = 1\n",
        "        yield X,Y"
      ]
    },
    {
      "cell_type": "code",
      "execution_count": 10,
      "metadata": {
        "colab": {
          "base_uri": "https://localhost:8080/"
        },
        "id": "SAV_KWg3v6Ws",
        "outputId": "952fb7c8-4e84-46c1-83b6-864b134b8088"
      },
      "outputs": [
        {
          "data": {
            "text/plain": [
              "86"
            ]
          },
          "execution_count": 10,
          "metadata": {},
          "output_type": "execute_result"
        }
      ],
      "source": [
        "# Checking the size of the vocabulary\n",
        "vocab_size = len(char_to_idx)\n",
        "vocab_size"
      ]
    },
    {
      "cell_type": "markdown",
      "metadata": {
        "id": "_O4H5wvHeV_1"
      },
      "source": [
        "# **6. Modelling**\n",
        "- In this step we will be making the **deep learning model**.\n",
        "- We will train the model for a **100 epochs.**\n",
        "- After every **10** epochs we will save the respective weights into the **main directory**."
      ]
    },
    {
      "cell_type": "code",
      "execution_count": 11,
      "metadata": {
        "id": "IqGm2fO9A5JC"
      },
      "outputs": [],
      "source": [
        "# Defining a batch size of 16 and sequence length of 64\n",
        "batch_size = 16\n",
        "seq_len = 64\n",
        "batch_sequence = 64\n",
        "\n",
        "# Getting the model directory\n",
        "MODEL_DIR = '/content/'\n",
        "\n",
        "# Defining a function for saving weights\n",
        "def save_weights(epoch, model):\n",
        "    if not os.path.exists(MODEL_DIR):\n",
        "        os.makedirs(MODEL_DIR)\n",
        "    model.save_weights(os.path.join(MODEL_DIR, 'weights.{}.h5'.format(epoch)))\n",
        "\n",
        "# Defining a function for loading weights\n",
        "def load_weights(epoch, model):\n",
        "    model.load_weights(os.path.join(MODEL_DIR, 'weights.{}.h5'.format(epoch)))\n",
        "\n",
        "# Defing a function for model development\n",
        "def build_model(batch_size, seq_len, vocab_size):\n",
        "    model = Sequential()\n",
        "    model.add(Embedding(vocab_size,\n",
        "                        512,\n",
        "                        batch_input_shape=(batch_size, seq_len)))\n",
        "\n",
        "    for i in range(3):\n",
        "        model.add(LSTM(256, return_sequences=True, stateful=True))\n",
        "        model.add(Dropout(0.2))\n",
        "    ## Using Time Distributed Dense Layer for each return sequences\n",
        "    model.add(TimeDistributed(Dense(vocab_size)))\n",
        "    model.add(Activation('softmax'))\n",
        "    return model"
      ]
    },
    {
      "cell_type": "code",
      "execution_count": 12,
      "metadata": {
        "id": "KKCrgbc7BSK0"
      },
      "outputs": [],
      "source": [
        "# Defining a train function to train the model such that for every 10 epochs the model will return respective weights\n",
        "def train(text, epochs=100, save_freq=10):\n",
        "\n",
        "    #model_architecture\n",
        "    model = build_model(batch_size, batch_sequence, vocab_size)\n",
        "    print(model.summary())\n",
        "    model.compile(loss='categorical_crossentropy', optimizer='adam', metrics=['accuracy'])\n",
        "\n",
        "\n",
        "    #Train data generation\n",
        "    T = np.asarray([char_to_idx[c] for c in text], dtype=np.int32) #convert complete text into numerical indices\n",
        "\n",
        "    print(\"Length of text:\" + str(T.size)) #129,665\n",
        "\n",
        "    steps_per_epoch = (len(text) / batch_size - 1) / batch_sequence\n",
        "\n",
        "    for epoch in range(epochs):\n",
        "        print('\\nEpoch {}/{}'.format(epoch + 1, epochs))\n",
        "        losses, accs = [], []\n",
        "        for i, (X, Y) in enumerate(generate_batchs(T, vocab_size)):\n",
        "            loss, acc = model.train_on_batch(X, Y)\n",
        "            losses.append(loss)\n",
        "            accs.append(acc)\n",
        "        print('epoch {}: loss = {}, acc = {}'.format(epoch + 1, np.mean(loss), np.mean(acc)))\n",
        "\n",
        "\n",
        "        if (epoch + 1) % 10 == 0:\n",
        "            save_weights(epoch + 1, model)\n",
        "            print('Saved checkpoint to', 'weights.{}.h5'.format(epoch + 1))"
      ]
    },
    {
      "cell_type": "code",
      "execution_count": 13,
      "metadata": {
        "colab": {
          "base_uri": "https://localhost:8080/"
        },
        "id": "y68qFdoOCFQY",
        "outputId": "f76b145b-cc62-42d3-a7d0-725e47b0b21a"
      },
      "outputs": [
        {
          "name": "stdout",
          "output_type": "stream",
          "text": [
            "Model: \"sequential\"\n",
            "_________________________________________________________________\n",
            " Layer (type)                Output Shape              Param #   \n",
            "=================================================================\n",
            " embedding (Embedding)       (16, 64, 512)             44032     \n",
            "                                                                 \n",
            " lstm (LSTM)                 (16, 64, 256)             787456    \n",
            "                                                                 \n",
            " dropout (Dropout)           (16, 64, 256)             0         \n",
            "                                                                 \n",
            " lstm_1 (LSTM)               (16, 64, 256)             525312    \n",
            "                                                                 \n",
            " dropout_1 (Dropout)         (16, 64, 256)             0         \n",
            "                                                                 \n",
            " lstm_2 (LSTM)               (16, 64, 256)             525312    \n",
            "                                                                 \n",
            " dropout_2 (Dropout)         (16, 64, 256)             0         \n",
            "                                                                 \n",
            " time_distributed (TimeDistr  (16, 64, 86)             22102     \n",
            " ibuted)                                                         \n",
            "                                                                 \n",
            " activation (Activation)     (16, 64, 86)              0         \n",
            "                                                                 \n",
            "=================================================================\n",
            "Total params: 1,904,214\n",
            "Trainable params: 1,904,214\n",
            "Non-trainable params: 0\n",
            "_________________________________________________________________\n",
            "None\n",
            "Length of text:129665\n",
            "\n",
            "Epoch 1/100\n",
            "epoch 1: loss = 2.997722625732422, acc = 0.19140625\n",
            "\n",
            "Epoch 2/100\n",
            "epoch 2: loss = 2.1785714626312256, acc = 0.388671875\n",
            "\n",
            "Epoch 3/100\n",
            "epoch 3: loss = 1.9110685586929321, acc = 0.455078125\n",
            "\n",
            "Epoch 4/100\n",
            "epoch 4: loss = 1.6993744373321533, acc = 0.51171875\n",
            "\n",
            "Epoch 5/100\n",
            "epoch 5: loss = 1.5960729122161865, acc = 0.5380859375\n",
            "\n",
            "Epoch 6/100\n",
            "epoch 6: loss = 1.5142500400543213, acc = 0.552734375\n",
            "\n",
            "Epoch 7/100\n",
            "epoch 7: loss = 1.4852508306503296, acc = 0.5654296875\n",
            "\n",
            "Epoch 8/100\n",
            "epoch 8: loss = 1.4310919046401978, acc = 0.5625\n",
            "\n",
            "Epoch 9/100\n",
            "epoch 9: loss = 1.4039573669433594, acc = 0.6005859375\n",
            "\n",
            "Epoch 10/100\n",
            "epoch 10: loss = 1.380458116531372, acc = 0.5732421875\n",
            "Saved checkpoint to weights.10.h5\n",
            "\n",
            "Epoch 11/100\n",
            "epoch 11: loss = 1.3279880285263062, acc = 0.5966796875\n",
            "\n",
            "Epoch 12/100\n",
            "epoch 12: loss = 1.2914161682128906, acc = 0.61328125\n",
            "\n",
            "Epoch 13/100\n",
            "epoch 13: loss = 1.2779746055603027, acc = 0.6025390625\n",
            "\n",
            "Epoch 14/100\n",
            "epoch 14: loss = 1.2421691417694092, acc = 0.6201171875\n",
            "\n",
            "Epoch 15/100\n",
            "epoch 15: loss = 1.1860700845718384, acc = 0.6240234375\n",
            "\n",
            "Epoch 16/100\n",
            "epoch 16: loss = 1.162880778312683, acc = 0.638671875\n",
            "\n",
            "Epoch 17/100\n",
            "epoch 17: loss = 1.1725255250930786, acc = 0.6435546875\n",
            "\n",
            "Epoch 18/100\n",
            "epoch 18: loss = 1.1332707405090332, acc = 0.6484375\n",
            "\n",
            "Epoch 19/100\n",
            "epoch 19: loss = 1.1058435440063477, acc = 0.6513671875\n",
            "\n",
            "Epoch 20/100\n",
            "epoch 20: loss = 1.062051773071289, acc = 0.65234375\n",
            "Saved checkpoint to weights.20.h5\n",
            "\n",
            "Epoch 21/100\n",
            "epoch 21: loss = 1.0252162218093872, acc = 0.6728515625\n",
            "\n",
            "Epoch 22/100\n",
            "epoch 22: loss = 1.0196031332015991, acc = 0.671875\n",
            "\n",
            "Epoch 23/100\n",
            "epoch 23: loss = 0.9968703985214233, acc = 0.69140625\n",
            "\n",
            "Epoch 24/100\n",
            "epoch 24: loss = 0.9596560597419739, acc = 0.6884765625\n",
            "\n",
            "Epoch 25/100\n",
            "epoch 25: loss = 0.9456309080123901, acc = 0.6953125\n",
            "\n",
            "Epoch 26/100\n",
            "epoch 26: loss = 0.931683361530304, acc = 0.7099609375\n",
            "\n",
            "Epoch 27/100\n",
            "epoch 27: loss = 0.8987298011779785, acc = 0.7177734375\n",
            "\n",
            "Epoch 28/100\n",
            "epoch 28: loss = 0.9059547781944275, acc = 0.71875\n",
            "\n",
            "Epoch 29/100\n",
            "epoch 29: loss = 0.884110689163208, acc = 0.71875\n",
            "\n",
            "Epoch 30/100\n",
            "epoch 30: loss = 0.8670278191566467, acc = 0.7197265625\n",
            "Saved checkpoint to weights.30.h5\n",
            "\n",
            "Epoch 31/100\n",
            "epoch 31: loss = 0.8439992666244507, acc = 0.720703125\n",
            "\n",
            "Epoch 32/100\n",
            "epoch 32: loss = 0.8211318254470825, acc = 0.732421875\n",
            "\n",
            "Epoch 33/100\n",
            "epoch 33: loss = 0.8240060806274414, acc = 0.7275390625\n",
            "\n",
            "Epoch 34/100\n",
            "epoch 34: loss = 0.7742562890052795, acc = 0.7470703125\n",
            "\n",
            "Epoch 35/100\n",
            "epoch 35: loss = 0.7713339328765869, acc = 0.7470703125\n",
            "\n",
            "Epoch 36/100\n",
            "epoch 36: loss = 0.7914746403694153, acc = 0.744140625\n",
            "\n",
            "Epoch 37/100\n",
            "epoch 37: loss = 0.7326085567474365, acc = 0.765625\n",
            "\n",
            "Epoch 38/100\n",
            "epoch 38: loss = 0.7033222317695618, acc = 0.7744140625\n",
            "\n",
            "Epoch 39/100\n",
            "epoch 39: loss = 0.7166368961334229, acc = 0.7685546875\n",
            "\n",
            "Epoch 40/100\n",
            "epoch 40: loss = 0.6637253761291504, acc = 0.787109375\n",
            "Saved checkpoint to weights.40.h5\n",
            "\n",
            "Epoch 41/100\n",
            "epoch 41: loss = 0.665793776512146, acc = 0.8076171875\n",
            "\n",
            "Epoch 42/100\n",
            "epoch 42: loss = 0.6312235593795776, acc = 0.80078125\n",
            "\n",
            "Epoch 43/100\n",
            "epoch 43: loss = 0.6327177286148071, acc = 0.796875\n",
            "\n",
            "Epoch 44/100\n",
            "epoch 44: loss = 0.6177618503570557, acc = 0.8115234375\n",
            "\n",
            "Epoch 45/100\n",
            "epoch 45: loss = 0.6058251857757568, acc = 0.8115234375\n",
            "\n",
            "Epoch 46/100\n",
            "epoch 46: loss = 0.6085569262504578, acc = 0.8125\n",
            "\n",
            "Epoch 47/100\n",
            "epoch 47: loss = 0.5812312364578247, acc = 0.810546875\n",
            "\n",
            "Epoch 48/100\n",
            "epoch 48: loss = 0.5748057961463928, acc = 0.818359375\n",
            "\n",
            "Epoch 49/100\n",
            "epoch 49: loss = 0.5911530256271362, acc = 0.8037109375\n",
            "\n",
            "Epoch 50/100\n",
            "epoch 50: loss = 0.5569416284561157, acc = 0.8203125\n",
            "Saved checkpoint to weights.50.h5\n",
            "\n",
            "Epoch 51/100\n",
            "epoch 51: loss = 0.5664531588554382, acc = 0.8203125\n",
            "\n",
            "Epoch 52/100\n",
            "epoch 52: loss = 0.5105741024017334, acc = 0.8330078125\n",
            "\n",
            "Epoch 53/100\n",
            "epoch 53: loss = 0.5210562944412231, acc = 0.830078125\n",
            "\n",
            "Epoch 54/100\n",
            "epoch 54: loss = 0.49793776869773865, acc = 0.8369140625\n",
            "\n",
            "Epoch 55/100\n",
            "epoch 55: loss = 0.5003523230552673, acc = 0.8408203125\n",
            "\n",
            "Epoch 56/100\n",
            "epoch 56: loss = 0.4949682652950287, acc = 0.8359375\n",
            "\n",
            "Epoch 57/100\n",
            "epoch 57: loss = 0.5003835558891296, acc = 0.833984375\n",
            "\n",
            "Epoch 58/100\n",
            "epoch 58: loss = 0.47750887274742126, acc = 0.857421875\n",
            "\n",
            "Epoch 59/100\n",
            "epoch 59: loss = 0.5030230283737183, acc = 0.8447265625\n",
            "\n",
            "Epoch 60/100\n",
            "epoch 60: loss = 0.4687480032444, acc = 0.8486328125\n",
            "Saved checkpoint to weights.60.h5\n",
            "\n",
            "Epoch 61/100\n",
            "epoch 61: loss = 0.4601546823978424, acc = 0.8515625\n",
            "\n",
            "Epoch 62/100\n",
            "epoch 62: loss = 0.4467315971851349, acc = 0.853515625\n",
            "\n",
            "Epoch 63/100\n",
            "epoch 63: loss = 0.4405382573604584, acc = 0.853515625\n",
            "\n",
            "Epoch 64/100\n",
            "epoch 64: loss = 0.41467103362083435, acc = 0.8623046875\n",
            "\n",
            "Epoch 65/100\n",
            "epoch 65: loss = 0.42505544424057007, acc = 0.8583984375\n",
            "\n",
            "Epoch 66/100\n",
            "epoch 66: loss = 0.4373568594455719, acc = 0.857421875\n",
            "\n",
            "Epoch 67/100\n",
            "epoch 67: loss = 0.423236608505249, acc = 0.857421875\n",
            "\n",
            "Epoch 68/100\n",
            "epoch 68: loss = 0.43152403831481934, acc = 0.859375\n",
            "\n",
            "Epoch 69/100\n",
            "epoch 69: loss = 0.39391982555389404, acc = 0.8818359375\n",
            "\n",
            "Epoch 70/100\n",
            "epoch 70: loss = 0.41552790999412537, acc = 0.859375\n",
            "Saved checkpoint to weights.70.h5\n",
            "\n",
            "Epoch 71/100\n",
            "epoch 71: loss = 0.4005211889743805, acc = 0.8544921875\n",
            "\n",
            "Epoch 72/100\n",
            "epoch 72: loss = 0.37858837842941284, acc = 0.876953125\n",
            "\n",
            "Epoch 73/100\n",
            "epoch 73: loss = 0.37388014793395996, acc = 0.875\n",
            "\n",
            "Epoch 74/100\n",
            "epoch 74: loss = 0.4116376042366028, acc = 0.8515625\n",
            "\n",
            "Epoch 75/100\n",
            "epoch 75: loss = 0.38286834955215454, acc = 0.8720703125\n",
            "\n",
            "Epoch 76/100\n",
            "epoch 76: loss = 0.35546597838401794, acc = 0.8857421875\n",
            "\n",
            "Epoch 77/100\n",
            "epoch 77: loss = 0.3579232394695282, acc = 0.876953125\n",
            "\n",
            "Epoch 78/100\n",
            "epoch 78: loss = 0.39564812183380127, acc = 0.8603515625\n",
            "\n",
            "Epoch 79/100\n",
            "epoch 79: loss = 0.35681939125061035, acc = 0.8779296875\n",
            "\n",
            "Epoch 80/100\n",
            "epoch 80: loss = 0.3517772853374481, acc = 0.8720703125\n",
            "Saved checkpoint to weights.80.h5\n",
            "\n",
            "Epoch 81/100\n",
            "epoch 81: loss = 0.34017413854599, acc = 0.8837890625\n",
            "\n",
            "Epoch 82/100\n",
            "epoch 82: loss = 0.3501732349395752, acc = 0.880859375\n",
            "\n",
            "Epoch 83/100\n",
            "epoch 83: loss = 0.38136017322540283, acc = 0.87890625\n",
            "\n",
            "Epoch 84/100\n",
            "epoch 84: loss = 0.3693949580192566, acc = 0.8642578125\n",
            "\n",
            "Epoch 85/100\n",
            "epoch 85: loss = 0.3260147273540497, acc = 0.8896484375\n",
            "\n",
            "Epoch 86/100\n",
            "epoch 86: loss = 0.3216378092765808, acc = 0.88671875\n",
            "\n",
            "Epoch 87/100\n",
            "epoch 87: loss = 0.33543092012405396, acc = 0.884765625\n",
            "\n",
            "Epoch 88/100\n",
            "epoch 88: loss = 0.2970457673072815, acc = 0.904296875\n",
            "\n",
            "Epoch 89/100\n",
            "epoch 89: loss = 0.3059239089488983, acc = 0.890625\n",
            "\n",
            "Epoch 90/100\n",
            "epoch 90: loss = 0.3053736984729767, acc = 0.90625\n",
            "Saved checkpoint to weights.90.h5\n",
            "\n",
            "Epoch 91/100\n",
            "epoch 91: loss = 0.3240737318992615, acc = 0.8916015625\n",
            "\n",
            "Epoch 92/100\n",
            "epoch 92: loss = 0.29486188292503357, acc = 0.9013671875\n",
            "\n",
            "Epoch 93/100\n",
            "epoch 93: loss = 0.32090485095977783, acc = 0.900390625\n",
            "\n",
            "Epoch 94/100\n",
            "epoch 94: loss = 0.2745232880115509, acc = 0.9169921875\n",
            "\n",
            "Epoch 95/100\n",
            "epoch 95: loss = 0.28930163383483887, acc = 0.8984375\n",
            "\n",
            "Epoch 96/100\n",
            "epoch 96: loss = 0.28680992126464844, acc = 0.8955078125\n",
            "\n",
            "Epoch 97/100\n",
            "epoch 97: loss = 0.25926217436790466, acc = 0.9111328125\n",
            "\n",
            "Epoch 98/100\n",
            "epoch 98: loss = 0.2689107060432434, acc = 0.8994140625\n",
            "\n",
            "Epoch 99/100\n",
            "epoch 99: loss = 0.3169711232185364, acc = 0.892578125\n",
            "\n",
            "Epoch 100/100\n",
            "epoch 100: loss = 0.26995372772216797, acc = 0.908203125\n",
            "Saved checkpoint to weights.100.h5\n"
          ]
        }
      ],
      "source": [
        "train(input_text)"
      ]
    },
    {
      "cell_type": "markdown",
      "metadata": {
        "id": "J7Y1iNSs8evE"
      },
      "source": [
        "# **7. Music Genaration**\n",
        "- In this step we will genarate the **abc notes**.\n",
        "- Later on these notes will be put <a href=\"https://www.abcjs.net/abcjs-editor.html\">here</a>\n",
        "- Then we will be able to hear the **respective notes.**"
      ]
    },
    {
      "cell_type": "code",
      "execution_count": 14,
      "metadata": {
        "id": "Qa1q9w6EIY1B"
      },
      "outputs": [],
      "source": [
        "# Setting the data and the model directories respectively\n",
        "DATA_DIR = '/content/'\n",
        "MODEL_DIR = '/content/'"
      ]
    },
    {
      "cell_type": "code",
      "execution_count": 15,
      "metadata": {
        "id": "6FzJ7sAkIlJp"
      },
      "outputs": [],
      "source": [
        "# Save the weights into the respective model directory path with respective model names\n",
        "def save_weights(epoch, model):\n",
        "    if not os.path.exists(MODEL_DIR):\n",
        "        os.makedirs(MODEL_DIR)\n",
        "    model.save_weights(os.path.join(MODEL_DIR, 'weights.{}.h5'.format(epoch)))"
      ]
    },
    {
      "cell_type": "code",
      "execution_count": 16,
      "metadata": {
        "id": "vKUYFEgGYcxR"
      },
      "outputs": [],
      "source": [
        "# Loading the weights into the model\n",
        "def load_weights(epoch, model):\n",
        "    model.load_weights(os.path.join(MODEL_DIR, 'weights.{}.h5'.format(epoch)))"
      ]
    },
    {
      "cell_type": "code",
      "execution_count": 17,
      "metadata": {
        "id": "9VPIHq7WInXs"
      },
      "outputs": [],
      "source": [
        "# Building the test model with the given vocab size = 86\n",
        "def build_test_model(vocab_size):\n",
        "    model = Sequential()\n",
        "    model.add(Embedding(vocab_size,\n",
        "                        512,\n",
        "                        batch_input_shape=(1,1)))\n",
        "    for i in range(3):\n",
        "        model.add(LSTM(256,\n",
        "                       return_sequences=(i != 2),\n",
        "                       stateful=True))\n",
        "        model.add(Dropout(0.2))\n",
        "\n",
        "    model.add(Dense(vocab_size))\n",
        "    model.add(Activation('softmax'))\n",
        "    return model"
      ]
    },
    {
      "cell_type": "code",
      "execution_count": 18,
      "metadata": {
        "id": "l2AlyizAIrwl"
      },
      "outputs": [],
      "source": [
        "# Genarating the text corpus upon the test model\n",
        "def generate_music(epoch, num_char):\n",
        "    with open(os.path.join(DATA_DIR, 'char_to_idx.txt')) as f:\n",
        "        char_to_idx = json.load(f)\n",
        "\n",
        "    idx_to_char = dict(zip(char_to_idx.values(), char_to_idx.keys()))\n",
        "\n",
        "    # Feeding the pre-defined parameters\n",
        "    vocab_size = len(char_to_idx)\n",
        "    batch_size = 16\n",
        "    seq_len = 64\n",
        "\n",
        "    # calling the test model with vocab size = 86\n",
        "    model =  build_test_model(vocab_size)\n",
        "    load_weights(epoch, model)\n",
        "\n",
        "    sampled = []\n",
        "    batch = np.zeros((1, 1))\n",
        "    batch[0, 0] = np.random.randint(vocab_size)\n",
        "    for i in range(num_char):\n",
        "        if i ==0:\n",
        "            #Predicting for the respective batches and returning a flatten array\n",
        "            result = model.predict_on_batch(batch).ravel()\n",
        "            sample = np.random.choice(range(vocab_size), p=result)\n",
        "            sampled.append(idx_to_char[sample])\n",
        "        else:\n",
        "            #Reassigning the batch size as of the sample size\n",
        "            batch[0,0] = np.array([[sample]])\n",
        "\n",
        "            #Predicting for the respective batches and returning a flatten array\n",
        "            result = model.predict_on_batch(batch).ravel()\n",
        "            sample = np.random.choice(range(vocab_size), p=result)\n",
        "            sampled.append(idx_to_char[sample])\n",
        "    return ''.join(sampled)"
      ]
    },
    {
      "cell_type": "code",
      "execution_count": 19,
      "metadata": {
        "colab": {
          "base_uri": "https://localhost:8080/",
          "height": 36
        },
        "id": "6Z6azZLo8CBS",
        "outputId": "803b2db3-4703-400e-9033-915e5e85724c"
      },
      "outputs": [
        {
          "data": {
            "application/vnd.google.colaboratory.intrinsic+json": {
              "type": "string"
            },
            "text/plain": [
              "'/content/'"
            ]
          },
          "execution_count": 19,
          "metadata": {},
          "output_type": "execute_result"
        }
      ],
      "source": [
        "DATA_DIR"
      ]
    },
    {
      "cell_type": "code",
      "execution_count": 20,
      "metadata": {
        "id": "jyvZE4sj8LKj"
      },
      "outputs": [],
      "source": [
        "with open(os.path.join(DATA_DIR, 'char_to_idx.txt')) as f:\n",
        "    char_to_idx = json.load(f)"
      ]
    },
    {
      "cell_type": "code",
      "execution_count": 21,
      "metadata": {
        "colab": {
          "base_uri": "https://localhost:8080/",
          "height": 88
        },
        "id": "lrQaDmzDJ7Uf",
        "outputId": "dc8a78af-6db1-4b0b-df61-bad9686a1a6d"
      },
      "outputs": [
        {
          "data": {
            "application/vnd.google.colaboratory.intrinsic+json": {
              "type": "string"
            },
            "text/plain": [
              "'\"D7/d\"c2B|\"G\"G3 G2::\\n\"D\"Bcd \"A7\"aga|\"D\"dcd \"G7\"g2g|\"A\"e2B A2A|\"A\"A+m\"ct\"DEA d3|\"Am\"edc \"A7\"^AGF|\"D\"A3 \"D\"DAG|\"Dm\"A3 -A3:|\\nP:B\\ng/2e/2|\"G\"gaa d^fg|\"A\"=3g f2f/gc/2g/2A/2|eeB d2c/3|\"G\"gde d2d|\\n\"C7\"ggf af^e|\"A7\"c2B ABA|\"D\"FFF GGG|\"B7\"BBB G3|\\n\"G\"GBc \"E7\"ddd|\"C\"e3 d2:|\\n\\n\\nX: 369\\nT:Le Miergwrt\\'hi Poekos\\n% Nottingham Music Database\\nY:ABBB\\nS:Jio Bred. B9aly, via Phil Rowe\\nM:6/8\\nK:Am\\nE|\"D\"FGm gga|\"Am\"e2c ccB|\"Dm\"A2c |\"Bb\"ecB \"A\"AFD|\"G\"BEA \"A\"dBB|\"D\"d3 a2A|\"A7\"c2c \"G7\"D2F|\\n\"/\"AFA ee:|\\n\\n\\nX: 131\\nT:Ma\\'y M3ve\\'\\n% Nottingham '"
            ]
          },
          "execution_count": 21,
          "metadata": {},
          "output_type": "execute_result"
        }
      ],
      "source": [
        "generate_music(10, 512)"
      ]
    },
    {
      "cell_type": "markdown",
      "metadata": {
        "id": "gCcpV7Xm5gW0"
      },
      "source": [
        "### **Observation:**\n",
        "\n",
        "- This is the rendered output of the **input text corpus** that was given to the model.\n",
        "\n",
        "- This output we will copy and paste <a href=\"https://www.abcjs.net/abcjs-editor.html\">here!</a> and press the **Play button**\n"
      ]
    },
    {
      "cell_type": "markdown",
      "metadata": {
        "id": "jcq2hpAsSoSi"
      },
      "source": [
        "# **8. Applications**\n",
        "\n",
        "- This model can be used for in-house **music production systems.**\n",
        "- This can be widely used to automate **manual instruments.**\n",
        "- This can be also used to make **automatic VST(virtual studio toolkit) plugins**"
      ]
    },
    {
      "cell_type": "markdown",
      "metadata": {
        "id": "-EkLTGCbSvsm"
      },
      "source": [
        "# **10. Conclusion**\n",
        "\n",
        "\n",
        "- In this project an **Automatic music genaration system** was made from scratch.\n",
        "- Here, we recieved a **validation accuracy of 90%**.\n",
        "- This project can be widely used for **music production systems**\n",
        "- The only limitation of this model is that it is being trained with **very less data.**\n",
        "- However, while getting trained on various intrument data this model can be further enhanced for different instruments as well.\n"
      ]
    }
  ],
  "metadata": {
    "accelerator": "GPU",
    "colab": {
      "gpuType": "T4",
      "provenance": []
    },
    "kernelspec": {
      "display_name": "Python 3",
      "name": "python3"
    },
    "language_info": {
      "codemirror_mode": {
        "name": "ipython",
        "version": 3
      },
      "file_extension": ".py",
      "mimetype": "text/x-python",
      "name": "python",
      "nbconvert_exporter": "python",
      "pygments_lexer": "ipython3",
      "version": "3.7.6"
    }
  },
  "nbformat": 4,
  "nbformat_minor": 0
}
